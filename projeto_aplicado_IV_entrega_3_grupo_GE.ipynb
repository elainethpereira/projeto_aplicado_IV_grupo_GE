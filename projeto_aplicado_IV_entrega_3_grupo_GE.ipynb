{
  "nbformat": 4,
  "nbformat_minor": 0,
  "metadata": {
    "kernelspec": {
      "display_name": "Python 3",
      "language": "python",
      "name": "python3"
    },
    "language_info": {
      "codemirror_mode": {
        "name": "ipython",
        "version": 3
      },
      "file_extension": ".py",
      "mimetype": "text/x-python",
      "name": "python",
      "nbconvert_exporter": "python",
      "pygments_lexer": "ipython3",
      "version": "3.7.4"
    },
    "colab": {
      "provenance": [],
      "include_colab_link": true
    }
  },
  "cells": [
    {
      "cell_type": "markdown",
      "metadata": {
        "id": "view-in-github",
        "colab_type": "text"
      },
      "source": [
        "<a href=\"https://colab.research.google.com/github/elainethpereira/projeto_aplicado_IV_grupo_GE/blob/main/projeto_aplicado_IV_entrega_3_grupo_GE.ipynb\" target=\"_parent\"><img src=\"https://colab.research.google.com/assets/colab-badge.svg\" alt=\"Open In Colab\"/></a>"
      ]
    },
    {
      "cell_type": "markdown",
      "metadata": {
        "id": "80CF3Eq9EXDW"
      },
      "source": [
        "  <img src=\"https://raw.githubusercontent.com/scalabrinig/cdProjetoAplicadoIV/d093146488f56dfcf0ef286bcee8efe0e71b9c76/figuras/mackenzie_logo.jpg\" width=\"25%\" align=\"right\"/>\n",
        "\n",
        "# **PROJETO APLICADO IV - Ciência de Dados EaD - 2024/02**\n",
        "\n",
        "\n",
        "# **Entrega 3**\n",
        "\n",
        "---"
      ]
    },
    {
      "cell_type": "markdown",
      "metadata": {
        "id": "40b90843"
      },
      "source": [
        "##Estudo sobre Séries Temporais e Machine Learning para a Identificação e Redução de Emissões de Gases de Efeito Estufa (GEE) no Brasil\n",
        "---"
      ]
    },
    {
      "cell_type": "code",
      "metadata": {
        "id": "rYx9D4GZA5o9",
        "cellView": "form"
      },
      "source": [
        "#@title **Identificação do Grupo e Opção do Projeto**\n",
        "\n",
        "#@markdown Integrantes do Grupo, nome completo em ordem alfabética (*informe: \\<nome\\>, \\<matrícula\\>*)\n",
        "Aluno1 = 'Elaine Thamires Pereira, RA 10408284' #@param {type:\"string\"}\n",
        "Aluno2 = 'Giovana Vieira da Silva, RA 10408509' #@param {type:\"string\"}"
      ],
      "execution_count": 3,
      "outputs": []
    },
    {
      "cell_type": "markdown",
      "source": [
        "# **Introdução**\n",
        "\n",
        "Os gases de efeito estufa são considerados pelo mundo um dos grandes agentes de mudanças climáticas globais, afetando ecossistemas, economias e comunidades ao redor do mundo. O Brasil, por sua vez, com economia emergente e com uma imensa área florestal, atua continuamente na tentativa de reduzir as emissões de gases de efeito estufa (GEE), apesar de ser o sexto maior emissor climático do mundo (Energia e Ambiente, 2023). Em 2021, o Brasil apresentou o segundo maior aumento de emissões de GEE em quase duas décadas, alcançando 2,4 bilhões de toneladas brutas. Dessa forma, esses dados demonstram a urgência de ações conjuntas para diminuir as emissões, especialmente nos setores mais críticos da economia brasileira (SEEG, 2023).\n",
        "\n",
        "O aumento das emissões no Brasil está ligado a setores como agricultura, produção de energia e mudanças no uso do solo, que juntos constituem o centro das atividades econômicas que mais impactam as emissões de gases de efeito estufa no país. Essa situação também ameaça biomas nacionais, como a Amazônia e o Cerrado, que enfrentam pressões constantes e agravadas pelo crescimento das emissões (SEEG, 2023).\n",
        "\n",
        "Entre as consequências das emissões de GEE estão os eventos climáticos extremos, como ondas de calor, secas intensas, inundações e furacões. Dados do Painel Intergovernamental sobre Mudanças Climáticas (IPCC, 2021) indicam que esses eventos podem desestabilizar sistemas alimentares, agravar a escassez de água, reduzir a biodiversidade e aumentar a incidência de doenças. Além disso, doenças transmitidas por vetores, como malária e dengue, podem se espalhar com maior rapidez devido ao aumento de temperatura, chuvas e umidade (Nahur, 2014).\n",
        "\n",
        "Se o mundo quiser manter o aquecimento abaixo de 1,5°C em relação aos níveis pré-industriais, será necessário cortar pela metade as emissões de GEE até 2030. Com base nas Contribuições Nacionalmente Determinadas atuais, submetidas no âmbito do Acordo de Paris, as emissões de gases de efeito estufa levariam a um aquecimento de 2,7°C até o final do século, em um cenário que poderia ter implicações desastrosas para os ecossistemas e o bem-estar da sociedade. Segundo Radka (2023), as emissões de gases de efeito estufa causadas pelo homem ameaçam a saúde humana e ambiental, causando danos cada vez maiores e perigosos caso não seja feita uma forte intervenção climática.\n",
        "\n",
        "A ciência climática estipula que os próximos anos marcarão um ponto de inflexão no futuro do planeta e qualquer habilidade em prever emissões setoriais futuras e identificar os principais contribuintes será primordial para orientar políticas eficientes. As ações de mitigação devem ser baseadas, portanto, em dados sólidos e análises detalhadas que permitam ao Brasil e ao restante do mundo alinhar suas rotas de desenvolvimento com os objetivos globais de sustentabilidade. Diante disso, é fundamental obter uma compreensão detalhada dos setores responsáveis pelas maiores emissões e antecipar tendências futuras para guiar políticas públicas e nortear possíveis estratégias de redução mais eficazes.\n",
        "\n",
        "Assim sendo, este projeto consiste em desenvolver ferramentas analíticas direcionadas à previsão de emissões futuras e à identificação dos setores que mais contribuem para essas emissões no Brasil. Com o uso de técnicas de aprendizado de máquina e análise de séries temporais, o objetivo é oferecer informações que auxiliem na elaboração de políticas públicas e estratégias voltadas para a redução das emissões.\n",
        "\n",
        "As mudanças climáticas vêm causando transformações imprevisíveis e alcançando cada vez mais números alarmantes em todo o planeta. A urgência em mitigar os GEE vem sendo pauta de acordos internacionais e discussões éticas ao longo de anos. Segundo o relatório publicado em 2023 pela UNEP, o mundo vivencia uma preocupante aceleração em números de escala records de temperaturas. A previsão é que 2023 chegaria a temperaturas superiores a 1,5°C e chegou a alcançar 1,8°C na média térmica, sendo o mês de setembro de 2023 o mês mais quente registrado na história.\n",
        "\n",
        "O aumento da temperatura global e as mudanças climáticas trazem uma série de problemas graves que afetam diretamente a sociedade e o meio ambiente (IPAM, 2024). Entre eles, destaca-se o aumento da frequência e intensidade de eventos climáticos extremos, como enchentes, tempestades e secas, impactando a segurança hídrica e alimentar, além de agravar desastres naturais. Outro problema significativo é a perda da cobertura de gelo nos polos, contribuindo para o aumento do nível do mar e alterações nos ecossistemas marinhos e terrestres. Mudanças na disponibilidade de recursos hídricos e na agricultura, como a diminuição das chuvas em regiões tropicais e subtropicais, também agravam a vulnerabilidade alimentar, principalmente em países em desenvolvimento.\n",
        "\n",
        "Diante desse cenário, estudar meios de mitigar os danos causados pelas mudanças climáticas e pelas emissões de GEEs se torna uma obrigação de todos nós que vivemos em sociedade. A crescente pressão ambiental exige uma ação coletiva e consciente, que não apenas responsabilize governos e empresas, mas também cada cidadão em suas escolhas e hábitos diários. O avanço da ciência e da tecnologia nos proporciona ferramentas valiosas para compreender a dimensão desses problemas e nos motiva a desenvolver soluções cada vez mais eficazes. Portanto, é nosso dever, enquanto parte integrante da sociedade, buscar continuamente alternativas para reduzir nosso impacto ambiental e colaborar com a construção de um futuro mais sustentável e equilibrado.\n",
        "\n",
        "Especificamente no contexto brasileiro, o país é o quinto colocado no hanking de países mais poluentes, e  os dados mostram duas preocupantes tendências de aumento nas emissões de gases de efeito estufa. Desde 2010, quando a Política Nacional sobre Mudança do Clima estabeleceu metas de redução, o Brasil aumentou suas emissões em 23,2%, o que coloca o país em desvantagem para cumprir sua Contribuição Nacionalmente Determinada no Acordo de Paris. Apesar da recessão causada pela pandemia em 2020 onde atingiu uma redução significativa nas emissões de GEE, com um total de 1.675,76 milhões de toneladas de CO₂ equivalente (CO2e), representando uma redução de 48,2% em relação às projeções iniciais de 3.236 milhões de toneladas para o ano, as emissões continuaram a subir, principalmente devido às atividades rurais, que representam 73% das emissões nacionais, e à especulação com terras, (Potenza et al. 2021)\n",
        "\n",
        "Esse cenário destaca a necessidade de ações estratégicas e políticas públicas robustas para reduzir ainda mais as emissões nacionais. Justifica-se, portanto, a relevância deste projeto no contexto brasileiro, onde o estudo das mudanças climáticas e suas implicações regionais são fundamentais para o planejamento estratégico e a tomada de decisões por parte do poder público e da sociedade. A modelagem de séries temporais surge como uma ferramenta para fornecer informações sobre as tendências futuras de emissões de CO2e, permitindo uma visão clara e científica sobre o comportamento das emissões ao longo do tempo.\n",
        "\n",
        "Ao identificar setores econômicos que mais contribuem para as emissões de GEE, este estudo visa colaborar diretamente para desenvolvimento sustentável (ODS), alinhados às diretrizes da Organização das Nações Unidas (ONU) podendo fornecer subsídios para a criação de estratégias mais eficazes e direcionadas, auxiliando o Brasil a alcançar suas metas de redução de emissões e contribuindo para a preservação ambiental e o bem-estar da sociedade.\n",
        "\n",
        "O objetivo deste projeto é utilizar técnicas de aprendizado de máquina para identificar os setores econômicos que mais contribuem para as emissões de gases de efeito estufa no Brasil para realizar uma previsão de seu potencial crescimento e, com base nas previsões obtidas, propor medidas de melhorias para políticas públicas, direcionando esforços e recursos para os setores mais críticos. Ao identificar os maiores emissores, as autoridades podem desenvolver estratégias mais eficazes para mitigar as emissões, investindo em novas tecnologias, promovendo um impacto significativo na luta contra as mudanças climáticas e contribuindo para o desenvolvimento sustentável do planeta.\n",
        "\n",
        "Especificamente, realizar a Coleta, pré-processamento e exploração de dados no SEEG. Seleção de recursos a serem direcionados com modelos de aprendizado de máquina, que serão utilizados para a análise de emissões por setor.\n",
        "Construir um modelo de Machine Learning a partir de análises passadas para criar projeções da evolução das emissões nos principais setores produtivos.\n",
        "Avaliação e reavaliação do modelo final, incluindo ajuste de parâmetros e validação da precisão das previsões.\n",
        "Publicar e apresentar os resultados dos modelos em um formato compreensível para pesquisadores, tomadores de decisão e público. Discussão e propostas de melhorias e estratégias que poderiam ser consideradas para mitigar os impactos das emissões nos setores de maior contribuição."
      ],
      "metadata": {
        "id": "jx4u5FY-6UEp"
      }
    },
    {
      "cell_type": "markdown",
      "source": [
        "# **Referencial Teórico**\n",
        "\n",
        "Para a Organização Mundial de Saúde (OMS), a exposição à poluição do ar é a maior responsável pela causa de milhões de mortes anuais, especialmente em países com menos recursos. De acordo com Silva e Arbilla (2022), atualmente, as doenças e a mortalidade causadas pela poluição do ar são consideradas o maior risco ambiental à saúde humana, comparáveis aos problemas decorrentes da alimentação inadequada e do tabagismo.\n",
        "\n",
        "Os GEE são substâncias químicas que podem ser encontradas na atmosfera, que conseguem absorver calor da radiação infravermelha emitida pela superfície da Terra, por esse meio, contribuindo para o aquecimento do planeta (IPCC, 2021). De longe, os GEE abundantes incluem o dióxido de carbono (CO₂), o metano (CH₄), o óxido nitroso (N₂O) e os gases fluorados. Eles são medidos em termos de concentração em partes por milhão (ppm) ou partes por bilhão (ppb). A medição desses gases é indispensável para a compreensão das mudanças climáticas, viabilizando a análise de séries temporais que mostram tendências e oscilações no tempo. A questão sobre a qualidade do ar está incluída nos ODS (Objetivos De Desenvolvimento Sustentável) principalmente no que diz respeito a saúde, energia, e qualidade de vida (SILVA E ARBILLA, 2022), logo, dados desse tipo são de grande relevância para a formulação de políticas ambientais, estratégias de mitigação relacionadas aos efeitos das mudanças climáticas e para estudos, como este, de análises envolvendo dados relacionados a temas de impactos ambientais.\n",
        "\n",
        "No contexto da aplicação de séries temporárias para investigar a crescente preocupação com as mudanças climáticas e a necessidade de entender e prever as tendências de emissões de CO₂, o estudo de Yiqi Luo (2023) fornece uma análise comparativa interessante, onde o autor aplicou três modelos de previsão de séries temporais diferentes — ARIMA, Prophet e LSTM — para prever as emissões futuras de CO₂ com base em dados históricos de 1750 a 2017. Conforme indicado pelos menores erros absolutos médios (MAE), o modelo ARIMA apresentou um MAE de\n",
        "1.86×10^10, o Prophet teve um MAE de 1.39×10^10 enquanto o modelo LSTM foi o mais preciso, com um MAE de 1.26×10^10. Esses resultados indicam que, embora todos os modelos tenham mostrado previsões aceitáveis, o modelo LSTM, baseado em aprendizado de máquina, demonstrou maior precisão comparado aos modelos convencionais\n",
        "\n",
        "Outra abordagem interessante e também encontrada na literatura recente é a de Mattei e Cunha (2020), que investigam as emissões líquidas de GEE no Brasil no período de 1990 a 2017. Os dados utilizados foram coletados de diversas fontes, incluindo o Sistema de Estimativa da Emissão de Gases do Efeito Estufa (SEEG), o Instituto Brasileiro de Geografia e Estatística (IBGE) e o Departamento Nacional de Trânsito (DENATRAN). A metodologia aplicada inclui testes de raiz unitária, como Dickey-Fuller, Dickey-Fuller Aumentado, Phillips-Perron e ADF-GLS, para verificar a estacionariedade das variáveis. Após a identificação da ordem de integração, foram realizados testes de cointegração, como Johansen e Engle-Granger, que confirmaram a presença de cointegração entre as variáveis. Com as variáveis identificadas como cointegradas, foi estimado um modelo de correção de erros (VEC), permitindo capturar as relações de longo prazo e a dinâmica de curto prazo.\n",
        "\n",
        "O trabalho de Bisognin e Werner (2018) também contribui para o embasamento deste estudo, ao explorar a dinâmica das emissões de CO₂ nos Estados Unidos, China e Brasil entre 1960 e 2013 e se baseia na coleta e análise de dados históricos de emissões de CO₂ per capita de três países extraídos da base de dados do World Bank Group. Utilizando tanto o modelo ARIMA quanto a suavização exponencial de Holt, o estudo dividiu os dados em períodos de ajuste e validação, garantindo uma avaliação mais rigorosa da acurácia dos modelos. Para a análise preliminar, os dados foram representados graficamente, facilitando a identificação de padrões e tendências nas séries temporais e acurácia dos modelos foi avaliada através de métricas como a média dos erros percentuais absolutos (MAPE) e a raiz quadrada da média dos erros quadráticos (RMSE). Os resultados esperados incluem previsões das emissões de CO₂ para os anos de 2020, 2025 e 2030, corroborando a importância da adoção de medidas efetivas na redução das emissões de gases de efeito estufa.\n",
        "\n",
        "Concluímos que, com base nos estudos analisados, optamos por aplicar os modelos Holt, ARIMA e Prophet à nossa base de dados para prever as emissões de gases de efeito estufa e identificar o setor com maior contribuição para essas emissões. A escolha desses modelos se justifica pelos resultados promissores apresentados em estudos anteriores, que demonstraram sua eficácia na análise e previsão de séries temporais relacionadas às emissões de gases, possibilitando assim uma abordagem sólida e consistente para alcançar os objetivos desta pesquisa.\n",
        "\n"
      ],
      "metadata": {
        "id": "5t_X-um-7n1T"
      }
    },
    {
      "cell_type": "markdown",
      "source": [
        "# **Diagrama de Solução**\n",
        "\n",
        "O pipeline de dados foi organizado de maneira a fim de atingir os objetivos do trabalho atual e baseado nos artigos correlatos. Para isso, após a aquisição dos dados, procede-se com o pré-processamento, nele inclui a limpeza e tratamento de variáveis faltantes, além da normalização da variável “emissao” e transformação de variáveis (dados categóricos), se necessário.\n",
        "\n",
        "Em seguida, será realizada a análise exploratória desses dados, com o intuito de identificar tendências e o comportamento das features, através da aplicação de estatísticas básicas. Nesta etapa também é incluída a plotagem de alguns gráficos para melhor compreensão e relação dos dados.\n",
        "\n",
        "Depois, para a modelagem, as técnicas abrangem modelos estatísticos e modelos de aprendizado de máquina, sendo elas: suavização Exponencial de Holt, ARIMA e Prophet. Nesse sentido, com base nos trabalhos referenciados, o propósito é comparar o desempenho desses modelos, tendo em vista o tipo de série temporal retratada, com características de crescimento exponencial, sem estacionalidade e sem sazonalidade.\n",
        "\n",
        "Por último, a avaliação dos modelos será realizada utilizando métricas como RMSE, MAE e MAPE, que permitirão medir o desempenho e a precisão das previsões geradas. Em resumo, as conclusões finais envolverão discussões sobre os resultados obtidos, além de sugestões para trabalhos futuros, culminando em uma síntese das descobertas do projeto.\n",
        "\n",
        "\n",
        "# **Pipeline da Solução**\n",
        "\n",
        "O pipeline de dados foi organizado de maneira a fim de atingir os objetivos do trabalho atual e baseado nos artigos correlatos. Para isso, após a aquisição dos dados, procede-se com o pré-processamento, nele inclui a limpeza e tratamento de variáveis faltantes, além da normalização da variável “emissao” e transformação de variáveis (dados categóricos), se necessário.\n",
        "\n",
        "Em seguida, será realizada a análise exploratória desses dados, com o intuito de identificar tendências e o comportamento das features, através da aplicação de estatísticas básicas. Nesta etapa também é incluída a plotagem de alguns gráficos para melhor compreensão e relação dos dados.\n",
        "\n",
        "Depois, para a modelagem, as técnicas abrangem modelos estatísticos e modelos de aprendizado de máquina, sendo elas: suavização Exponencial de Holt, ARIMA e Prophet. Nesse sentido, com base nos trabalhos referenciados, o propósito é comparar o desempenho desses modelos, tendo em vista o tipo de série temporal retratada, com características de crescimento exponencial, sem estacionalidade e sem sazonalidade.\n",
        "\n",
        "Por último, a avaliação dos modelos será realizada utilizando métricas como RMSE, MAE e MAPE, que permitirão medir o desempenho e a precisão das previsões geradas. Em resumo, as conclusões finais envolverão discussões sobre os resultados obtidos, além de sugestões para trabalhos futuros, culminando em uma síntese das descobertas do projeto.\n",
        "\n",
        "\n",
        "![Pipeline Proj IV.png](data:image/png;base64,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)\n",
        "\n",
        "\n"
      ],
      "metadata": {
        "id": "mLIXqlmC9gu_"
      }
    },
    {
      "cell_type": "markdown",
      "source": [
        "# **Descrição da base de dados**\n",
        "A base de dados foi obtida através do site Base dos Dados, uma organização sem fins lucrativos e open source. Os dados explorados pertencem ao Sistema de Estimativas de Emissões e Remoções de Gases de Efeito Estufa, o SEEG, o qual é uma aplicação do Observatório do Clima (OC) que apresenta estimativas anuais detalhadas das emissões nos principais setores responsáveis ​​pela poluição climática no país.\n",
        "\n",
        "O conjunto de dados dispõe de 454.850 registros no total e uma cobertura temporal datada entre 1970 e 2019, abrangendo 12 variáveis listadas abaixo:\n",
        "\n",
        "“ano” — Representa o ano em que os dados foram coletados.\n",
        "“nivel_1” a “nivel_6” — Essas variáveis classificam as emissões em diferentes níveis setoriais. Começando pelo setor mais amplo até uma descrição mais detalhada em cada setor, facilitando a análise hierárquica das emissões. Exemplo: “nivel_1” sendo energia, agropecuária, mudança de uso da terra e floresta, já “nivel_6” sendo arroz, gado de corte, caminhões, embarcações, etc.\n",
        "“tipo_emissao” — Refere-se ao tipo de emissão de GEE.\n",
        "“gas” — Refere-se ao tipo de gás de efeito estufa emitido, como dióxido de carbono (CO₂), metano (CH₄), óxido nitroso (N₂O), etc.\n",
        "“atividade_economica” — Relaciona-se às atividades econômicas que contribuem para as emissões, como agricultura, transporte ou indústria, por exemplo, produção de combustível, cimento, pecuária, transporte de passageiros e de carga, entre outras.\n",
        "“produto” — Identifica o produto resultante das atividades econômicas relacionadas à emissão, como carne, alimentos e bebidas, aço, entre outros.\n",
        "“emissao” — Variável numérica que quantifica, em toneladas, o volume total de GEE que entra na atmosfera.\n",
        "Em relação à confiabilidade e à precisão desses dados, é válido enunciar que a metodologia do SEEG segue as recomendações do Inventário Brasileiro de Emissões e Remoções Antrópicas de Gases de Efeito Estufa, elaborado pelo Ministério da Ciência, Tecnologia e Inovação (MCTI), e a partir das orientações baseadas no Painel Intergovernamental sobre Mudanças Climáticas (IPCC). A construção das estimativas de emissões é baseada em dados obtidos de diversas fontes: relatórios de entidades governamentais, instituições de pesquisa, agências setoriais e organizações não governamentais. Quando disponíveis, o SEEG utiliza fontes de dados públicas e gratuitas para a transparência do processo de cálculo e permite a qualquer interessado a reprodução dos mesmos. Contudo, essa abordagem metodológica confere à estimativa padrões internacionais e adequação às especificidades brasileiras."
      ],
      "metadata": {
        "id": "yoqhpyMeaiin"
      }
    },
    {
      "cell_type": "markdown",
      "source": [
        "#**Metodologia**\n",
        "\n",
        "Segundo Morettin e Tolei (2004), o objetivo de uma série temporal é prever valores futuros da série, podendo ser em curto prazo, como em casos de séries de vendas, produção ou estoque, ou em longo prazo, como em séries de produtividade e outras variáveis de interesse. Além disso, uma análise de série temporal permite descrever o comportamento da série, identificar tendências, ciclos e variações sazonais, e é essencial para detectar periodicidades relevantes nos dados.\n",
        "1. Coleta e Organização dos Dados:\n",
        "Os dados utilizados neste projeto foram obtidos pelo Sistema de Estimativas de Emissões de Gases de Efeito Estufa (SEEG) do Observatório do Clima. O SEEG considera diversos gases de efeito estufa como dióxido de carbono, metano, óxido nitroso e hidrofluorocarbonetos e apresenta seus parâmetros de emissão de gases  por diferentes setores da economia. O conjunto de dados inicial continha inconsistências e valores ausentes que precisaram ser tratados no pré-processamento para garantir a integridade da análise. As emissões de CO2 foram medidas em toneladas por setor, permitindo uma comparação clara entre os diferentes setores ao longo do tempo.\n",
        "2. Pré-processamento dos Dados:\n",
        "O pré-processamento dos dados foi uma etapa crítica para garantir a qualidade e a adequação do conjunto de dados antes da aplicação dos modelos de previsão. Esta fase envolveu as seguintes sub-etapas:\n",
        "3.Limpeza de Dados:\n",
        "\n",
        "*   Detecção e tratamento de valores ausentes: foram identificados e removidos. Em alguns casos, a interpolação foi usada para preencher valores faltantes, especialmente quando as lacunas eram pequenas.\n",
        "*   Remoção de outliers: Para evitar que valores extremos distorcessem as previsões, foi utilizada a técnica do desvio interquartil (IQR) para detectar e remover outliers. Outliers foram definidos como valores acima de Q3+1.5×IQRQ3 ou abaixo de Q1−1.5×IQRQ1 - 1.5.\n",
        "\n",
        "4. Normalização dos Dados\n",
        "Os dados foram normalizados para garantir que as emissões entre os diferentes setores fossem comparáveis, independentemente de escala. A normalização foi realizada utilizando o método Z-score, que transforma os dados para que tenham uma média zero e desvio padrão 1, permitindo que todos os setores fossem analisados sob a mesma escala.\n",
        "\n",
        "# **Modelagem Preditiva**\n",
        "**Modelo ARIMA**\n",
        "\n",
        "Foi considerado o estudo do modelo AutoRegressive Integrated Moving Average (ARIMA) devido à sua robustez na modelagem de séries temporais, sua ampla divulgação e utilização (MORETTIN e TOLOI, 2004) e capacidade de capturar tanto padrões passados quanto variações aleatórias na série. Esse modelo é composto de três componentes: o autorregressivo (AR), que utiliza uma relação linear entre valores passados e o valor atual da série; a integração (I), que diferencia a série temporal para torná-la estacionária, eliminando tendências de longo prazo; e a média móvel (MA), que ajusta o valor atual com base nos erros de previsões passadas.\n",
        "A fórmula geral do modelo ARIMA é expressa como:\n",
        "\n",
        "Yt=c+ϕ1Yt-1+ϕ2Yt-2+⋯+ϕpYt-p+θ1et-1+θ2et-2+⋯+θqet-q+ϵt\n",
        "\n",
        "Onde:\n",
        "\n",
        "\tYt é o valor previsto da série temporal no instante t,\n",
        "\tϕi são os coeficientes de autoregressão,\n",
        "\tθi são os coeficientes da média móvel,\n",
        "\te_t é o erro no tempo t,\n",
        "\t∈_t  é um termo de erro aleatório.\n",
        "\n",
        "Para cada setor, foi testada uma combinação de parâmetros ARIMA (p, d, q), onde:\n",
        "\n",
        "\tp: Ordem do componente autoregressivo.\n",
        "\td: Número de diferenciações aplicadas para tornar a série estacionária.\n",
        "\tq: Ordem do componente de média móvel.\n",
        "\n",
        "Para aplicar o ARIMA corretamente, é essencial que a série seja estacionária, o que implica que suas propriedades estatísticas, como média e variância, devem ser constantes ao longo do tempo.\n",
        "A verificação da estacionariedade foi realizada por meio do Teste de Dickey-Fuller Aumentado (ADF), que testa a hipótese nula de que a série possui uma raiz unitária (não é estacionária). Quando o p-valor obtido é menor que 0,05, a hipótese nula é rejeitada, indicando que a série é estacionária e, portanto, adequada para o uso do ARIMA. Caso a série não fosse estacionária, aplicou-se a diferenciação de primeira ordem, que consiste em calcular a diferença entre observações consecutivas, removendo tendências de longo prazo e, assim, tornando a série estacionária. No caso deste projeto, o valor do parâmetro d foi fixado em 1 para diferenciar a série uma vez. A ordem dos outros parâmetros foi escolhida com base na análise gráfica das funções de autocorrelação parcial (PACF) e autocorrelação (ACF) da série temporal, e foram testadas várias combinações para definir a melhor configuração do modelo.\n",
        "A combinação de parâmetros ARIMA selecionada foi a (1,1,1), onde p=1 representa a ordem do componente autoregressivo, d=1 representa a diferenciação de primeira ordem aplicada para a estacionariedade, e q=1 representa a ordem do componente de média móvel. A escolha final foi determinada pelo Akaike Information Criterion (AIC) e Bayesian Information Criterion (BIC), critérios que penalizam a complexidade do modelo e auxiliam na escolha de uma configuração que ofereça o melhor ajuste aos dados com o mínimo de complexidade. O modelo ARIMA(1,1,1) apresentou baixos valores de AIC e BIC, e foi selecionado para a previsão de emissões de CO2 para cada setor analisado.\n",
        "\n",
        "\n",
        "# **Biblioteca Prophet (parcial)**\n",
        "O Prophet é uma biblioteca desenvolvida pelo Facebook que facilita a criação de modelos para previsão de séries temporais. Seus principais pontos fortes são a simplicidade de uso e a documentação clara. Trata-se de um modelo aditivo que também lida com sazonalidades e tendências de longo prazo.\n",
        "\n"
      ],
      "metadata": {
        "id": "CHxhIYVManBF"
      }
    },
    {
      "cell_type": "markdown",
      "source": [
        "# **EDA e Pré-processamento dos dados**\n",
        "\n",
        "NA fase de Análise e Pré-processamento dos Dados, realizou-se uma série de etapas essenciais para garantir a qualidade e adequação dos dados antes da aplicação dos modelos preditivos. Primeiramente, os dados foram importados e revisados, verificando-se a estrutura geral, com uma análise das colunas e tipos de dados presentes. Em seguida, aplicou-se uma análise descritiva para calcular estatísticas básicas, como média, mediana, desvio padrão e quartis, a fim de compreender a distribuição dos valores de emissões e identificar variações significativas entre as observações.\n",
        "\n",
        "A identificação de valores ausentes foi um passo fundamental, especialmente na coluna de emissões, onde verificou-se a quantidade de dados faltantes por ano. Estes foram tratados para evitar que comprometesse a precisão dos modelos. Posteriormente, os dados de emissões foram normalizados usando o método *RobustScaler*, que minimiza o impacto de valores atípicos, assegurando uma escala comum entre diferentes valores e facilitando a análise comparativa.\n",
        "\n",
        "Para uma análise detalhada, aplicaram-se filtros que permitiram selecionar gases específicos e atividades econômicas relevantes para o estudo. As emissões foram então agrupadas por tipo de gás e setor econômico, o que possibilitou identificar os principais padrões de emissão e categorias com maior contribuição para os GEE. Com a intenção de visualizar melhor as características do dataset, foram gerados gráficos de linha para observar a variação temporal das emissões, gráficos de barras para analisar emissões por atividade econômica e gráficos de área para detalhar a composição das emissões por tipo de gás.\n",
        "\n",
        "Essas etapas de análise e pré-processamento foram cruciais para preparar os dados e garantir que estivessem prontos para as etapas de modelagem preditiva subsequentes, permitindo uma visão clara e estruturada dos dados iniciais do projeto."
      ],
      "metadata": {
        "id": "iyc_Xux5Gc06"
      }
    },
    {
      "cell_type": "code",
      "source": [
        "# Exploração e Análise dos Dados\n",
        "\n",
        "# Conjunto de dados: https://basedosdados.org/dataset/9a22474f-a763-4431-8e3d-667908a1c7ab?table=104c6201-b0e7-47aa-b858-83252e2b149f\n",
        "\n",
        "import pandas as pd\n",
        "\n",
        "df = pd.read_csv(\"https://media.githubusercontent.com/media/elainethpereira/projeto_aplicado_IV_grupo_GE/refs/heads/main/br_seeg_emissoes_brasil.csv\")\n",
        "df.head()"
      ],
      "metadata": {
        "id": "uOGDS0QgGjXs",
        "colab": {
          "base_uri": "https://localhost:8080/",
          "height": 206
        },
        "outputId": "845df944-45be-42e9-b453-198250be2bf0"
      },
      "execution_count": 61,
      "outputs": [
        {
          "output_type": "execute_result",
          "data": {
            "text/plain": [
              "    ano       nivel_1           nivel_2  nivel_3 nivel_4  nivel_5 nivel_6  \\\n",
              "0  1970  Agropecuária  Cultivo do Arroz  Diretas  Outros  Vegetal   Arroz   \n",
              "1  1971  Agropecuária  Cultivo do Arroz  Diretas  Outros  Vegetal   Arroz   \n",
              "2  1972  Agropecuária  Cultivo do Arroz  Diretas  Outros  Vegetal   Arroz   \n",
              "3  1973  Agropecuária  Cultivo do Arroz  Diretas  Outros  Vegetal   Arroz   \n",
              "4  1974  Agropecuária  Cultivo do Arroz  Diretas  Outros  Vegetal   Arroz   \n",
              "\n",
              "  tipo_emissao      gas atividade_economica produto    emissao  \n",
              "0      Emissão  CH4 (t)                 NaN     NaN  230462.17  \n",
              "1      Emissão  CH4 (t)                 NaN     NaN  226016.30  \n",
              "2      Emissão  CH4 (t)                 NaN     NaN  220101.20  \n",
              "3      Emissão  CH4 (t)                 NaN     NaN  214195.56  \n",
              "4      Emissão  CH4 (t)                 NaN     NaN  186862.84  "
            ],
            "text/html": [
              "\n",
              "  <div id=\"df-131c5833-801f-4c5a-82ea-b50256ddb4c0\" class=\"colab-df-container\">\n",
              "    <div>\n",
              "<style scoped>\n",
              "    .dataframe tbody tr th:only-of-type {\n",
              "        vertical-align: middle;\n",
              "    }\n",
              "\n",
              "    .dataframe tbody tr th {\n",
              "        vertical-align: top;\n",
              "    }\n",
              "\n",
              "    .dataframe thead th {\n",
              "        text-align: right;\n",
              "    }\n",
              "</style>\n",
              "<table border=\"1\" class=\"dataframe\">\n",
              "  <thead>\n",
              "    <tr style=\"text-align: right;\">\n",
              "      <th></th>\n",
              "      <th>ano</th>\n",
              "      <th>nivel_1</th>\n",
              "      <th>nivel_2</th>\n",
              "      <th>nivel_3</th>\n",
              "      <th>nivel_4</th>\n",
              "      <th>nivel_5</th>\n",
              "      <th>nivel_6</th>\n",
              "      <th>tipo_emissao</th>\n",
              "      <th>gas</th>\n",
              "      <th>atividade_economica</th>\n",
              "      <th>produto</th>\n",
              "      <th>emissao</th>\n",
              "    </tr>\n",
              "  </thead>\n",
              "  <tbody>\n",
              "    <tr>\n",
              "      <th>0</th>\n",
              "      <td>1970</td>\n",
              "      <td>Agropecuária</td>\n",
              "      <td>Cultivo do Arroz</td>\n",
              "      <td>Diretas</td>\n",
              "      <td>Outros</td>\n",
              "      <td>Vegetal</td>\n",
              "      <td>Arroz</td>\n",
              "      <td>Emissão</td>\n",
              "      <td>CH4 (t)</td>\n",
              "      <td>NaN</td>\n",
              "      <td>NaN</td>\n",
              "      <td>230462.17</td>\n",
              "    </tr>\n",
              "    <tr>\n",
              "      <th>1</th>\n",
              "      <td>1971</td>\n",
              "      <td>Agropecuária</td>\n",
              "      <td>Cultivo do Arroz</td>\n",
              "      <td>Diretas</td>\n",
              "      <td>Outros</td>\n",
              "      <td>Vegetal</td>\n",
              "      <td>Arroz</td>\n",
              "      <td>Emissão</td>\n",
              "      <td>CH4 (t)</td>\n",
              "      <td>NaN</td>\n",
              "      <td>NaN</td>\n",
              "      <td>226016.30</td>\n",
              "    </tr>\n",
              "    <tr>\n",
              "      <th>2</th>\n",
              "      <td>1972</td>\n",
              "      <td>Agropecuária</td>\n",
              "      <td>Cultivo do Arroz</td>\n",
              "      <td>Diretas</td>\n",
              "      <td>Outros</td>\n",
              "      <td>Vegetal</td>\n",
              "      <td>Arroz</td>\n",
              "      <td>Emissão</td>\n",
              "      <td>CH4 (t)</td>\n",
              "      <td>NaN</td>\n",
              "      <td>NaN</td>\n",
              "      <td>220101.20</td>\n",
              "    </tr>\n",
              "    <tr>\n",
              "      <th>3</th>\n",
              "      <td>1973</td>\n",
              "      <td>Agropecuária</td>\n",
              "      <td>Cultivo do Arroz</td>\n",
              "      <td>Diretas</td>\n",
              "      <td>Outros</td>\n",
              "      <td>Vegetal</td>\n",
              "      <td>Arroz</td>\n",
              "      <td>Emissão</td>\n",
              "      <td>CH4 (t)</td>\n",
              "      <td>NaN</td>\n",
              "      <td>NaN</td>\n",
              "      <td>214195.56</td>\n",
              "    </tr>\n",
              "    <tr>\n",
              "      <th>4</th>\n",
              "      <td>1974</td>\n",
              "      <td>Agropecuária</td>\n",
              "      <td>Cultivo do Arroz</td>\n",
              "      <td>Diretas</td>\n",
              "      <td>Outros</td>\n",
              "      <td>Vegetal</td>\n",
              "      <td>Arroz</td>\n",
              "      <td>Emissão</td>\n",
              "      <td>CH4 (t)</td>\n",
              "      <td>NaN</td>\n",
              "      <td>NaN</td>\n",
              "      <td>186862.84</td>\n",
              "    </tr>\n",
              "  </tbody>\n",
              "</table>\n",
              "</div>\n",
              "    <div class=\"colab-df-buttons\">\n",
              "\n",
              "  <div class=\"colab-df-container\">\n",
              "    <button class=\"colab-df-convert\" onclick=\"convertToInteractive('df-131c5833-801f-4c5a-82ea-b50256ddb4c0')\"\n",
              "            title=\"Convert this dataframe to an interactive table.\"\n",
              "            style=\"display:none;\">\n",
              "\n",
              "  <svg xmlns=\"http://www.w3.org/2000/svg\" height=\"24px\" viewBox=\"0 -960 960 960\">\n",
              "    <path d=\"M120-120v-720h720v720H120Zm60-500h600v-160H180v160Zm220 220h160v-160H400v160Zm0 220h160v-160H400v160ZM180-400h160v-160H180v160Zm440 0h160v-160H620v160ZM180-180h160v-160H180v160Zm440 0h160v-160H620v160Z\"/>\n",
              "  </svg>\n",
              "    </button>\n",
              "\n",
              "  <style>\n",
              "    .colab-df-container {\n",
              "      display:flex;\n",
              "      gap: 12px;\n",
              "    }\n",
              "\n",
              "    .colab-df-convert {\n",
              "      background-color: #E8F0FE;\n",
              "      border: none;\n",
              "      border-radius: 50%;\n",
              "      cursor: pointer;\n",
              "      display: none;\n",
              "      fill: #1967D2;\n",
              "      height: 32px;\n",
              "      padding: 0 0 0 0;\n",
              "      width: 32px;\n",
              "    }\n",
              "\n",
              "    .colab-df-convert:hover {\n",
              "      background-color: #E2EBFA;\n",
              "      box-shadow: 0px 1px 2px rgba(60, 64, 67, 0.3), 0px 1px 3px 1px rgba(60, 64, 67, 0.15);\n",
              "      fill: #174EA6;\n",
              "    }\n",
              "\n",
              "    .colab-df-buttons div {\n",
              "      margin-bottom: 4px;\n",
              "    }\n",
              "\n",
              "    [theme=dark] .colab-df-convert {\n",
              "      background-color: #3B4455;\n",
              "      fill: #D2E3FC;\n",
              "    }\n",
              "\n",
              "    [theme=dark] .colab-df-convert:hover {\n",
              "      background-color: #434B5C;\n",
              "      box-shadow: 0px 1px 3px 1px rgba(0, 0, 0, 0.15);\n",
              "      filter: drop-shadow(0px 1px 2px rgba(0, 0, 0, 0.3));\n",
              "      fill: #FFFFFF;\n",
              "    }\n",
              "  </style>\n",
              "\n",
              "    <script>\n",
              "      const buttonEl =\n",
              "        document.querySelector('#df-131c5833-801f-4c5a-82ea-b50256ddb4c0 button.colab-df-convert');\n",
              "      buttonEl.style.display =\n",
              "        google.colab.kernel.accessAllowed ? 'block' : 'none';\n",
              "\n",
              "      async function convertToInteractive(key) {\n",
              "        const element = document.querySelector('#df-131c5833-801f-4c5a-82ea-b50256ddb4c0');\n",
              "        const dataTable =\n",
              "          await google.colab.kernel.invokeFunction('convertToInteractive',\n",
              "                                                    [key], {});\n",
              "        if (!dataTable) return;\n",
              "\n",
              "        const docLinkHtml = 'Like what you see? Visit the ' +\n",
              "          '<a target=\"_blank\" href=https://colab.research.google.com/notebooks/data_table.ipynb>data table notebook</a>'\n",
              "          + ' to learn more about interactive tables.';\n",
              "        element.innerHTML = '';\n",
              "        dataTable['output_type'] = 'display_data';\n",
              "        await google.colab.output.renderOutput(dataTable, element);\n",
              "        const docLink = document.createElement('div');\n",
              "        docLink.innerHTML = docLinkHtml;\n",
              "        element.appendChild(docLink);\n",
              "      }\n",
              "    </script>\n",
              "  </div>\n",
              "\n",
              "\n",
              "<div id=\"df-cb4c5cda-a55c-4362-8d06-fe395b8b30ab\">\n",
              "  <button class=\"colab-df-quickchart\" onclick=\"quickchart('df-cb4c5cda-a55c-4362-8d06-fe395b8b30ab')\"\n",
              "            title=\"Suggest charts\"\n",
              "            style=\"display:none;\">\n",
              "\n",
              "<svg xmlns=\"http://www.w3.org/2000/svg\" height=\"24px\"viewBox=\"0 0 24 24\"\n",
              "     width=\"24px\">\n",
              "    <g>\n",
              "        <path d=\"M19 3H5c-1.1 0-2 .9-2 2v14c0 1.1.9 2 2 2h14c1.1 0 2-.9 2-2V5c0-1.1-.9-2-2-2zM9 17H7v-7h2v7zm4 0h-2V7h2v10zm4 0h-2v-4h2v4z\"/>\n",
              "    </g>\n",
              "</svg>\n",
              "  </button>\n",
              "\n",
              "<style>\n",
              "  .colab-df-quickchart {\n",
              "      --bg-color: #E8F0FE;\n",
              "      --fill-color: #1967D2;\n",
              "      --hover-bg-color: #E2EBFA;\n",
              "      --hover-fill-color: #174EA6;\n",
              "      --disabled-fill-color: #AAA;\n",
              "      --disabled-bg-color: #DDD;\n",
              "  }\n",
              "\n",
              "  [theme=dark] .colab-df-quickchart {\n",
              "      --bg-color: #3B4455;\n",
              "      --fill-color: #D2E3FC;\n",
              "      --hover-bg-color: #434B5C;\n",
              "      --hover-fill-color: #FFFFFF;\n",
              "      --disabled-bg-color: #3B4455;\n",
              "      --disabled-fill-color: #666;\n",
              "  }\n",
              "\n",
              "  .colab-df-quickchart {\n",
              "    background-color: var(--bg-color);\n",
              "    border: none;\n",
              "    border-radius: 50%;\n",
              "    cursor: pointer;\n",
              "    display: none;\n",
              "    fill: var(--fill-color);\n",
              "    height: 32px;\n",
              "    padding: 0;\n",
              "    width: 32px;\n",
              "  }\n",
              "\n",
              "  .colab-df-quickchart:hover {\n",
              "    background-color: var(--hover-bg-color);\n",
              "    box-shadow: 0 1px 2px rgba(60, 64, 67, 0.3), 0 1px 3px 1px rgba(60, 64, 67, 0.15);\n",
              "    fill: var(--button-hover-fill-color);\n",
              "  }\n",
              "\n",
              "  .colab-df-quickchart-complete:disabled,\n",
              "  .colab-df-quickchart-complete:disabled:hover {\n",
              "    background-color: var(--disabled-bg-color);\n",
              "    fill: var(--disabled-fill-color);\n",
              "    box-shadow: none;\n",
              "  }\n",
              "\n",
              "  .colab-df-spinner {\n",
              "    border: 2px solid var(--fill-color);\n",
              "    border-color: transparent;\n",
              "    border-bottom-color: var(--fill-color);\n",
              "    animation:\n",
              "      spin 1s steps(1) infinite;\n",
              "  }\n",
              "\n",
              "  @keyframes spin {\n",
              "    0% {\n",
              "      border-color: transparent;\n",
              "      border-bottom-color: var(--fill-color);\n",
              "      border-left-color: var(--fill-color);\n",
              "    }\n",
              "    20% {\n",
              "      border-color: transparent;\n",
              "      border-left-color: var(--fill-color);\n",
              "      border-top-color: var(--fill-color);\n",
              "    }\n",
              "    30% {\n",
              "      border-color: transparent;\n",
              "      border-left-color: var(--fill-color);\n",
              "      border-top-color: var(--fill-color);\n",
              "      border-right-color: var(--fill-color);\n",
              "    }\n",
              "    40% {\n",
              "      border-color: transparent;\n",
              "      border-right-color: var(--fill-color);\n",
              "      border-top-color: var(--fill-color);\n",
              "    }\n",
              "    60% {\n",
              "      border-color: transparent;\n",
              "      border-right-color: var(--fill-color);\n",
              "    }\n",
              "    80% {\n",
              "      border-color: transparent;\n",
              "      border-right-color: var(--fill-color);\n",
              "      border-bottom-color: var(--fill-color);\n",
              "    }\n",
              "    90% {\n",
              "      border-color: transparent;\n",
              "      border-bottom-color: var(--fill-color);\n",
              "    }\n",
              "  }\n",
              "</style>\n",
              "\n",
              "  <script>\n",
              "    async function quickchart(key) {\n",
              "      const quickchartButtonEl =\n",
              "        document.querySelector('#' + key + ' button');\n",
              "      quickchartButtonEl.disabled = true;  // To prevent multiple clicks.\n",
              "      quickchartButtonEl.classList.add('colab-df-spinner');\n",
              "      try {\n",
              "        const charts = await google.colab.kernel.invokeFunction(\n",
              "            'suggestCharts', [key], {});\n",
              "      } catch (error) {\n",
              "        console.error('Error during call to suggestCharts:', error);\n",
              "      }\n",
              "      quickchartButtonEl.classList.remove('colab-df-spinner');\n",
              "      quickchartButtonEl.classList.add('colab-df-quickchart-complete');\n",
              "    }\n",
              "    (() => {\n",
              "      let quickchartButtonEl =\n",
              "        document.querySelector('#df-cb4c5cda-a55c-4362-8d06-fe395b8b30ab button');\n",
              "      quickchartButtonEl.style.display =\n",
              "        google.colab.kernel.accessAllowed ? 'block' : 'none';\n",
              "    })();\n",
              "  </script>\n",
              "</div>\n",
              "\n",
              "    </div>\n",
              "  </div>\n"
            ],
            "application/vnd.google.colaboratory.intrinsic+json": {
              "type": "dataframe",
              "variable_name": "df"
            }
          },
          "metadata": {},
          "execution_count": 61
        }
      ]
    },
    {
      "cell_type": "code",
      "source": [
        "# elimina os warnings das bibliotecas\n",
        "import warnings\n",
        "warnings.filterwarnings(\"ignore\")"
      ],
      "metadata": {
        "id": "LcWKal8BxmNf"
      },
      "execution_count": 6,
      "outputs": []
    },
    {
      "cell_type": "code",
      "source": [
        "df.columns"
      ],
      "metadata": {
        "id": "nX1y6SnxtO0u",
        "colab": {
          "base_uri": "https://localhost:8080/"
        },
        "outputId": "0b89b2cb-d881-44cb-b7b5-6ca85178789e"
      },
      "execution_count": 7,
      "outputs": [
        {
          "output_type": "execute_result",
          "data": {
            "text/plain": [
              "Index(['ano', 'nivel_1', 'nivel_2', 'nivel_3', 'nivel_4', 'nivel_5', 'nivel_6',\n",
              "       'tipo_emissao', 'gas', 'atividade_economica', 'produto', 'emissao'],\n",
              "      dtype='object')"
            ]
          },
          "metadata": {},
          "execution_count": 7
        }
      ]
    },
    {
      "cell_type": "code",
      "source": [
        "df.describe()"
      ],
      "metadata": {
        "id": "2nwYjVx7tW1Z",
        "colab": {
          "base_uri": "https://localhost:8080/",
          "height": 300
        },
        "outputId": "7c33c6d3-15c8-4c1d-dd37-4f8ac3f55bae"
      },
      "execution_count": 8,
      "outputs": [
        {
          "output_type": "execute_result",
          "data": {
            "text/plain": [
              "                 ano       emissao\n",
              "count  454850.000000  4.063250e+05\n",
              "mean     1994.500000  1.437622e+06\n",
              "std        14.430886  3.124689e+07\n",
              "min      1970.000000 -3.107000e+08\n",
              "25%      1982.000000  0.000000e+00\n",
              "50%      1994.500000  4.689636e+00\n",
              "75%      2007.000000  4.525840e+04\n",
              "max      2019.000000  2.083000e+09"
            ],
            "text/html": [
              "\n",
              "  <div id=\"df-00a2d26e-038a-429c-a161-c878b9606956\" class=\"colab-df-container\">\n",
              "    <div>\n",
              "<style scoped>\n",
              "    .dataframe tbody tr th:only-of-type {\n",
              "        vertical-align: middle;\n",
              "    }\n",
              "\n",
              "    .dataframe tbody tr th {\n",
              "        vertical-align: top;\n",
              "    }\n",
              "\n",
              "    .dataframe thead th {\n",
              "        text-align: right;\n",
              "    }\n",
              "</style>\n",
              "<table border=\"1\" class=\"dataframe\">\n",
              "  <thead>\n",
              "    <tr style=\"text-align: right;\">\n",
              "      <th></th>\n",
              "      <th>ano</th>\n",
              "      <th>emissao</th>\n",
              "    </tr>\n",
              "  </thead>\n",
              "  <tbody>\n",
              "    <tr>\n",
              "      <th>count</th>\n",
              "      <td>454850.000000</td>\n",
              "      <td>4.063250e+05</td>\n",
              "    </tr>\n",
              "    <tr>\n",
              "      <th>mean</th>\n",
              "      <td>1994.500000</td>\n",
              "      <td>1.437622e+06</td>\n",
              "    </tr>\n",
              "    <tr>\n",
              "      <th>std</th>\n",
              "      <td>14.430886</td>\n",
              "      <td>3.124689e+07</td>\n",
              "    </tr>\n",
              "    <tr>\n",
              "      <th>min</th>\n",
              "      <td>1970.000000</td>\n",
              "      <td>-3.107000e+08</td>\n",
              "    </tr>\n",
              "    <tr>\n",
              "      <th>25%</th>\n",
              "      <td>1982.000000</td>\n",
              "      <td>0.000000e+00</td>\n",
              "    </tr>\n",
              "    <tr>\n",
              "      <th>50%</th>\n",
              "      <td>1994.500000</td>\n",
              "      <td>4.689636e+00</td>\n",
              "    </tr>\n",
              "    <tr>\n",
              "      <th>75%</th>\n",
              "      <td>2007.000000</td>\n",
              "      <td>4.525840e+04</td>\n",
              "    </tr>\n",
              "    <tr>\n",
              "      <th>max</th>\n",
              "      <td>2019.000000</td>\n",
              "      <td>2.083000e+09</td>\n",
              "    </tr>\n",
              "  </tbody>\n",
              "</table>\n",
              "</div>\n",
              "    <div class=\"colab-df-buttons\">\n",
              "\n",
              "  <div class=\"colab-df-container\">\n",
              "    <button class=\"colab-df-convert\" onclick=\"convertToInteractive('df-00a2d26e-038a-429c-a161-c878b9606956')\"\n",
              "            title=\"Convert this dataframe to an interactive table.\"\n",
              "            style=\"display:none;\">\n",
              "\n",
              "  <svg xmlns=\"http://www.w3.org/2000/svg\" height=\"24px\" viewBox=\"0 -960 960 960\">\n",
              "    <path d=\"M120-120v-720h720v720H120Zm60-500h600v-160H180v160Zm220 220h160v-160H400v160Zm0 220h160v-160H400v160ZM180-400h160v-160H180v160Zm440 0h160v-160H620v160ZM180-180h160v-160H180v160Zm440 0h160v-160H620v160Z\"/>\n",
              "  </svg>\n",
              "    </button>\n",
              "\n",
              "  <style>\n",
              "    .colab-df-container {\n",
              "      display:flex;\n",
              "      gap: 12px;\n",
              "    }\n",
              "\n",
              "    .colab-df-convert {\n",
              "      background-color: #E8F0FE;\n",
              "      border: none;\n",
              "      border-radius: 50%;\n",
              "      cursor: pointer;\n",
              "      display: none;\n",
              "      fill: #1967D2;\n",
              "      height: 32px;\n",
              "      padding: 0 0 0 0;\n",
              "      width: 32px;\n",
              "    }\n",
              "\n",
              "    .colab-df-convert:hover {\n",
              "      background-color: #E2EBFA;\n",
              "      box-shadow: 0px 1px 2px rgba(60, 64, 67, 0.3), 0px 1px 3px 1px rgba(60, 64, 67, 0.15);\n",
              "      fill: #174EA6;\n",
              "    }\n",
              "\n",
              "    .colab-df-buttons div {\n",
              "      margin-bottom: 4px;\n",
              "    }\n",
              "\n",
              "    [theme=dark] .colab-df-convert {\n",
              "      background-color: #3B4455;\n",
              "      fill: #D2E3FC;\n",
              "    }\n",
              "\n",
              "    [theme=dark] .colab-df-convert:hover {\n",
              "      background-color: #434B5C;\n",
              "      box-shadow: 0px 1px 3px 1px rgba(0, 0, 0, 0.15);\n",
              "      filter: drop-shadow(0px 1px 2px rgba(0, 0, 0, 0.3));\n",
              "      fill: #FFFFFF;\n",
              "    }\n",
              "  </style>\n",
              "\n",
              "    <script>\n",
              "      const buttonEl =\n",
              "        document.querySelector('#df-00a2d26e-038a-429c-a161-c878b9606956 button.colab-df-convert');\n",
              "      buttonEl.style.display =\n",
              "        google.colab.kernel.accessAllowed ? 'block' : 'none';\n",
              "\n",
              "      async function convertToInteractive(key) {\n",
              "        const element = document.querySelector('#df-00a2d26e-038a-429c-a161-c878b9606956');\n",
              "        const dataTable =\n",
              "          await google.colab.kernel.invokeFunction('convertToInteractive',\n",
              "                                                    [key], {});\n",
              "        if (!dataTable) return;\n",
              "\n",
              "        const docLinkHtml = 'Like what you see? Visit the ' +\n",
              "          '<a target=\"_blank\" href=https://colab.research.google.com/notebooks/data_table.ipynb>data table notebook</a>'\n",
              "          + ' to learn more about interactive tables.';\n",
              "        element.innerHTML = '';\n",
              "        dataTable['output_type'] = 'display_data';\n",
              "        await google.colab.output.renderOutput(dataTable, element);\n",
              "        const docLink = document.createElement('div');\n",
              "        docLink.innerHTML = docLinkHtml;\n",
              "        element.appendChild(docLink);\n",
              "      }\n",
              "    </script>\n",
              "  </div>\n",
              "\n",
              "\n",
              "<div id=\"df-f5d9f1ae-89c4-4c74-87a1-9297d554f0ed\">\n",
              "  <button class=\"colab-df-quickchart\" onclick=\"quickchart('df-f5d9f1ae-89c4-4c74-87a1-9297d554f0ed')\"\n",
              "            title=\"Suggest charts\"\n",
              "            style=\"display:none;\">\n",
              "\n",
              "<svg xmlns=\"http://www.w3.org/2000/svg\" height=\"24px\"viewBox=\"0 0 24 24\"\n",
              "     width=\"24px\">\n",
              "    <g>\n",
              "        <path d=\"M19 3H5c-1.1 0-2 .9-2 2v14c0 1.1.9 2 2 2h14c1.1 0 2-.9 2-2V5c0-1.1-.9-2-2-2zM9 17H7v-7h2v7zm4 0h-2V7h2v10zm4 0h-2v-4h2v4z\"/>\n",
              "    </g>\n",
              "</svg>\n",
              "  </button>\n",
              "\n",
              "<style>\n",
              "  .colab-df-quickchart {\n",
              "      --bg-color: #E8F0FE;\n",
              "      --fill-color: #1967D2;\n",
              "      --hover-bg-color: #E2EBFA;\n",
              "      --hover-fill-color: #174EA6;\n",
              "      --disabled-fill-color: #AAA;\n",
              "      --disabled-bg-color: #DDD;\n",
              "  }\n",
              "\n",
              "  [theme=dark] .colab-df-quickchart {\n",
              "      --bg-color: #3B4455;\n",
              "      --fill-color: #D2E3FC;\n",
              "      --hover-bg-color: #434B5C;\n",
              "      --hover-fill-color: #FFFFFF;\n",
              "      --disabled-bg-color: #3B4455;\n",
              "      --disabled-fill-color: #666;\n",
              "  }\n",
              "\n",
              "  .colab-df-quickchart {\n",
              "    background-color: var(--bg-color);\n",
              "    border: none;\n",
              "    border-radius: 50%;\n",
              "    cursor: pointer;\n",
              "    display: none;\n",
              "    fill: var(--fill-color);\n",
              "    height: 32px;\n",
              "    padding: 0;\n",
              "    width: 32px;\n",
              "  }\n",
              "\n",
              "  .colab-df-quickchart:hover {\n",
              "    background-color: var(--hover-bg-color);\n",
              "    box-shadow: 0 1px 2px rgba(60, 64, 67, 0.3), 0 1px 3px 1px rgba(60, 64, 67, 0.15);\n",
              "    fill: var(--button-hover-fill-color);\n",
              "  }\n",
              "\n",
              "  .colab-df-quickchart-complete:disabled,\n",
              "  .colab-df-quickchart-complete:disabled:hover {\n",
              "    background-color: var(--disabled-bg-color);\n",
              "    fill: var(--disabled-fill-color);\n",
              "    box-shadow: none;\n",
              "  }\n",
              "\n",
              "  .colab-df-spinner {\n",
              "    border: 2px solid var(--fill-color);\n",
              "    border-color: transparent;\n",
              "    border-bottom-color: var(--fill-color);\n",
              "    animation:\n",
              "      spin 1s steps(1) infinite;\n",
              "  }\n",
              "\n",
              "  @keyframes spin {\n",
              "    0% {\n",
              "      border-color: transparent;\n",
              "      border-bottom-color: var(--fill-color);\n",
              "      border-left-color: var(--fill-color);\n",
              "    }\n",
              "    20% {\n",
              "      border-color: transparent;\n",
              "      border-left-color: var(--fill-color);\n",
              "      border-top-color: var(--fill-color);\n",
              "    }\n",
              "    30% {\n",
              "      border-color: transparent;\n",
              "      border-left-color: var(--fill-color);\n",
              "      border-top-color: var(--fill-color);\n",
              "      border-right-color: var(--fill-color);\n",
              "    }\n",
              "    40% {\n",
              "      border-color: transparent;\n",
              "      border-right-color: var(--fill-color);\n",
              "      border-top-color: var(--fill-color);\n",
              "    }\n",
              "    60% {\n",
              "      border-color: transparent;\n",
              "      border-right-color: var(--fill-color);\n",
              "    }\n",
              "    80% {\n",
              "      border-color: transparent;\n",
              "      border-right-color: var(--fill-color);\n",
              "      border-bottom-color: var(--fill-color);\n",
              "    }\n",
              "    90% {\n",
              "      border-color: transparent;\n",
              "      border-bottom-color: var(--fill-color);\n",
              "    }\n",
              "  }\n",
              "</style>\n",
              "\n",
              "  <script>\n",
              "    async function quickchart(key) {\n",
              "      const quickchartButtonEl =\n",
              "        document.querySelector('#' + key + ' button');\n",
              "      quickchartButtonEl.disabled = true;  // To prevent multiple clicks.\n",
              "      quickchartButtonEl.classList.add('colab-df-spinner');\n",
              "      try {\n",
              "        const charts = await google.colab.kernel.invokeFunction(\n",
              "            'suggestCharts', [key], {});\n",
              "      } catch (error) {\n",
              "        console.error('Error during call to suggestCharts:', error);\n",
              "      }\n",
              "      quickchartButtonEl.classList.remove('colab-df-spinner');\n",
              "      quickchartButtonEl.classList.add('colab-df-quickchart-complete');\n",
              "    }\n",
              "    (() => {\n",
              "      let quickchartButtonEl =\n",
              "        document.querySelector('#df-f5d9f1ae-89c4-4c74-87a1-9297d554f0ed button');\n",
              "      quickchartButtonEl.style.display =\n",
              "        google.colab.kernel.accessAllowed ? 'block' : 'none';\n",
              "    })();\n",
              "  </script>\n",
              "</div>\n",
              "\n",
              "    </div>\n",
              "  </div>\n"
            ],
            "application/vnd.google.colaboratory.intrinsic+json": {
              "type": "dataframe",
              "summary": "{\n  \"name\": \"df\",\n  \"rows\": 8,\n  \"fields\": [\n    {\n      \"column\": \"ano\",\n      \"properties\": {\n        \"dtype\": \"number\",\n        \"std\": 160210.1050384057,\n        \"min\": 14.430885553016198,\n        \"max\": 454850.0,\n        \"num_unique_values\": 7,\n        \"samples\": [\n          454850.0,\n          1994.5,\n          2007.0\n        ],\n        \"semantic_type\": \"\",\n        \"description\": \"\"\n      }\n    },\n    {\n      \"column\": \"emissao\",\n      \"properties\": {\n        \"dtype\": \"number\",\n        \"std\": 758659734.6926718,\n        \"min\": -310700000.0,\n        \"max\": 2083000000.0,\n        \"num_unique_values\": 8,\n        \"samples\": [\n          1437622.2276290865,\n          4.6896356,\n          406325.0\n        ],\n        \"semantic_type\": \"\",\n        \"description\": \"\"\n      }\n    }\n  ]\n}"
            }
          },
          "metadata": {},
          "execution_count": 8
        }
      ]
    },
    {
      "cell_type": "code",
      "source": [
        "df.info()"
      ],
      "metadata": {
        "id": "G3Fsy_PutQyU",
        "colab": {
          "base_uri": "https://localhost:8080/"
        },
        "outputId": "015cb6ea-672a-4a49-f835-c075c2373236"
      },
      "execution_count": 9,
      "outputs": [
        {
          "output_type": "stream",
          "name": "stdout",
          "text": [
            "<class 'pandas.core.frame.DataFrame'>\n",
            "RangeIndex: 454850 entries, 0 to 454849\n",
            "Data columns (total 12 columns):\n",
            " #   Column               Non-Null Count   Dtype  \n",
            "---  ------               --------------   -----  \n",
            " 0   ano                  454850 non-null  int64  \n",
            " 1   nivel_1              454850 non-null  object \n",
            " 2   nivel_2              454850 non-null  object \n",
            " 3   nivel_3              454850 non-null  object \n",
            " 4   nivel_4              454850 non-null  object \n",
            " 5   nivel_5              454850 non-null  object \n",
            " 6   nivel_6              454850 non-null  object \n",
            " 7   tipo_emissao         454850 non-null  object \n",
            " 8   gas                  454850 non-null  object \n",
            " 9   atividade_economica  453100 non-null  object \n",
            " 10  produto              268100 non-null  object \n",
            " 11  emissao              406325 non-null  float64\n",
            "dtypes: float64(1), int64(1), object(10)\n",
            "memory usage: 41.6+ MB\n"
          ]
        }
      ]
    },
    {
      "cell_type": "code",
      "source": [
        "df['nivel_1'].unique()"
      ],
      "metadata": {
        "id": "2IWmdKvptZoj",
        "colab": {
          "base_uri": "https://localhost:8080/"
        },
        "outputId": "f2edd9eb-9bc9-44ba-f77e-0e4fa637d96b"
      },
      "execution_count": 10,
      "outputs": [
        {
          "output_type": "execute_result",
          "data": {
            "text/plain": [
              "array(['Agropecuária', 'Energia', 'Mudança de Uso da Terra e Floresta',\n",
              "       'Processos Industriais', 'Resíduos '], dtype=object)"
            ]
          },
          "metadata": {},
          "execution_count": 10
        }
      ]
    },
    {
      "cell_type": "code",
      "source": [
        "df['ano'].unique()"
      ],
      "metadata": {
        "id": "rC3eaN08tlxN",
        "colab": {
          "base_uri": "https://localhost:8080/"
        },
        "outputId": "65456ce2-b428-4383-9d1c-b3f712435e60"
      },
      "execution_count": 11,
      "outputs": [
        {
          "output_type": "execute_result",
          "data": {
            "text/plain": [
              "array([1970, 1971, 1972, 1973, 1974, 1975, 1976, 1977, 1978, 1979, 1980,\n",
              "       1981, 1982, 1983, 1984, 1985, 1986, 1987, 1988, 1989, 1990, 1991,\n",
              "       1992, 1993, 1994, 1995, 1996, 1997, 1998, 1999, 2000, 2001, 2002,\n",
              "       2003, 2004, 2005, 2006, 2007, 2008, 2009, 2010, 2011, 2012, 2013,\n",
              "       2014, 2015, 2016, 2017, 2018, 2019])"
            ]
          },
          "metadata": {},
          "execution_count": 11
        }
      ]
    },
    {
      "cell_type": "code",
      "source": [
        "df['gas'].unique()"
      ],
      "metadata": {
        "id": "qY7WmshxtpyP",
        "colab": {
          "base_uri": "https://localhost:8080/"
        },
        "outputId": "043ae0fc-35d6-44be-8939-b8364b61fa3f"
      },
      "execution_count": 12,
      "outputs": [
        {
          "output_type": "execute_result",
          "data": {
            "text/plain": [
              "array(['CH4 (t)', 'CO2e (t) GTP-AR2', 'CO2e (t) GTP-AR4',\n",
              "       'CO2e (t) GTP-AR5', 'CO2e (t) GWP-AR2', 'CO2e (t) GWP-AR4',\n",
              "       'CO2e (t) GWP-AR5', 'N2O (t)', 'CO (t)', 'NOX (t)', 'CO2 (t)',\n",
              "       'COVNM (t)', 'NOx (t)', 'HFC-125 (t)', 'HFC-134a (t)',\n",
              "       'HFC-143a (t)', 'HFC-152a (t)', 'HFC-23 (t)', 'HFC-32 (t)',\n",
              "       'C2F6 (t)', 'CF4 (t)', 'SF6 (t)'], dtype=object)"
            ]
          },
          "metadata": {},
          "execution_count": 12
        }
      ]
    },
    {
      "cell_type": "code",
      "source": [
        "df['tipo_emissao'].unique()"
      ],
      "metadata": {
        "id": "FAFI6cUOtyFZ",
        "colab": {
          "base_uri": "https://localhost:8080/"
        },
        "outputId": "b2a40d9a-2193-447f-d64b-accde6573cdf"
      },
      "execution_count": 13,
      "outputs": [
        {
          "output_type": "execute_result",
          "data": {
            "text/plain": [
              "array(['Emissão', 'Remoção NCI', 'Emissão NCI', 'Bunker', 'Emissão proxy',\n",
              "       'Remoção proxy', 'Remoção'], dtype=object)"
            ]
          },
          "metadata": {},
          "execution_count": 13
        }
      ]
    },
    {
      "cell_type": "code",
      "source": [
        "df['emissao'].unique()"
      ],
      "metadata": {
        "id": "8zHcXcTKzwoa",
        "colab": {
          "base_uri": "https://localhost:8080/"
        },
        "outputId": "52b15548-71c1-424d-b456-14aa275798b6"
      },
      "execution_count": 14,
      "outputs": [
        {
          "output_type": "execute_result",
          "data": {
            "text/plain": [
              "array([2.3046217e+05, 2.2601630e+05, 2.2010120e+05, ..., 6.9919672e+01,\n",
              "       7.0507559e+01, 7.1068872e+01])"
            ]
          },
          "metadata": {},
          "execution_count": 14
        }
      ]
    },
    {
      "cell_type": "code",
      "source": [
        "df.isna().sum()"
      ],
      "metadata": {
        "id": "2_OtAdI7t3mF",
        "colab": {
          "base_uri": "https://localhost:8080/",
          "height": 460
        },
        "outputId": "9aaee906-2d77-4edd-a252-c54e92c442fa"
      },
      "execution_count": 15,
      "outputs": [
        {
          "output_type": "execute_result",
          "data": {
            "text/plain": [
              "ano                         0\n",
              "nivel_1                     0\n",
              "nivel_2                     0\n",
              "nivel_3                     0\n",
              "nivel_4                     0\n",
              "nivel_5                     0\n",
              "nivel_6                     0\n",
              "tipo_emissao                0\n",
              "gas                         0\n",
              "atividade_economica      1750\n",
              "produto                186750\n",
              "emissao                 48525\n",
              "dtype: int64"
            ],
            "text/html": [
              "<div>\n",
              "<style scoped>\n",
              "    .dataframe tbody tr th:only-of-type {\n",
              "        vertical-align: middle;\n",
              "    }\n",
              "\n",
              "    .dataframe tbody tr th {\n",
              "        vertical-align: top;\n",
              "    }\n",
              "\n",
              "    .dataframe thead th {\n",
              "        text-align: right;\n",
              "    }\n",
              "</style>\n",
              "<table border=\"1\" class=\"dataframe\">\n",
              "  <thead>\n",
              "    <tr style=\"text-align: right;\">\n",
              "      <th></th>\n",
              "      <th>0</th>\n",
              "    </tr>\n",
              "  </thead>\n",
              "  <tbody>\n",
              "    <tr>\n",
              "      <th>ano</th>\n",
              "      <td>0</td>\n",
              "    </tr>\n",
              "    <tr>\n",
              "      <th>nivel_1</th>\n",
              "      <td>0</td>\n",
              "    </tr>\n",
              "    <tr>\n",
              "      <th>nivel_2</th>\n",
              "      <td>0</td>\n",
              "    </tr>\n",
              "    <tr>\n",
              "      <th>nivel_3</th>\n",
              "      <td>0</td>\n",
              "    </tr>\n",
              "    <tr>\n",
              "      <th>nivel_4</th>\n",
              "      <td>0</td>\n",
              "    </tr>\n",
              "    <tr>\n",
              "      <th>nivel_5</th>\n",
              "      <td>0</td>\n",
              "    </tr>\n",
              "    <tr>\n",
              "      <th>nivel_6</th>\n",
              "      <td>0</td>\n",
              "    </tr>\n",
              "    <tr>\n",
              "      <th>tipo_emissao</th>\n",
              "      <td>0</td>\n",
              "    </tr>\n",
              "    <tr>\n",
              "      <th>gas</th>\n",
              "      <td>0</td>\n",
              "    </tr>\n",
              "    <tr>\n",
              "      <th>atividade_economica</th>\n",
              "      <td>1750</td>\n",
              "    </tr>\n",
              "    <tr>\n",
              "      <th>produto</th>\n",
              "      <td>186750</td>\n",
              "    </tr>\n",
              "    <tr>\n",
              "      <th>emissao</th>\n",
              "      <td>48525</td>\n",
              "    </tr>\n",
              "  </tbody>\n",
              "</table>\n",
              "</div><br><label><b>dtype:</b> int64</label>"
            ]
          },
          "metadata": {},
          "execution_count": 15
        }
      ]
    },
    {
      "source": [
        "# Pré-processamento e Normalização\n",
        "\n",
        "# Entendendo os dados faltantes em 'emissao'\n",
        "\n",
        "faltantes_por_ano = df.groupby('ano')['emissao'].apply(lambda x: x.isnull().sum())\n",
        "print(faltantes_por_ano)"
      ],
      "cell_type": "code",
      "metadata": {
        "id": "DSpM883uvNLB",
        "colab": {
          "base_uri": "https://localhost:8080/"
        },
        "outputId": "da2011c8-a29c-4669-a184-75dbfa2b2e5a"
      },
      "execution_count": 16,
      "outputs": [
        {
          "output_type": "stream",
          "name": "stdout",
          "text": [
            "ano\n",
            "1970    2421\n",
            "1971    2421\n",
            "1972    2421\n",
            "1973    2421\n",
            "1974    2421\n",
            "1975    2421\n",
            "1976    2421\n",
            "1977    2421\n",
            "1978    2421\n",
            "1979    2421\n",
            "1980    2421\n",
            "1981    2421\n",
            "1982    2421\n",
            "1983    2421\n",
            "1984    2421\n",
            "1985    2421\n",
            "1986    2421\n",
            "1987    2421\n",
            "1988    2421\n",
            "1989    2421\n",
            "1990       7\n",
            "1991       7\n",
            "1992       7\n",
            "1993       7\n",
            "1994       7\n",
            "1995       7\n",
            "1996       7\n",
            "1997       7\n",
            "1998       7\n",
            "1999       7\n",
            "2000       7\n",
            "2001       7\n",
            "2002       7\n",
            "2003       7\n",
            "2004       7\n",
            "2005       0\n",
            "2006       0\n",
            "2007       0\n",
            "2008       0\n",
            "2009       0\n",
            "2010       0\n",
            "2011       0\n",
            "2012       0\n",
            "2013       0\n",
            "2014       0\n",
            "2015       0\n",
            "2016       0\n",
            "2017       0\n",
            "2018       0\n",
            "2019       0\n",
            "Name: emissao, dtype: int64\n"
          ]
        }
      ]
    },
    {
      "cell_type": "code",
      "source": [
        "# Normalizando a variável 'emissao'\n",
        "\n",
        "from sklearn.preprocessing import RobustScaler\n",
        "\n",
        "scaler = RobustScaler()\n",
        "df['emissao_normalizada'] = scaler.fit_transform(df[['emissao']])\n",
        "df.head()"
      ],
      "metadata": {
        "id": "zBi3SaWny5Qp",
        "colab": {
          "base_uri": "https://localhost:8080/",
          "height": 206
        },
        "outputId": "f1dc98c9-9bbd-462c-a3a3-25eaa172210c"
      },
      "execution_count": 17,
      "outputs": [
        {
          "output_type": "execute_result",
          "data": {
            "text/plain": [
              "    ano       nivel_1           nivel_2  nivel_3 nivel_4  nivel_5 nivel_6  \\\n",
              "0  1970  Agropecuária  Cultivo do Arroz  Diretas  Outros  Vegetal   Arroz   \n",
              "1  1971  Agropecuária  Cultivo do Arroz  Diretas  Outros  Vegetal   Arroz   \n",
              "2  1972  Agropecuária  Cultivo do Arroz  Diretas  Outros  Vegetal   Arroz   \n",
              "3  1973  Agropecuária  Cultivo do Arroz  Diretas  Outros  Vegetal   Arroz   \n",
              "4  1974  Agropecuária  Cultivo do Arroz  Diretas  Outros  Vegetal   Arroz   \n",
              "\n",
              "  tipo_emissao      gas atividade_economica produto    emissao  \\\n",
              "0      Emissão  CH4 (t)                 NaN     NaN  230462.17   \n",
              "1      Emissão  CH4 (t)                 NaN     NaN  226016.30   \n",
              "2      Emissão  CH4 (t)                 NaN     NaN  220101.20   \n",
              "3      Emissão  CH4 (t)                 NaN     NaN  214195.56   \n",
              "4      Emissão  CH4 (t)                 NaN     NaN  186862.84   \n",
              "\n",
              "   emissao_normalizada  \n",
              "0             5.092038  \n",
              "1             4.993805  \n",
              "2             4.863109  \n",
              "3             4.732622  \n",
              "4             4.128696  "
            ],
            "text/html": [
              "\n",
              "  <div id=\"df-3acc9036-726b-456e-adea-8f8d839898d0\" class=\"colab-df-container\">\n",
              "    <div>\n",
              "<style scoped>\n",
              "    .dataframe tbody tr th:only-of-type {\n",
              "        vertical-align: middle;\n",
              "    }\n",
              "\n",
              "    .dataframe tbody tr th {\n",
              "        vertical-align: top;\n",
              "    }\n",
              "\n",
              "    .dataframe thead th {\n",
              "        text-align: right;\n",
              "    }\n",
              "</style>\n",
              "<table border=\"1\" class=\"dataframe\">\n",
              "  <thead>\n",
              "    <tr style=\"text-align: right;\">\n",
              "      <th></th>\n",
              "      <th>ano</th>\n",
              "      <th>nivel_1</th>\n",
              "      <th>nivel_2</th>\n",
              "      <th>nivel_3</th>\n",
              "      <th>nivel_4</th>\n",
              "      <th>nivel_5</th>\n",
              "      <th>nivel_6</th>\n",
              "      <th>tipo_emissao</th>\n",
              "      <th>gas</th>\n",
              "      <th>atividade_economica</th>\n",
              "      <th>produto</th>\n",
              "      <th>emissao</th>\n",
              "      <th>emissao_normalizada</th>\n",
              "    </tr>\n",
              "  </thead>\n",
              "  <tbody>\n",
              "    <tr>\n",
              "      <th>0</th>\n",
              "      <td>1970</td>\n",
              "      <td>Agropecuária</td>\n",
              "      <td>Cultivo do Arroz</td>\n",
              "      <td>Diretas</td>\n",
              "      <td>Outros</td>\n",
              "      <td>Vegetal</td>\n",
              "      <td>Arroz</td>\n",
              "      <td>Emissão</td>\n",
              "      <td>CH4 (t)</td>\n",
              "      <td>NaN</td>\n",
              "      <td>NaN</td>\n",
              "      <td>230462.17</td>\n",
              "      <td>5.092038</td>\n",
              "    </tr>\n",
              "    <tr>\n",
              "      <th>1</th>\n",
              "      <td>1971</td>\n",
              "      <td>Agropecuária</td>\n",
              "      <td>Cultivo do Arroz</td>\n",
              "      <td>Diretas</td>\n",
              "      <td>Outros</td>\n",
              "      <td>Vegetal</td>\n",
              "      <td>Arroz</td>\n",
              "      <td>Emissão</td>\n",
              "      <td>CH4 (t)</td>\n",
              "      <td>NaN</td>\n",
              "      <td>NaN</td>\n",
              "      <td>226016.30</td>\n",
              "      <td>4.993805</td>\n",
              "    </tr>\n",
              "    <tr>\n",
              "      <th>2</th>\n",
              "      <td>1972</td>\n",
              "      <td>Agropecuária</td>\n",
              "      <td>Cultivo do Arroz</td>\n",
              "      <td>Diretas</td>\n",
              "      <td>Outros</td>\n",
              "      <td>Vegetal</td>\n",
              "      <td>Arroz</td>\n",
              "      <td>Emissão</td>\n",
              "      <td>CH4 (t)</td>\n",
              "      <td>NaN</td>\n",
              "      <td>NaN</td>\n",
              "      <td>220101.20</td>\n",
              "      <td>4.863109</td>\n",
              "    </tr>\n",
              "    <tr>\n",
              "      <th>3</th>\n",
              "      <td>1973</td>\n",
              "      <td>Agropecuária</td>\n",
              "      <td>Cultivo do Arroz</td>\n",
              "      <td>Diretas</td>\n",
              "      <td>Outros</td>\n",
              "      <td>Vegetal</td>\n",
              "      <td>Arroz</td>\n",
              "      <td>Emissão</td>\n",
              "      <td>CH4 (t)</td>\n",
              "      <td>NaN</td>\n",
              "      <td>NaN</td>\n",
              "      <td>214195.56</td>\n",
              "      <td>4.732622</td>\n",
              "    </tr>\n",
              "    <tr>\n",
              "      <th>4</th>\n",
              "      <td>1974</td>\n",
              "      <td>Agropecuária</td>\n",
              "      <td>Cultivo do Arroz</td>\n",
              "      <td>Diretas</td>\n",
              "      <td>Outros</td>\n",
              "      <td>Vegetal</td>\n",
              "      <td>Arroz</td>\n",
              "      <td>Emissão</td>\n",
              "      <td>CH4 (t)</td>\n",
              "      <td>NaN</td>\n",
              "      <td>NaN</td>\n",
              "      <td>186862.84</td>\n",
              "      <td>4.128696</td>\n",
              "    </tr>\n",
              "  </tbody>\n",
              "</table>\n",
              "</div>\n",
              "    <div class=\"colab-df-buttons\">\n",
              "\n",
              "  <div class=\"colab-df-container\">\n",
              "    <button class=\"colab-df-convert\" onclick=\"convertToInteractive('df-3acc9036-726b-456e-adea-8f8d839898d0')\"\n",
              "            title=\"Convert this dataframe to an interactive table.\"\n",
              "            style=\"display:none;\">\n",
              "\n",
              "  <svg xmlns=\"http://www.w3.org/2000/svg\" height=\"24px\" viewBox=\"0 -960 960 960\">\n",
              "    <path d=\"M120-120v-720h720v720H120Zm60-500h600v-160H180v160Zm220 220h160v-160H400v160Zm0 220h160v-160H400v160ZM180-400h160v-160H180v160Zm440 0h160v-160H620v160ZM180-180h160v-160H180v160Zm440 0h160v-160H620v160Z\"/>\n",
              "  </svg>\n",
              "    </button>\n",
              "\n",
              "  <style>\n",
              "    .colab-df-container {\n",
              "      display:flex;\n",
              "      gap: 12px;\n",
              "    }\n",
              "\n",
              "    .colab-df-convert {\n",
              "      background-color: #E8F0FE;\n",
              "      border: none;\n",
              "      border-radius: 50%;\n",
              "      cursor: pointer;\n",
              "      display: none;\n",
              "      fill: #1967D2;\n",
              "      height: 32px;\n",
              "      padding: 0 0 0 0;\n",
              "      width: 32px;\n",
              "    }\n",
              "\n",
              "    .colab-df-convert:hover {\n",
              "      background-color: #E2EBFA;\n",
              "      box-shadow: 0px 1px 2px rgba(60, 64, 67, 0.3), 0px 1px 3px 1px rgba(60, 64, 67, 0.15);\n",
              "      fill: #174EA6;\n",
              "    }\n",
              "\n",
              "    .colab-df-buttons div {\n",
              "      margin-bottom: 4px;\n",
              "    }\n",
              "\n",
              "    [theme=dark] .colab-df-convert {\n",
              "      background-color: #3B4455;\n",
              "      fill: #D2E3FC;\n",
              "    }\n",
              "\n",
              "    [theme=dark] .colab-df-convert:hover {\n",
              "      background-color: #434B5C;\n",
              "      box-shadow: 0px 1px 3px 1px rgba(0, 0, 0, 0.15);\n",
              "      filter: drop-shadow(0px 1px 2px rgba(0, 0, 0, 0.3));\n",
              "      fill: #FFFFFF;\n",
              "    }\n",
              "  </style>\n",
              "\n",
              "    <script>\n",
              "      const buttonEl =\n",
              "        document.querySelector('#df-3acc9036-726b-456e-adea-8f8d839898d0 button.colab-df-convert');\n",
              "      buttonEl.style.display =\n",
              "        google.colab.kernel.accessAllowed ? 'block' : 'none';\n",
              "\n",
              "      async function convertToInteractive(key) {\n",
              "        const element = document.querySelector('#df-3acc9036-726b-456e-adea-8f8d839898d0');\n",
              "        const dataTable =\n",
              "          await google.colab.kernel.invokeFunction('convertToInteractive',\n",
              "                                                    [key], {});\n",
              "        if (!dataTable) return;\n",
              "\n",
              "        const docLinkHtml = 'Like what you see? Visit the ' +\n",
              "          '<a target=\"_blank\" href=https://colab.research.google.com/notebooks/data_table.ipynb>data table notebook</a>'\n",
              "          + ' to learn more about interactive tables.';\n",
              "        element.innerHTML = '';\n",
              "        dataTable['output_type'] = 'display_data';\n",
              "        await google.colab.output.renderOutput(dataTable, element);\n",
              "        const docLink = document.createElement('div');\n",
              "        docLink.innerHTML = docLinkHtml;\n",
              "        element.appendChild(docLink);\n",
              "      }\n",
              "    </script>\n",
              "  </div>\n",
              "\n",
              "\n",
              "<div id=\"df-0387cdfa-5d4b-45f3-ae5f-7977473b9b98\">\n",
              "  <button class=\"colab-df-quickchart\" onclick=\"quickchart('df-0387cdfa-5d4b-45f3-ae5f-7977473b9b98')\"\n",
              "            title=\"Suggest charts\"\n",
              "            style=\"display:none;\">\n",
              "\n",
              "<svg xmlns=\"http://www.w3.org/2000/svg\" height=\"24px\"viewBox=\"0 0 24 24\"\n",
              "     width=\"24px\">\n",
              "    <g>\n",
              "        <path d=\"M19 3H5c-1.1 0-2 .9-2 2v14c0 1.1.9 2 2 2h14c1.1 0 2-.9 2-2V5c0-1.1-.9-2-2-2zM9 17H7v-7h2v7zm4 0h-2V7h2v10zm4 0h-2v-4h2v4z\"/>\n",
              "    </g>\n",
              "</svg>\n",
              "  </button>\n",
              "\n",
              "<style>\n",
              "  .colab-df-quickchart {\n",
              "      --bg-color: #E8F0FE;\n",
              "      --fill-color: #1967D2;\n",
              "      --hover-bg-color: #E2EBFA;\n",
              "      --hover-fill-color: #174EA6;\n",
              "      --disabled-fill-color: #AAA;\n",
              "      --disabled-bg-color: #DDD;\n",
              "  }\n",
              "\n",
              "  [theme=dark] .colab-df-quickchart {\n",
              "      --bg-color: #3B4455;\n",
              "      --fill-color: #D2E3FC;\n",
              "      --hover-bg-color: #434B5C;\n",
              "      --hover-fill-color: #FFFFFF;\n",
              "      --disabled-bg-color: #3B4455;\n",
              "      --disabled-fill-color: #666;\n",
              "  }\n",
              "\n",
              "  .colab-df-quickchart {\n",
              "    background-color: var(--bg-color);\n",
              "    border: none;\n",
              "    border-radius: 50%;\n",
              "    cursor: pointer;\n",
              "    display: none;\n",
              "    fill: var(--fill-color);\n",
              "    height: 32px;\n",
              "    padding: 0;\n",
              "    width: 32px;\n",
              "  }\n",
              "\n",
              "  .colab-df-quickchart:hover {\n",
              "    background-color: var(--hover-bg-color);\n",
              "    box-shadow: 0 1px 2px rgba(60, 64, 67, 0.3), 0 1px 3px 1px rgba(60, 64, 67, 0.15);\n",
              "    fill: var(--button-hover-fill-color);\n",
              "  }\n",
              "\n",
              "  .colab-df-quickchart-complete:disabled,\n",
              "  .colab-df-quickchart-complete:disabled:hover {\n",
              "    background-color: var(--disabled-bg-color);\n",
              "    fill: var(--disabled-fill-color);\n",
              "    box-shadow: none;\n",
              "  }\n",
              "\n",
              "  .colab-df-spinner {\n",
              "    border: 2px solid var(--fill-color);\n",
              "    border-color: transparent;\n",
              "    border-bottom-color: var(--fill-color);\n",
              "    animation:\n",
              "      spin 1s steps(1) infinite;\n",
              "  }\n",
              "\n",
              "  @keyframes spin {\n",
              "    0% {\n",
              "      border-color: transparent;\n",
              "      border-bottom-color: var(--fill-color);\n",
              "      border-left-color: var(--fill-color);\n",
              "    }\n",
              "    20% {\n",
              "      border-color: transparent;\n",
              "      border-left-color: var(--fill-color);\n",
              "      border-top-color: var(--fill-color);\n",
              "    }\n",
              "    30% {\n",
              "      border-color: transparent;\n",
              "      border-left-color: var(--fill-color);\n",
              "      border-top-color: var(--fill-color);\n",
              "      border-right-color: var(--fill-color);\n",
              "    }\n",
              "    40% {\n",
              "      border-color: transparent;\n",
              "      border-right-color: var(--fill-color);\n",
              "      border-top-color: var(--fill-color);\n",
              "    }\n",
              "    60% {\n",
              "      border-color: transparent;\n",
              "      border-right-color: var(--fill-color);\n",
              "    }\n",
              "    80% {\n",
              "      border-color: transparent;\n",
              "      border-right-color: var(--fill-color);\n",
              "      border-bottom-color: var(--fill-color);\n",
              "    }\n",
              "    90% {\n",
              "      border-color: transparent;\n",
              "      border-bottom-color: var(--fill-color);\n",
              "    }\n",
              "  }\n",
              "</style>\n",
              "\n",
              "  <script>\n",
              "    async function quickchart(key) {\n",
              "      const quickchartButtonEl =\n",
              "        document.querySelector('#' + key + ' button');\n",
              "      quickchartButtonEl.disabled = true;  // To prevent multiple clicks.\n",
              "      quickchartButtonEl.classList.add('colab-df-spinner');\n",
              "      try {\n",
              "        const charts = await google.colab.kernel.invokeFunction(\n",
              "            'suggestCharts', [key], {});\n",
              "      } catch (error) {\n",
              "        console.error('Error during call to suggestCharts:', error);\n",
              "      }\n",
              "      quickchartButtonEl.classList.remove('colab-df-spinner');\n",
              "      quickchartButtonEl.classList.add('colab-df-quickchart-complete');\n",
              "    }\n",
              "    (() => {\n",
              "      let quickchartButtonEl =\n",
              "        document.querySelector('#df-0387cdfa-5d4b-45f3-ae5f-7977473b9b98 button');\n",
              "      quickchartButtonEl.style.display =\n",
              "        google.colab.kernel.accessAllowed ? 'block' : 'none';\n",
              "    })();\n",
              "  </script>\n",
              "</div>\n",
              "\n",
              "    </div>\n",
              "  </div>\n"
            ],
            "application/vnd.google.colaboratory.intrinsic+json": {
              "type": "dataframe",
              "variable_name": "df"
            }
          },
          "metadata": {},
          "execution_count": 17
        }
      ]
    },
    {
      "cell_type": "code",
      "source": [
        "# Ajuste do gás CO2\n",
        "\n",
        "#Frequência dos gases\n",
        "gas_frequencia = df['gas'].value_counts()\n",
        "\n",
        "#Gases mais frequentes\n",
        "top_gases = gas_frequencia.head(5).index\n",
        "df_filtrado = df[df['gas'].isin(top_gases)]\n",
        "print(gas_frequencia)\n",
        "df_filtrado.head(10)"
      ],
      "metadata": {
        "id": "2dJhkFJX1b3Z",
        "colab": {
          "base_uri": "https://localhost:8080/",
          "height": 806
        },
        "outputId": "20840daf-c017-45bc-d2f9-4d67b40eaf3a"
      },
      "execution_count": 18,
      "outputs": [
        {
          "output_type": "stream",
          "name": "stdout",
          "text": [
            "gas\n",
            "CO2e (t) GTP-AR4    49750\n",
            "CO2e (t) GTP-AR5    49750\n",
            "CO2e (t) GWP-AR2    49750\n",
            "CO2e (t) GWP-AR4    49750\n",
            "CO2e (t) GWP-AR5    49750\n",
            "CO2e (t) GTP-AR2    49750\n",
            "CO2 (t)             37550\n",
            "N2O (t)             26400\n",
            "CH4 (t)             24950\n",
            "COVNM (t)           22950\n",
            "NOx (t)             22100\n",
            "CO (t)              21700\n",
            "NOX (t)               100\n",
            "C2F6 (t)              100\n",
            "CF4 (t)               100\n",
            "SF6 (t)               100\n",
            "HFC-125 (t)            50\n",
            "HFC-134a (t)           50\n",
            "HFC-143a (t)           50\n",
            "HFC-152a (t)           50\n",
            "HFC-23 (t)             50\n",
            "HFC-32 (t)             50\n",
            "Name: count, dtype: int64\n"
          ]
        },
        {
          "output_type": "execute_result",
          "data": {
            "text/plain": [
              "      ano       nivel_1           nivel_2  nivel_3 nivel_4  nivel_5 nivel_6  \\\n",
              "100  1970  Agropecuária  Cultivo do Arroz  Diretas  Outros  Vegetal   Arroz   \n",
              "101  1971  Agropecuária  Cultivo do Arroz  Diretas  Outros  Vegetal   Arroz   \n",
              "102  1972  Agropecuária  Cultivo do Arroz  Diretas  Outros  Vegetal   Arroz   \n",
              "103  1973  Agropecuária  Cultivo do Arroz  Diretas  Outros  Vegetal   Arroz   \n",
              "104  1974  Agropecuária  Cultivo do Arroz  Diretas  Outros  Vegetal   Arroz   \n",
              "105  1975  Agropecuária  Cultivo do Arroz  Diretas  Outros  Vegetal   Arroz   \n",
              "106  1976  Agropecuária  Cultivo do Arroz  Diretas  Outros  Vegetal   Arroz   \n",
              "107  1977  Agropecuária  Cultivo do Arroz  Diretas  Outros  Vegetal   Arroz   \n",
              "108  1978  Agropecuária  Cultivo do Arroz  Diretas  Outros  Vegetal   Arroz   \n",
              "109  1979  Agropecuária  Cultivo do Arroz  Diretas  Outros  Vegetal   Arroz   \n",
              "\n",
              "    tipo_emissao               gas atividade_economica produto     emissao  \\\n",
              "100      Emissão  CO2e (t) GTP-AR4                 NaN     NaN  1152310.80   \n",
              "101      Emissão  CO2e (t) GTP-AR4                 NaN     NaN  1130081.50   \n",
              "102      Emissão  CO2e (t) GTP-AR4                 NaN     NaN  1100506.00   \n",
              "103      Emissão  CO2e (t) GTP-AR4                 NaN     NaN  1070977.80   \n",
              "104      Emissão  CO2e (t) GTP-AR4                 NaN     NaN   934314.20   \n",
              "105      Emissão  CO2e (t) GTP-AR4                 NaN     NaN   987691.00   \n",
              "106      Emissão  CO2e (t) GTP-AR4                 NaN     NaN  1159610.10   \n",
              "107      Emissão  CO2e (t) GTP-AR4                 NaN     NaN  1047589.60   \n",
              "108      Emissão  CO2e (t) GTP-AR4                 NaN     NaN   873169.92   \n",
              "109      Emissão  CO2e (t) GTP-AR4                 NaN     NaN   812897.36   \n",
              "\n",
              "     emissao_normalizada  \n",
              "100            25.460603  \n",
              "101            24.969439  \n",
              "102            24.315958  \n",
              "103            23.663522  \n",
              "104            20.643893  \n",
              "105            21.823272  \n",
              "106            25.621884  \n",
              "107            23.146752  \n",
              "108            19.292889  \n",
              "109            17.961145  "
            ],
            "text/html": [
              "\n",
              "  <div id=\"df-0ddbc020-8444-42bc-a136-e2f1cc3439f6\" class=\"colab-df-container\">\n",
              "    <div>\n",
              "<style scoped>\n",
              "    .dataframe tbody tr th:only-of-type {\n",
              "        vertical-align: middle;\n",
              "    }\n",
              "\n",
              "    .dataframe tbody tr th {\n",
              "        vertical-align: top;\n",
              "    }\n",
              "\n",
              "    .dataframe thead th {\n",
              "        text-align: right;\n",
              "    }\n",
              "</style>\n",
              "<table border=\"1\" class=\"dataframe\">\n",
              "  <thead>\n",
              "    <tr style=\"text-align: right;\">\n",
              "      <th></th>\n",
              "      <th>ano</th>\n",
              "      <th>nivel_1</th>\n",
              "      <th>nivel_2</th>\n",
              "      <th>nivel_3</th>\n",
              "      <th>nivel_4</th>\n",
              "      <th>nivel_5</th>\n",
              "      <th>nivel_6</th>\n",
              "      <th>tipo_emissao</th>\n",
              "      <th>gas</th>\n",
              "      <th>atividade_economica</th>\n",
              "      <th>produto</th>\n",
              "      <th>emissao</th>\n",
              "      <th>emissao_normalizada</th>\n",
              "    </tr>\n",
              "  </thead>\n",
              "  <tbody>\n",
              "    <tr>\n",
              "      <th>100</th>\n",
              "      <td>1970</td>\n",
              "      <td>Agropecuária</td>\n",
              "      <td>Cultivo do Arroz</td>\n",
              "      <td>Diretas</td>\n",
              "      <td>Outros</td>\n",
              "      <td>Vegetal</td>\n",
              "      <td>Arroz</td>\n",
              "      <td>Emissão</td>\n",
              "      <td>CO2e (t) GTP-AR4</td>\n",
              "      <td>NaN</td>\n",
              "      <td>NaN</td>\n",
              "      <td>1152310.80</td>\n",
              "      <td>25.460603</td>\n",
              "    </tr>\n",
              "    <tr>\n",
              "      <th>101</th>\n",
              "      <td>1971</td>\n",
              "      <td>Agropecuária</td>\n",
              "      <td>Cultivo do Arroz</td>\n",
              "      <td>Diretas</td>\n",
              "      <td>Outros</td>\n",
              "      <td>Vegetal</td>\n",
              "      <td>Arroz</td>\n",
              "      <td>Emissão</td>\n",
              "      <td>CO2e (t) GTP-AR4</td>\n",
              "      <td>NaN</td>\n",
              "      <td>NaN</td>\n",
              "      <td>1130081.50</td>\n",
              "      <td>24.969439</td>\n",
              "    </tr>\n",
              "    <tr>\n",
              "      <th>102</th>\n",
              "      <td>1972</td>\n",
              "      <td>Agropecuária</td>\n",
              "      <td>Cultivo do Arroz</td>\n",
              "      <td>Diretas</td>\n",
              "      <td>Outros</td>\n",
              "      <td>Vegetal</td>\n",
              "      <td>Arroz</td>\n",
              "      <td>Emissão</td>\n",
              "      <td>CO2e (t) GTP-AR4</td>\n",
              "      <td>NaN</td>\n",
              "      <td>NaN</td>\n",
              "      <td>1100506.00</td>\n",
              "      <td>24.315958</td>\n",
              "    </tr>\n",
              "    <tr>\n",
              "      <th>103</th>\n",
              "      <td>1973</td>\n",
              "      <td>Agropecuária</td>\n",
              "      <td>Cultivo do Arroz</td>\n",
              "      <td>Diretas</td>\n",
              "      <td>Outros</td>\n",
              "      <td>Vegetal</td>\n",
              "      <td>Arroz</td>\n",
              "      <td>Emissão</td>\n",
              "      <td>CO2e (t) GTP-AR4</td>\n",
              "      <td>NaN</td>\n",
              "      <td>NaN</td>\n",
              "      <td>1070977.80</td>\n",
              "      <td>23.663522</td>\n",
              "    </tr>\n",
              "    <tr>\n",
              "      <th>104</th>\n",
              "      <td>1974</td>\n",
              "      <td>Agropecuária</td>\n",
              "      <td>Cultivo do Arroz</td>\n",
              "      <td>Diretas</td>\n",
              "      <td>Outros</td>\n",
              "      <td>Vegetal</td>\n",
              "      <td>Arroz</td>\n",
              "      <td>Emissão</td>\n",
              "      <td>CO2e (t) GTP-AR4</td>\n",
              "      <td>NaN</td>\n",
              "      <td>NaN</td>\n",
              "      <td>934314.20</td>\n",
              "      <td>20.643893</td>\n",
              "    </tr>\n",
              "    <tr>\n",
              "      <th>105</th>\n",
              "      <td>1975</td>\n",
              "      <td>Agropecuária</td>\n",
              "      <td>Cultivo do Arroz</td>\n",
              "      <td>Diretas</td>\n",
              "      <td>Outros</td>\n",
              "      <td>Vegetal</td>\n",
              "      <td>Arroz</td>\n",
              "      <td>Emissão</td>\n",
              "      <td>CO2e (t) GTP-AR4</td>\n",
              "      <td>NaN</td>\n",
              "      <td>NaN</td>\n",
              "      <td>987691.00</td>\n",
              "      <td>21.823272</td>\n",
              "    </tr>\n",
              "    <tr>\n",
              "      <th>106</th>\n",
              "      <td>1976</td>\n",
              "      <td>Agropecuária</td>\n",
              "      <td>Cultivo do Arroz</td>\n",
              "      <td>Diretas</td>\n",
              "      <td>Outros</td>\n",
              "      <td>Vegetal</td>\n",
              "      <td>Arroz</td>\n",
              "      <td>Emissão</td>\n",
              "      <td>CO2e (t) GTP-AR4</td>\n",
              "      <td>NaN</td>\n",
              "      <td>NaN</td>\n",
              "      <td>1159610.10</td>\n",
              "      <td>25.621884</td>\n",
              "    </tr>\n",
              "    <tr>\n",
              "      <th>107</th>\n",
              "      <td>1977</td>\n",
              "      <td>Agropecuária</td>\n",
              "      <td>Cultivo do Arroz</td>\n",
              "      <td>Diretas</td>\n",
              "      <td>Outros</td>\n",
              "      <td>Vegetal</td>\n",
              "      <td>Arroz</td>\n",
              "      <td>Emissão</td>\n",
              "      <td>CO2e (t) GTP-AR4</td>\n",
              "      <td>NaN</td>\n",
              "      <td>NaN</td>\n",
              "      <td>1047589.60</td>\n",
              "      <td>23.146752</td>\n",
              "    </tr>\n",
              "    <tr>\n",
              "      <th>108</th>\n",
              "      <td>1978</td>\n",
              "      <td>Agropecuária</td>\n",
              "      <td>Cultivo do Arroz</td>\n",
              "      <td>Diretas</td>\n",
              "      <td>Outros</td>\n",
              "      <td>Vegetal</td>\n",
              "      <td>Arroz</td>\n",
              "      <td>Emissão</td>\n",
              "      <td>CO2e (t) GTP-AR4</td>\n",
              "      <td>NaN</td>\n",
              "      <td>NaN</td>\n",
              "      <td>873169.92</td>\n",
              "      <td>19.292889</td>\n",
              "    </tr>\n",
              "    <tr>\n",
              "      <th>109</th>\n",
              "      <td>1979</td>\n",
              "      <td>Agropecuária</td>\n",
              "      <td>Cultivo do Arroz</td>\n",
              "      <td>Diretas</td>\n",
              "      <td>Outros</td>\n",
              "      <td>Vegetal</td>\n",
              "      <td>Arroz</td>\n",
              "      <td>Emissão</td>\n",
              "      <td>CO2e (t) GTP-AR4</td>\n",
              "      <td>NaN</td>\n",
              "      <td>NaN</td>\n",
              "      <td>812897.36</td>\n",
              "      <td>17.961145</td>\n",
              "    </tr>\n",
              "  </tbody>\n",
              "</table>\n",
              "</div>\n",
              "    <div class=\"colab-df-buttons\">\n",
              "\n",
              "  <div class=\"colab-df-container\">\n",
              "    <button class=\"colab-df-convert\" onclick=\"convertToInteractive('df-0ddbc020-8444-42bc-a136-e2f1cc3439f6')\"\n",
              "            title=\"Convert this dataframe to an interactive table.\"\n",
              "            style=\"display:none;\">\n",
              "\n",
              "  <svg xmlns=\"http://www.w3.org/2000/svg\" height=\"24px\" viewBox=\"0 -960 960 960\">\n",
              "    <path d=\"M120-120v-720h720v720H120Zm60-500h600v-160H180v160Zm220 220h160v-160H400v160Zm0 220h160v-160H400v160ZM180-400h160v-160H180v160Zm440 0h160v-160H620v160ZM180-180h160v-160H180v160Zm440 0h160v-160H620v160Z\"/>\n",
              "  </svg>\n",
              "    </button>\n",
              "\n",
              "  <style>\n",
              "    .colab-df-container {\n",
              "      display:flex;\n",
              "      gap: 12px;\n",
              "    }\n",
              "\n",
              "    .colab-df-convert {\n",
              "      background-color: #E8F0FE;\n",
              "      border: none;\n",
              "      border-radius: 50%;\n",
              "      cursor: pointer;\n",
              "      display: none;\n",
              "      fill: #1967D2;\n",
              "      height: 32px;\n",
              "      padding: 0 0 0 0;\n",
              "      width: 32px;\n",
              "    }\n",
              "\n",
              "    .colab-df-convert:hover {\n",
              "      background-color: #E2EBFA;\n",
              "      box-shadow: 0px 1px 2px rgba(60, 64, 67, 0.3), 0px 1px 3px 1px rgba(60, 64, 67, 0.15);\n",
              "      fill: #174EA6;\n",
              "    }\n",
              "\n",
              "    .colab-df-buttons div {\n",
              "      margin-bottom: 4px;\n",
              "    }\n",
              "\n",
              "    [theme=dark] .colab-df-convert {\n",
              "      background-color: #3B4455;\n",
              "      fill: #D2E3FC;\n",
              "    }\n",
              "\n",
              "    [theme=dark] .colab-df-convert:hover {\n",
              "      background-color: #434B5C;\n",
              "      box-shadow: 0px 1px 3px 1px rgba(0, 0, 0, 0.15);\n",
              "      filter: drop-shadow(0px 1px 2px rgba(0, 0, 0, 0.3));\n",
              "      fill: #FFFFFF;\n",
              "    }\n",
              "  </style>\n",
              "\n",
              "    <script>\n",
              "      const buttonEl =\n",
              "        document.querySelector('#df-0ddbc020-8444-42bc-a136-e2f1cc3439f6 button.colab-df-convert');\n",
              "      buttonEl.style.display =\n",
              "        google.colab.kernel.accessAllowed ? 'block' : 'none';\n",
              "\n",
              "      async function convertToInteractive(key) {\n",
              "        const element = document.querySelector('#df-0ddbc020-8444-42bc-a136-e2f1cc3439f6');\n",
              "        const dataTable =\n",
              "          await google.colab.kernel.invokeFunction('convertToInteractive',\n",
              "                                                    [key], {});\n",
              "        if (!dataTable) return;\n",
              "\n",
              "        const docLinkHtml = 'Like what you see? Visit the ' +\n",
              "          '<a target=\"_blank\" href=https://colab.research.google.com/notebooks/data_table.ipynb>data table notebook</a>'\n",
              "          + ' to learn more about interactive tables.';\n",
              "        element.innerHTML = '';\n",
              "        dataTable['output_type'] = 'display_data';\n",
              "        await google.colab.output.renderOutput(dataTable, element);\n",
              "        const docLink = document.createElement('div');\n",
              "        docLink.innerHTML = docLinkHtml;\n",
              "        element.appendChild(docLink);\n",
              "      }\n",
              "    </script>\n",
              "  </div>\n",
              "\n",
              "\n",
              "<div id=\"df-42b01886-7223-449f-ab15-d1708aa912e0\">\n",
              "  <button class=\"colab-df-quickchart\" onclick=\"quickchart('df-42b01886-7223-449f-ab15-d1708aa912e0')\"\n",
              "            title=\"Suggest charts\"\n",
              "            style=\"display:none;\">\n",
              "\n",
              "<svg xmlns=\"http://www.w3.org/2000/svg\" height=\"24px\"viewBox=\"0 0 24 24\"\n",
              "     width=\"24px\">\n",
              "    <g>\n",
              "        <path d=\"M19 3H5c-1.1 0-2 .9-2 2v14c0 1.1.9 2 2 2h14c1.1 0 2-.9 2-2V5c0-1.1-.9-2-2-2zM9 17H7v-7h2v7zm4 0h-2V7h2v10zm4 0h-2v-4h2v4z\"/>\n",
              "    </g>\n",
              "</svg>\n",
              "  </button>\n",
              "\n",
              "<style>\n",
              "  .colab-df-quickchart {\n",
              "      --bg-color: #E8F0FE;\n",
              "      --fill-color: #1967D2;\n",
              "      --hover-bg-color: #E2EBFA;\n",
              "      --hover-fill-color: #174EA6;\n",
              "      --disabled-fill-color: #AAA;\n",
              "      --disabled-bg-color: #DDD;\n",
              "  }\n",
              "\n",
              "  [theme=dark] .colab-df-quickchart {\n",
              "      --bg-color: #3B4455;\n",
              "      --fill-color: #D2E3FC;\n",
              "      --hover-bg-color: #434B5C;\n",
              "      --hover-fill-color: #FFFFFF;\n",
              "      --disabled-bg-color: #3B4455;\n",
              "      --disabled-fill-color: #666;\n",
              "  }\n",
              "\n",
              "  .colab-df-quickchart {\n",
              "    background-color: var(--bg-color);\n",
              "    border: none;\n",
              "    border-radius: 50%;\n",
              "    cursor: pointer;\n",
              "    display: none;\n",
              "    fill: var(--fill-color);\n",
              "    height: 32px;\n",
              "    padding: 0;\n",
              "    width: 32px;\n",
              "  }\n",
              "\n",
              "  .colab-df-quickchart:hover {\n",
              "    background-color: var(--hover-bg-color);\n",
              "    box-shadow: 0 1px 2px rgba(60, 64, 67, 0.3), 0 1px 3px 1px rgba(60, 64, 67, 0.15);\n",
              "    fill: var(--button-hover-fill-color);\n",
              "  }\n",
              "\n",
              "  .colab-df-quickchart-complete:disabled,\n",
              "  .colab-df-quickchart-complete:disabled:hover {\n",
              "    background-color: var(--disabled-bg-color);\n",
              "    fill: var(--disabled-fill-color);\n",
              "    box-shadow: none;\n",
              "  }\n",
              "\n",
              "  .colab-df-spinner {\n",
              "    border: 2px solid var(--fill-color);\n",
              "    border-color: transparent;\n",
              "    border-bottom-color: var(--fill-color);\n",
              "    animation:\n",
              "      spin 1s steps(1) infinite;\n",
              "  }\n",
              "\n",
              "  @keyframes spin {\n",
              "    0% {\n",
              "      border-color: transparent;\n",
              "      border-bottom-color: var(--fill-color);\n",
              "      border-left-color: var(--fill-color);\n",
              "    }\n",
              "    20% {\n",
              "      border-color: transparent;\n",
              "      border-left-color: var(--fill-color);\n",
              "      border-top-color: var(--fill-color);\n",
              "    }\n",
              "    30% {\n",
              "      border-color: transparent;\n",
              "      border-left-color: var(--fill-color);\n",
              "      border-top-color: var(--fill-color);\n",
              "      border-right-color: var(--fill-color);\n",
              "    }\n",
              "    40% {\n",
              "      border-color: transparent;\n",
              "      border-right-color: var(--fill-color);\n",
              "      border-top-color: var(--fill-color);\n",
              "    }\n",
              "    60% {\n",
              "      border-color: transparent;\n",
              "      border-right-color: var(--fill-color);\n",
              "    }\n",
              "    80% {\n",
              "      border-color: transparent;\n",
              "      border-right-color: var(--fill-color);\n",
              "      border-bottom-color: var(--fill-color);\n",
              "    }\n",
              "    90% {\n",
              "      border-color: transparent;\n",
              "      border-bottom-color: var(--fill-color);\n",
              "    }\n",
              "  }\n",
              "</style>\n",
              "\n",
              "  <script>\n",
              "    async function quickchart(key) {\n",
              "      const quickchartButtonEl =\n",
              "        document.querySelector('#' + key + ' button');\n",
              "      quickchartButtonEl.disabled = true;  // To prevent multiple clicks.\n",
              "      quickchartButtonEl.classList.add('colab-df-spinner');\n",
              "      try {\n",
              "        const charts = await google.colab.kernel.invokeFunction(\n",
              "            'suggestCharts', [key], {});\n",
              "      } catch (error) {\n",
              "        console.error('Error during call to suggestCharts:', error);\n",
              "      }\n",
              "      quickchartButtonEl.classList.remove('colab-df-spinner');\n",
              "      quickchartButtonEl.classList.add('colab-df-quickchart-complete');\n",
              "    }\n",
              "    (() => {\n",
              "      let quickchartButtonEl =\n",
              "        document.querySelector('#df-42b01886-7223-449f-ab15-d1708aa912e0 button');\n",
              "      quickchartButtonEl.style.display =\n",
              "        google.colab.kernel.accessAllowed ? 'block' : 'none';\n",
              "    })();\n",
              "  </script>\n",
              "</div>\n",
              "\n",
              "    </div>\n",
              "  </div>\n"
            ],
            "application/vnd.google.colaboratory.intrinsic+json": {
              "type": "dataframe",
              "variable_name": "df_filtrado"
            }
          },
          "metadata": {},
          "execution_count": 18
        }
      ]
    },
    {
      "cell_type": "code",
      "source": [
        "# 'União' dos tipos de CO2 do dataset\n",
        "\n",
        "df['gas'] = df['gas'].replace(to_replace=r'CO2.*', value='CO2 (t)', regex=True)\n",
        "print(df['gas'].value_counts())"
      ],
      "metadata": {
        "id": "3Zh7eGKj1oto",
        "colab": {
          "base_uri": "https://localhost:8080/"
        },
        "outputId": "ec972a34-13db-4f7b-da3f-fd71d6aa2fdb"
      },
      "execution_count": 19,
      "outputs": [
        {
          "output_type": "stream",
          "name": "stdout",
          "text": [
            "gas\n",
            "CO2 (t)         336050\n",
            "N2O (t)          26400\n",
            "CH4 (t)          24950\n",
            "COVNM (t)        22950\n",
            "NOx (t)          22100\n",
            "CO (t)           21700\n",
            "NOX (t)            100\n",
            "C2F6 (t)           100\n",
            "CF4 (t)            100\n",
            "SF6 (t)            100\n",
            "HFC-125 (t)         50\n",
            "HFC-134a (t)        50\n",
            "HFC-143a (t)        50\n",
            "HFC-152a (t)        50\n",
            "HFC-23 (t)          50\n",
            "HFC-32 (t)          50\n",
            "Name: count, dtype: int64\n"
          ]
        }
      ]
    },
    {
      "cell_type": "code",
      "source": [
        "df['gas'].unique()"
      ],
      "metadata": {
        "id": "4ywfeknb26wg",
        "colab": {
          "base_uri": "https://localhost:8080/"
        },
        "outputId": "a9e6446f-d2c2-46d2-e9b0-70fd1e60a1d1"
      },
      "execution_count": 20,
      "outputs": [
        {
          "output_type": "execute_result",
          "data": {
            "text/plain": [
              "array(['CH4 (t)', 'CO2 (t)', 'N2O (t)', 'CO (t)', 'NOX (t)', 'COVNM (t)',\n",
              "       'NOx (t)', 'HFC-125 (t)', 'HFC-134a (t)', 'HFC-143a (t)',\n",
              "       'HFC-152a (t)', 'HFC-23 (t)', 'HFC-32 (t)', 'C2F6 (t)', 'CF4 (t)',\n",
              "       'SF6 (t)'], dtype=object)"
            ]
          },
          "metadata": {},
          "execution_count": 20
        }
      ]
    },
    {
      "cell_type": "markdown",
      "source": [
        "# **Análise Gráfica**\n",
        "\n",
        "No processo de Análise Gráfica, foram gerados gráficos com o objetivo de explorar visualmente o comportamento dos dados de GEE ao longo do tempo e por categoria econômica. Esses gráficos permitiram observar tendências, sazonalidades e identificar setores com maior impacto nas emissões."
      ],
      "metadata": {
        "id": "Rv6iNTGXoLRH"
      }
    },
    {
      "cell_type": "code",
      "source": [
        "# Gráficos\n",
        "\n",
        "import matplotlib.pyplot as plt\n",
        "\n",
        "#Agrupando por ano e somando as emissões\n",
        "serie_temporal = df.groupby('ano')['emissao_normalizada'].sum().reset_index()\n",
        "\n",
        "plt.figure(figsize=(12, 6))\n",
        "plt.plot(serie_temporal['ano'], serie_temporal['emissao_normalizada'], marker='o')\n",
        "plt.title('Emissão de Gás de Efeito Estufa por Ano')\n",
        "plt.xlabel('Ano')\n",
        "plt.ylabel('Emissão')\n",
        "plt.grid()\n",
        "plt.show()"
      ],
      "metadata": {
        "id": "-cG2gZGh1Ve1",
        "colab": {
          "base_uri": "https://localhost:8080/",
          "height": 565
        },
        "outputId": "9fca2d09-0b9d-4b97-bac7-0db0e9b56797"
      },
      "execution_count": 21,
      "outputs": [
        {
          "output_type": "display_data",
          "data": {
            "text/plain": [
              "<Figure size 1200x600 with 1 Axes>"
            ],
            "image/png": "[encoded data removed]"
          },
          "metadata": {}
        }
      ]
    },
    {
      "cell_type": "markdown",
      "source": [
        "O gráfico acima gerado trata-se de uma série temporal das emissões totais de CO₂ ao longo dos anos, entre 1970 a 2020. Esse gráfico de linha possibilitou visualizar o comportamento das emissões no tempo, evidenciando períodos de crescimento e diminuição das emissões, bem como mudanças significativas que podem estar associadas a eventos econômicos ou políticas ambientais."
      ],
      "metadata": {
        "id": "og_oGR98oklr"
      }
    },
    {
      "cell_type": "code",
      "source": [
        "# Gráfico de Barras: Emissões por Atividade Econômica\n",
        "import seaborn as sns\n",
        "\n",
        "plt.figure(figsize=(10,6))\n",
        "sns.barplot(data=df, x='nivel_1', y='emissao_normalizada', estimator=sum)\n",
        "plt.title('Emissões Totais por Atividade Econômica')\n",
        "plt.xlabel('Atividade Econômica')\n",
        "plt.ylabel('Emissão Total')\n",
        "plt.xticks(rotation=45)\n",
        "plt.show()"
      ],
      "metadata": {
        "id": "nass8_TR2avI",
        "colab": {
          "base_uri": "https://localhost:8080/",
          "height": 736
        },
        "outputId": "87346461-1100-4462-f16e-716716d21628"
      },
      "execution_count": 22,
      "outputs": [
        {
          "output_type": "display_data",
          "data": {
            "text/plain": [
              "<Figure size 1000x600 with 1 Axes>"
            ],
            "image/png": "[encoded data removed]"
          },
          "metadata": {}
        }
      ]
    },
    {
      "cell_type": "markdown",
      "source": [
        "Em seguida, foram criados gráficos de barras para representar as emissões de CO₂ por setor econômico. Esses gráficos permitiram uma análise comparativa entre setores, revelando quais áreas da economia contribuem mais intensamente para as emissões. Com essa visualização, foi possível destacar setores críticos que necessitam de maior atenção em estratégias de mitigação de GEE, o que pode ajudar a confirmar previsões dos modelos."
      ],
      "metadata": {
        "id": "S6kDDHR9pDvm"
      }
    },
    {
      "cell_type": "code",
      "source": [
        "# Agrupar os gases\n",
        "\n",
        "df_agrupado = df.groupby('gas')['emissao_normalizada'].mean().reset_index()\n",
        "df_agrupado.head()"
      ],
      "metadata": {
        "id": "6KCV0rlK4a77",
        "colab": {
          "base_uri": "https://localhost:8080/",
          "height": 206
        },
        "outputId": "66c1aca3-ab28-4930-84bd-cdcc0c91eac6"
      },
      "execution_count": 23,
      "outputs": [
        {
          "output_type": "execute_result",
          "data": {
            "text/plain": [
              "        gas  emissao_normalizada\n",
              "0  C2F6 (t)             0.000022\n",
              "1   CF4 (t)             0.001455\n",
              "2   CH4 (t)             0.722707\n",
              "3    CO (t)             0.622164\n",
              "4   CO2 (t)            44.710017"
            ],
            "text/html": [
              "\n",
              "  <div id=\"df-0965eb79-5c52-45d8-b2f6-8a9e5beee897\" class=\"colab-df-container\">\n",
              "    <div>\n",
              "<style scoped>\n",
              "    .dataframe tbody tr th:only-of-type {\n",
              "        vertical-align: middle;\n",
              "    }\n",
              "\n",
              "    .dataframe tbody tr th {\n",
              "        vertical-align: top;\n",
              "    }\n",
              "\n",
              "    .dataframe thead th {\n",
              "        text-align: right;\n",
              "    }\n",
              "</style>\n",
              "<table border=\"1\" class=\"dataframe\">\n",
              "  <thead>\n",
              "    <tr style=\"text-align: right;\">\n",
              "      <th></th>\n",
              "      <th>gas</th>\n",
              "      <th>emissao_normalizada</th>\n",
              "    </tr>\n",
              "  </thead>\n",
              "  <tbody>\n",
              "    <tr>\n",
              "      <th>0</th>\n",
              "      <td>C2F6 (t)</td>\n",
              "      <td>0.000022</td>\n",
              "    </tr>\n",
              "    <tr>\n",
              "      <th>1</th>\n",
              "      <td>CF4 (t)</td>\n",
              "      <td>0.001455</td>\n",
              "    </tr>\n",
              "    <tr>\n",
              "      <th>2</th>\n",
              "      <td>CH4 (t)</td>\n",
              "      <td>0.722707</td>\n",
              "    </tr>\n",
              "    <tr>\n",
              "      <th>3</th>\n",
              "      <td>CO (t)</td>\n",
              "      <td>0.622164</td>\n",
              "    </tr>\n",
              "    <tr>\n",
              "      <th>4</th>\n",
              "      <td>CO2 (t)</td>\n",
              "      <td>44.710017</td>\n",
              "    </tr>\n",
              "  </tbody>\n",
              "</table>\n",
              "</div>\n",
              "    <div class=\"colab-df-buttons\">\n",
              "\n",
              "  <div class=\"colab-df-container\">\n",
              "    <button class=\"colab-df-convert\" onclick=\"convertToInteractive('df-0965eb79-5c52-45d8-b2f6-8a9e5beee897')\"\n",
              "            title=\"Convert this dataframe to an interactive table.\"\n",
              "            style=\"display:none;\">\n",
              "\n",
              "  <svg xmlns=\"http://www.w3.org/2000/svg\" height=\"24px\" viewBox=\"0 -960 960 960\">\n",
              "    <path d=\"M120-120v-720h720v720H120Zm60-500h600v-160H180v160Zm220 220h160v-160H400v160Zm0 220h160v-160H400v160ZM180-400h160v-160H180v160Zm440 0h160v-160H620v160ZM180-180h160v-160H180v160Zm440 0h160v-160H620v160Z\"/>\n",
              "  </svg>\n",
              "    </button>\n",
              "\n",
              "  <style>\n",
              "    .colab-df-container {\n",
              "      display:flex;\n",
              "      gap: 12px;\n",
              "    }\n",
              "\n",
              "    .colab-df-convert {\n",
              "      background-color: #E8F0FE;\n",
              "      border: none;\n",
              "      border-radius: 50%;\n",
              "      cursor: pointer;\n",
              "      display: none;\n",
              "      fill: #1967D2;\n",
              "      height: 32px;\n",
              "      padding: 0 0 0 0;\n",
              "      width: 32px;\n",
              "    }\n",
              "\n",
              "    .colab-df-convert:hover {\n",
              "      background-color: #E2EBFA;\n",
              "      box-shadow: 0px 1px 2px rgba(60, 64, 67, 0.3), 0px 1px 3px 1px rgba(60, 64, 67, 0.15);\n",
              "      fill: #174EA6;\n",
              "    }\n",
              "\n",
              "    .colab-df-buttons div {\n",
              "      margin-bottom: 4px;\n",
              "    }\n",
              "\n",
              "    [theme=dark] .colab-df-convert {\n",
              "      background-color: #3B4455;\n",
              "      fill: #D2E3FC;\n",
              "    }\n",
              "\n",
              "    [theme=dark] .colab-df-convert:hover {\n",
              "      background-color: #434B5C;\n",
              "      box-shadow: 0px 1px 3px 1px rgba(0, 0, 0, 0.15);\n",
              "      filter: drop-shadow(0px 1px 2px rgba(0, 0, 0, 0.3));\n",
              "      fill: #FFFFFF;\n",
              "    }\n",
              "  </style>\n",
              "\n",
              "    <script>\n",
              "      const buttonEl =\n",
              "        document.querySelector('#df-0965eb79-5c52-45d8-b2f6-8a9e5beee897 button.colab-df-convert');\n",
              "      buttonEl.style.display =\n",
              "        google.colab.kernel.accessAllowed ? 'block' : 'none';\n",
              "\n",
              "      async function convertToInteractive(key) {\n",
              "        const element = document.querySelector('#df-0965eb79-5c52-45d8-b2f6-8a9e5beee897');\n",
              "        const dataTable =\n",
              "          await google.colab.kernel.invokeFunction('convertToInteractive',\n",
              "                                                    [key], {});\n",
              "        if (!dataTable) return;\n",
              "\n",
              "        const docLinkHtml = 'Like what you see? Visit the ' +\n",
              "          '<a target=\"_blank\" href=https://colab.research.google.com/notebooks/data_table.ipynb>data table notebook</a>'\n",
              "          + ' to learn more about interactive tables.';\n",
              "        element.innerHTML = '';\n",
              "        dataTable['output_type'] = 'display_data';\n",
              "        await google.colab.output.renderOutput(dataTable, element);\n",
              "        const docLink = document.createElement('div');\n",
              "        docLink.innerHTML = docLinkHtml;\n",
              "        element.appendChild(docLink);\n",
              "      }\n",
              "    </script>\n",
              "  </div>\n",
              "\n",
              "\n",
              "<div id=\"df-bccfe386-f30a-4792-a82f-c25d9e912b85\">\n",
              "  <button class=\"colab-df-quickchart\" onclick=\"quickchart('df-bccfe386-f30a-4792-a82f-c25d9e912b85')\"\n",
              "            title=\"Suggest charts\"\n",
              "            style=\"display:none;\">\n",
              "\n",
              "<svg xmlns=\"http://www.w3.org/2000/svg\" height=\"24px\"viewBox=\"0 0 24 24\"\n",
              "     width=\"24px\">\n",
              "    <g>\n",
              "        <path d=\"M19 3H5c-1.1 0-2 .9-2 2v14c0 1.1.9 2 2 2h14c1.1 0 2-.9 2-2V5c0-1.1-.9-2-2-2zM9 17H7v-7h2v7zm4 0h-2V7h2v10zm4 0h-2v-4h2v4z\"/>\n",
              "    </g>\n",
              "</svg>\n",
              "  </button>\n",
              "\n",
              "<style>\n",
              "  .colab-df-quickchart {\n",
              "      --bg-color: #E8F0FE;\n",
              "      --fill-color: #1967D2;\n",
              "      --hover-bg-color: #E2EBFA;\n",
              "      --hover-fill-color: #174EA6;\n",
              "      --disabled-fill-color: #AAA;\n",
              "      --disabled-bg-color: #DDD;\n",
              "  }\n",
              "\n",
              "  [theme=dark] .colab-df-quickchart {\n",
              "      --bg-color: #3B4455;\n",
              "      --fill-color: #D2E3FC;\n",
              "      --hover-bg-color: #434B5C;\n",
              "      --hover-fill-color: #FFFFFF;\n",
              "      --disabled-bg-color: #3B4455;\n",
              "      --disabled-fill-color: #666;\n",
              "  }\n",
              "\n",
              "  .colab-df-quickchart {\n",
              "    background-color: var(--bg-color);\n",
              "    border: none;\n",
              "    border-radius: 50%;\n",
              "    cursor: pointer;\n",
              "    display: none;\n",
              "    fill: var(--fill-color);\n",
              "    height: 32px;\n",
              "    padding: 0;\n",
              "    width: 32px;\n",
              "  }\n",
              "\n",
              "  .colab-df-quickchart:hover {\n",
              "    background-color: var(--hover-bg-color);\n",
              "    box-shadow: 0 1px 2px rgba(60, 64, 67, 0.3), 0 1px 3px 1px rgba(60, 64, 67, 0.15);\n",
              "    fill: var(--button-hover-fill-color);\n",
              "  }\n",
              "\n",
              "  .colab-df-quickchart-complete:disabled,\n",
              "  .colab-df-quickchart-complete:disabled:hover {\n",
              "    background-color: var(--disabled-bg-color);\n",
              "    fill: var(--disabled-fill-color);\n",
              "    box-shadow: none;\n",
              "  }\n",
              "\n",
              "  .colab-df-spinner {\n",
              "    border: 2px solid var(--fill-color);\n",
              "    border-color: transparent;\n",
              "    border-bottom-color: var(--fill-color);\n",
              "    animation:\n",
              "      spin 1s steps(1) infinite;\n",
              "  }\n",
              "\n",
              "  @keyframes spin {\n",
              "    0% {\n",
              "      border-color: transparent;\n",
              "      border-bottom-color: var(--fill-color);\n",
              "      border-left-color: var(--fill-color);\n",
              "    }\n",
              "    20% {\n",
              "      border-color: transparent;\n",
              "      border-left-color: var(--fill-color);\n",
              "      border-top-color: var(--fill-color);\n",
              "    }\n",
              "    30% {\n",
              "      border-color: transparent;\n",
              "      border-left-color: var(--fill-color);\n",
              "      border-top-color: var(--fill-color);\n",
              "      border-right-color: var(--fill-color);\n",
              "    }\n",
              "    40% {\n",
              "      border-color: transparent;\n",
              "      border-right-color: var(--fill-color);\n",
              "      border-top-color: var(--fill-color);\n",
              "    }\n",
              "    60% {\n",
              "      border-color: transparent;\n",
              "      border-right-color: var(--fill-color);\n",
              "    }\n",
              "    80% {\n",
              "      border-color: transparent;\n",
              "      border-right-color: var(--fill-color);\n",
              "      border-bottom-color: var(--fill-color);\n",
              "    }\n",
              "    90% {\n",
              "      border-color: transparent;\n",
              "      border-bottom-color: var(--fill-color);\n",
              "    }\n",
              "  }\n",
              "</style>\n",
              "\n",
              "  <script>\n",
              "    async function quickchart(key) {\n",
              "      const quickchartButtonEl =\n",
              "        document.querySelector('#' + key + ' button');\n",
              "      quickchartButtonEl.disabled = true;  // To prevent multiple clicks.\n",
              "      quickchartButtonEl.classList.add('colab-df-spinner');\n",
              "      try {\n",
              "        const charts = await google.colab.kernel.invokeFunction(\n",
              "            'suggestCharts', [key], {});\n",
              "      } catch (error) {\n",
              "        console.error('Error during call to suggestCharts:', error);\n",
              "      }\n",
              "      quickchartButtonEl.classList.remove('colab-df-spinner');\n",
              "      quickchartButtonEl.classList.add('colab-df-quickchart-complete');\n",
              "    }\n",
              "    (() => {\n",
              "      let quickchartButtonEl =\n",
              "        document.querySelector('#df-bccfe386-f30a-4792-a82f-c25d9e912b85 button');\n",
              "      quickchartButtonEl.style.display =\n",
              "        google.colab.kernel.accessAllowed ? 'block' : 'none';\n",
              "    })();\n",
              "  </script>\n",
              "</div>\n",
              "\n",
              "    </div>\n",
              "  </div>\n"
            ],
            "application/vnd.google.colaboratory.intrinsic+json": {
              "type": "dataframe",
              "variable_name": "df_agrupado",
              "summary": "{\n  \"name\": \"df_agrupado\",\n  \"rows\": 16,\n  \"fields\": [\n    {\n      \"column\": \"gas\",\n      \"properties\": {\n        \"dtype\": \"string\",\n        \"num_unique_values\": 16,\n        \"samples\": [\n          \"C2F6 (t)\",\n          \"CF4 (t)\",\n          \"COVNM (t)\"\n        ],\n        \"semantic_type\": \"\",\n        \"description\": \"\"\n      }\n    },\n    {\n      \"column\": \"emissao_normalizada\",\n      \"properties\": {\n        \"dtype\": \"number\",\n        \"std\": 11.135139617771854,\n        \"min\": -4.214369231540185e-06,\n        \"max\": 44.71001720973892,\n        \"num_unique_values\": 16,\n        \"samples\": [\n          2.242038517359806e-05,\n          0.001455154280692834,\n          0.20544327218913616\n        ],\n        \"semantic_type\": \"\",\n        \"description\": \"\"\n      }\n    }\n  ]\n}"
            }
          },
          "metadata": {},
          "execution_count": 23
        }
      ]
    },
    {
      "cell_type": "code",
      "source": [
        "import matplotlib.pyplot as plt\n",
        "\n",
        "# Gráfico de barras\n",
        "plt.figure(figsize=(10, 5))\n",
        "plt.bar(df_agrupado['gas'], df_agrupado['emissao_normalizada'], color=['orange', 'blue', 'green', 'red', 'purple'])\n",
        "plt.title('Distribuição de Emissões Normalizadas por Tipo de Gás')\n",
        "plt.xlabel('Tipo de Gás')\n",
        "plt.ylabel('Emissão Normalizada')\n",
        "plt.xticks(rotation=45)  # Rotaciona os rótulos do eixo x para melhor legibilidade\n",
        "plt.grid(axis='y')\n",
        "plt.show()"
      ],
      "metadata": {
        "id": "SE4zUKoe5b88",
        "colab": {
          "base_uri": "https://localhost:8080/",
          "height": 547
        },
        "outputId": "ac8a975b-afc8-4ea2-9582-f0e6efcc0341"
      },
      "execution_count": 24,
      "outputs": [
        {
          "output_type": "display_data",
          "data": {
            "text/plain": [
              "<Figure size 1000x500 with 1 Axes>"
            ],
            "image/png": "[encoded data removed]"
          },
          "metadata": {}
        }
      ]
    },
    {
      "cell_type": "markdown",
      "source": [
        "Nesta análise, foi utilizado um gráfico de área para ilustrar a composição das emissões por tipo de gás, agregando as emissões dos diferentes gases ao longo do tempo. Esse gráfico forneceu uma visão clara sobre a contribuição proporcional de cada gás nas emissões totais, facilitando a identificação dos gases que têm maior impacto ambiental."
      ],
      "metadata": {
        "id": "YNjW8_-jpSWK"
      }
    },
    {
      "cell_type": "code",
      "source": [
        "# Gráfico de Área: Composição das Emissões por Tipo de Gás\n",
        "df_area = df_agrupado.pivot_table(values='emissao_normalizada', index='gas', columns='gas', aggfunc='mean')\n",
        "df_area.plot(kind='area', stacked=True, figsize=(10,6))\n",
        "plt.title('Composição das Emissões por Tipo de Gás')\n",
        "plt.xlabel('Tipo de Gás')\n",
        "plt.ylabel('Emissão Total')\n",
        "plt.show()"
      ],
      "metadata": {
        "id": "in0a0yQ75-ea",
        "colab": {
          "base_uri": "https://localhost:8080/",
          "height": 565
        },
        "outputId": "f98667f3-1c00-4cd8-f6a0-6903147a9a60"
      },
      "execution_count": 25,
      "outputs": [
        {
          "output_type": "display_data",
          "data": {
            "text/plain": [
              "<Figure size 1000x600 with 1 Axes>"
            ],
            "image/png": "[encoded data removed]"
          },
          "metadata": {}
        }
      ]
    },
    {
      "cell_type": "markdown",
      "source": [
        "O gráfico acima apresenta a distribuição das emissões de diferentes tipos de gases de efeito estufa ao longo do tempo. Este gráfico de área permite visualizar a contribuição proporcional de cada gás (como CO₂, CH₄ e N₂O) para as emissões totais, destacando quais gases são mais predominantes.\n",
        "Ao empilhar as áreas correspondentes a cada tipo de gás, o gráfico fornece uma visão cumulativa e comparativa das emissões e esse tipo de análise é essencial para entender a dinâmica  e focar em gases específicos que representam as maiores contribuições, auxiliando na formulação de estratégias direcionadas de redução."
      ],
      "metadata": {
        "id": "mUIQdcehpso6"
      }
    },
    {
      "cell_type": "markdown",
      "source": [
        "# **Modelo base (Parcial)**\n",
        "\n",
        "foi desenvolvido um modelo inicial utilizando o método ARIMA, para prever emissões de GEE por setor, utilizando dados históricos como base. O objetivo do modelo base é estabelecer uma previsão inicial das emissões a ser refinado conforme testes dos melhores parametros para o modelo."
      ],
      "metadata": {
        "id": "9x46aSj5Gt0i"
      }
    },
    {
      "cell_type": "code",
      "source": [
        "import numpy as np\n",
        "import pandas as pd\n",
        "import matplotlib.pyplot as plt\n",
        "from statsmodels.tsa.stattools import adfuller\n",
        "from statsmodels.graphics.tsaplots import plot_acf, plot_pacf\n",
        "from statsmodels.tsa.arima.model import ARIMA\n",
        "from sklearn.metrics import mean_squared_error"
      ],
      "metadata": {
        "id": "00wP75v0uCS3"
      },
      "execution_count": 26,
      "outputs": []
    },
    {
      "cell_type": "markdown",
      "source": [
        "Importadas as bibliotecas necessárias para manipulação de dados e para a modelagem preditiva"
      ],
      "metadata": {
        "id": "6-BQUk8l2Fp9"
      }
    },
    {
      "cell_type": "code",
      "source": [
        "# Criando uma variável para o modelo, sem afetar o df original\n",
        "\n",
        "variaveis_selecionadas = ['ano', 'emissao_normalizada', 'gas']\n",
        "df_modelo = df[variaveis_selecionadas].copy()\n",
        "print(df_modelo.head())"
      ],
      "metadata": {
        "id": "jot0aN41G-d6",
        "colab": {
          "base_uri": "https://localhost:8080/"
        },
        "outputId": "38d28dfc-f122-422c-b044-6d32da997857"
      },
      "execution_count": 27,
      "outputs": [
        {
          "output_type": "stream",
          "name": "stdout",
          "text": [
            "    ano  emissao_normalizada      gas\n",
            "0  1970             5.092038  CH4 (t)\n",
            "1  1971             4.993805  CH4 (t)\n",
            "2  1972             4.863109  CH4 (t)\n",
            "3  1973             4.732622  CH4 (t)\n",
            "4  1974             4.128696  CH4 (t)\n"
          ]
        }
      ]
    },
    {
      "cell_type": "markdown",
      "source": [
        " Em seguida, os dados de emissões por setor foram filtrados e organizados, garantindo que estivessem no formato adequado para o treinamento do modelo. Esse passo incluiu transformar a coluna temporal no índice do DataFrame, facilitando a manipulação das séries temporais e o uso em modelos."
      ],
      "metadata": {
        "id": "H0yHGTFY2U8x"
      }
    },
    {
      "cell_type": "code",
      "source": [
        "# Filtrando os anos\n",
        "\n",
        "df_modelo = df[(df['ano'] >= 2005) & (df['ano'] <= 2019)][variaveis_selecionadas].copy()\n",
        "print(df_modelo.head())"
      ],
      "metadata": {
        "id": "UQzjMcpi8RvB",
        "colab": {
          "base_uri": "https://localhost:8080/"
        },
        "outputId": "41ea1f34-a7c7-4066-f895-9160a77f3aba"
      },
      "execution_count": 28,
      "outputs": [
        {
          "output_type": "stream",
          "name": "stdout",
          "text": [
            "     ano  emissao_normalizada      gas\n",
            "35  2005             8.348686  CH4 (t)\n",
            "36  2006             8.290605  CH4 (t)\n",
            "37  2007             7.889169  CH4 (t)\n",
            "38  2008             8.645480  CH4 (t)\n",
            "39  2009             8.525426  CH4 (t)\n"
          ]
        }
      ]
    },
    {
      "cell_type": "code",
      "source": [
        "df_modelo['ano'].unique()"
      ],
      "metadata": {
        "id": "2tiBBmlh8W-1",
        "colab": {
          "base_uri": "https://localhost:8080/"
        },
        "outputId": "3cd7a096-329e-4fbd-bc79-06fae8452a70"
      },
      "execution_count": 29,
      "outputs": [
        {
          "output_type": "execute_result",
          "data": {
            "text/plain": [
              "array([2005, 2006, 2007, 2008, 2009, 2010, 2011, 2012, 2013, 2014, 2015,\n",
              "       2016, 2017, 2018, 2019])"
            ]
          },
          "metadata": {},
          "execution_count": 29
        }
      ]
    },
    {
      "cell_type": "code",
      "source": [
        "# Verificando o tipo de série temporal\n",
        "\n",
        "# Teste ADF\n",
        "result = adfuller(df_modelo['emissao_normalizada'])\n",
        "print('Estatística ADF:', result[0])\n",
        "print('p-value:', result[1])"
      ],
      "metadata": {
        "id": "x97OdbFO8s99",
        "colab": {
          "base_uri": "https://localhost:8080/"
        },
        "outputId": "80352ede-7302-406a-a4be-d6278bf4fac3"
      },
      "execution_count": 30,
      "outputs": [
        {
          "output_type": "stream",
          "name": "stdout",
          "text": [
            "Estatística ADF: -30.166498947350313\n",
            "p-value: 0.0\n"
          ]
        }
      ]
    },
    {
      "cell_type": "code",
      "source": [
        "# Já que é estacionária, usando o agrupamento dos anos, vamos verificar os parâmetros para aplicar o ARIMA corretamente\n",
        "\n",
        "plt.figure(figsize=(12, 6))\n",
        "plt.subplot(121)\n",
        "plot_acf(df_modelo['emissao_normalizada'], ax=plt.gca(), lags=20)\n",
        "plt.title('ACF')\n",
        "plt.subplot(122)\n",
        "plot_pacf(df_modelo['emissao_normalizada'], ax=plt.gca(), lags=20)\n",
        "plt.title('PACF')\n",
        "plt.show()"
      ],
      "metadata": {
        "id": "kwj1UQ5c9VOT",
        "colab": {
          "base_uri": "https://localhost:8080/",
          "height": 545
        },
        "outputId": "4ecdca2b-be27-4615-8e61-6bad24e26881"
      },
      "execution_count": 31,
      "outputs": [
        {
          "output_type": "display_data",
          "data": {
            "text/plain": [
              "<Figure size 1200x600 with 2 Axes>"
            ],
            "image/png": "[encoded data removed]"
          },
          "metadata": {}
        }
      ]
    },
    {
      "cell_type": "markdown",
      "source": [
        "Para configurar o modelo ARIMA, foram realizados testes para definir os valores mais apropriados dos parâmetros p, d e q. O processo envolveu a aplicação de uma análise de autocorrelação e autocorrelação parcial para identificar a quantidade ideal de lags a serem utilizados."
      ],
      "metadata": {
        "id": "7g1V4nYCvxYU"
      }
    },
    {
      "cell_type": "code",
      "source": [
        "# Encontrando os melhores parâmetros\n",
        "\n",
        "# Lista de valores possíveis para p e q\n",
        "p_values = [0, 1, 2, 3]\n",
        "q_values = [0, 1, 2, 3]\n",
        "\n",
        "# Variáveis para armazenar o melhor modelo\n",
        "melhor_aic = float(\"inf\")\n",
        "melhor_pq = None\n",
        "melhor_modelo = None\n",
        "\n",
        "# Loop para testar combinações de p e q\n",
        "for p in p_values:\n",
        "    for q in q_values:\n",
        "        try:\n",
        "            # Ajustar o modelo ARIMA\n",
        "            modelo = ARIMA(df_modelo['emissao_normalizada'], order=(p, 0, q))\n",
        "            modelo_ajustado = modelo.fit()\n",
        "\n",
        "            # Verificar o AIC do modelo\n",
        "            aic = modelo_ajustado.aic\n",
        "            print(f\"ARIMA({p},0,{q}) - AIC: {aic}\")\n",
        "\n",
        "            # Atualizar o melhor modelo se o AIC atual for menor\n",
        "            if aic < melhor_aic:\n",
        "                melhor_aic = aic\n",
        "                melhor_pq = (p, q)\n",
        "                melhor_modelo = modelo_ajustado\n",
        "        except:\n",
        "            continue\n",
        "\n",
        "print(f\"\\nMelhor modelo: ARIMA{melhor_pq} com AIC = {melhor_aic}\")\n",
        "print(melhor_modelo.summary())\n"
      ],
      "metadata": {
        "id": "qbOzkPCTWDE6",
        "outputId": "41a9a1ba-cf01-48b0-b4f8-488d582f1f2a",
        "colab": {
          "base_uri": "https://localhost:8080/"
        }
      },
      "execution_count": 32,
      "outputs": [
        {
          "output_type": "stream",
          "name": "stderr",
          "text": [
            "/usr/local/lib/python3.10/dist-packages/statsmodels/tsa/base/tsa_model.py:473: ValueWarning: An unsupported index was provided. As a result, forecasts cannot be generated. To use the model for forecasting, use one of the supported classes of index.\n",
            "  self._init_dates(dates, freq)\n",
            "/usr/local/lib/python3.10/dist-packages/statsmodels/tsa/base/tsa_model.py:473: ValueWarning: An unsupported index was provided. As a result, forecasts cannot be generated. To use the model for forecasting, use one of the supported classes of index.\n",
            "  self._init_dates(dates, freq)\n",
            "/usr/local/lib/python3.10/dist-packages/statsmodels/tsa/base/tsa_model.py:473: ValueWarning: An unsupported index was provided. As a result, forecasts cannot be generated. To use the model for forecasting, use one of the supported classes of index.\n",
            "  self._init_dates(dates, freq)\n"
          ]
        },
        {
          "output_type": "stream",
          "name": "stdout",
          "text": [
            "ARIMA(0,0,0) - AIC: 3629798.2165440917\n"
          ]
        },
        {
          "output_type": "stream",
          "name": "stderr",
          "text": [
            "/usr/local/lib/python3.10/dist-packages/statsmodels/tsa/base/tsa_model.py:473: ValueWarning: An unsupported index was provided. As a result, forecasts cannot be generated. To use the model for forecasting, use one of the supported classes of index.\n",
            "  self._init_dates(dates, freq)\n",
            "/usr/local/lib/python3.10/dist-packages/statsmodels/tsa/base/tsa_model.py:473: ValueWarning: An unsupported index was provided. As a result, forecasts cannot be generated. To use the model for forecasting, use one of the supported classes of index.\n",
            "  self._init_dates(dates, freq)\n",
            "/usr/local/lib/python3.10/dist-packages/statsmodels/tsa/base/tsa_model.py:473: ValueWarning: An unsupported index was provided. As a result, forecasts cannot be generated. To use the model for forecasting, use one of the supported classes of index.\n",
            "  self._init_dates(dates, freq)\n"
          ]
        },
        {
          "output_type": "stream",
          "name": "stdout",
          "text": [
            "ARIMA(0,0,1) - AIC: 2020060.095287012\n"
          ]
        },
        {
          "output_type": "stream",
          "name": "stderr",
          "text": [
            "/usr/local/lib/python3.10/dist-packages/statsmodels/tsa/base/tsa_model.py:473: ValueWarning: An unsupported index was provided. As a result, forecasts cannot be generated. To use the model for forecasting, use one of the supported classes of index.\n",
            "  self._init_dates(dates, freq)\n",
            "/usr/local/lib/python3.10/dist-packages/statsmodels/tsa/base/tsa_model.py:473: ValueWarning: An unsupported index was provided. As a result, forecasts cannot be generated. To use the model for forecasting, use one of the supported classes of index.\n",
            "  self._init_dates(dates, freq)\n",
            "/usr/local/lib/python3.10/dist-packages/statsmodels/tsa/base/tsa_model.py:473: ValueWarning: An unsupported index was provided. As a result, forecasts cannot be generated. To use the model for forecasting, use one of the supported classes of index.\n",
            "  self._init_dates(dates, freq)\n"
          ]
        },
        {
          "output_type": "stream",
          "name": "stdout",
          "text": [
            "ARIMA(0,0,2) - AIC: 1975969.72019446\n"
          ]
        },
        {
          "output_type": "stream",
          "name": "stderr",
          "text": [
            "/usr/local/lib/python3.10/dist-packages/statsmodels/tsa/base/tsa_model.py:473: ValueWarning: An unsupported index was provided. As a result, forecasts cannot be generated. To use the model for forecasting, use one of the supported classes of index.\n",
            "  self._init_dates(dates, freq)\n",
            "/usr/local/lib/python3.10/dist-packages/statsmodels/tsa/base/tsa_model.py:473: ValueWarning: An unsupported index was provided. As a result, forecasts cannot be generated. To use the model for forecasting, use one of the supported classes of index.\n",
            "  self._init_dates(dates, freq)\n",
            "/usr/local/lib/python3.10/dist-packages/statsmodels/tsa/base/tsa_model.py:473: ValueWarning: An unsupported index was provided. As a result, forecasts cannot be generated. To use the model for forecasting, use one of the supported classes of index.\n",
            "  self._init_dates(dates, freq)\n"
          ]
        },
        {
          "output_type": "stream",
          "name": "stdout",
          "text": [
            "ARIMA(0,0,3) - AIC: 1932828.251021326\n"
          ]
        },
        {
          "output_type": "stream",
          "name": "stderr",
          "text": [
            "/usr/local/lib/python3.10/dist-packages/statsmodels/tsa/base/tsa_model.py:473: ValueWarning: An unsupported index was provided. As a result, forecasts cannot be generated. To use the model for forecasting, use one of the supported classes of index.\n",
            "  self._init_dates(dates, freq)\n",
            "/usr/local/lib/python3.10/dist-packages/statsmodels/tsa/base/tsa_model.py:473: ValueWarning: An unsupported index was provided. As a result, forecasts cannot be generated. To use the model for forecasting, use one of the supported classes of index.\n",
            "  self._init_dates(dates, freq)\n",
            "/usr/local/lib/python3.10/dist-packages/statsmodels/tsa/base/tsa_model.py:473: ValueWarning: An unsupported index was provided. As a result, forecasts cannot be generated. To use the model for forecasting, use one of the supported classes of index.\n",
            "  self._init_dates(dates, freq)\n"
          ]
        },
        {
          "output_type": "stream",
          "name": "stdout",
          "text": [
            "ARIMA(1,0,0) - AIC: 1872142.9486265972\n"
          ]
        },
        {
          "output_type": "stream",
          "name": "stderr",
          "text": [
            "/usr/local/lib/python3.10/dist-packages/statsmodels/tsa/base/tsa_model.py:473: ValueWarning: An unsupported index was provided. As a result, forecasts cannot be generated. To use the model for forecasting, use one of the supported classes of index.\n",
            "  self._init_dates(dates, freq)\n",
            "/usr/local/lib/python3.10/dist-packages/statsmodels/tsa/base/tsa_model.py:473: ValueWarning: An unsupported index was provided. As a result, forecasts cannot be generated. To use the model for forecasting, use one of the supported classes of index.\n",
            "  self._init_dates(dates, freq)\n",
            "/usr/local/lib/python3.10/dist-packages/statsmodels/tsa/base/tsa_model.py:473: ValueWarning: An unsupported index was provided. As a result, forecasts cannot be generated. To use the model for forecasting, use one of the supported classes of index.\n",
            "  self._init_dates(dates, freq)\n"
          ]
        },
        {
          "output_type": "stream",
          "name": "stdout",
          "text": [
            "ARIMA(1,0,1) - AIC: 1871159.4852258023\n"
          ]
        },
        {
          "output_type": "stream",
          "name": "stderr",
          "text": [
            "/usr/local/lib/python3.10/dist-packages/statsmodels/tsa/base/tsa_model.py:473: ValueWarning: An unsupported index was provided. As a result, forecasts cannot be generated. To use the model for forecasting, use one of the supported classes of index.\n",
            "  self._init_dates(dates, freq)\n",
            "/usr/local/lib/python3.10/dist-packages/statsmodels/tsa/base/tsa_model.py:473: ValueWarning: An unsupported index was provided. As a result, forecasts cannot be generated. To use the model for forecasting, use one of the supported classes of index.\n",
            "  self._init_dates(dates, freq)\n",
            "/usr/local/lib/python3.10/dist-packages/statsmodels/tsa/base/tsa_model.py:473: ValueWarning: An unsupported index was provided. As a result, forecasts cannot be generated. To use the model for forecasting, use one of the supported classes of index.\n",
            "  self._init_dates(dates, freq)\n"
          ]
        },
        {
          "output_type": "stream",
          "name": "stdout",
          "text": [
            "ARIMA(1,0,2) - AIC: 1869424.6151892722\n"
          ]
        },
        {
          "output_type": "stream",
          "name": "stderr",
          "text": [
            "/usr/local/lib/python3.10/dist-packages/statsmodels/tsa/base/tsa_model.py:473: ValueWarning: An unsupported index was provided. As a result, forecasts cannot be generated. To use the model for forecasting, use one of the supported classes of index.\n",
            "  self._init_dates(dates, freq)\n",
            "/usr/local/lib/python3.10/dist-packages/statsmodels/tsa/base/tsa_model.py:473: ValueWarning: An unsupported index was provided. As a result, forecasts cannot be generated. To use the model for forecasting, use one of the supported classes of index.\n",
            "  self._init_dates(dates, freq)\n",
            "/usr/local/lib/python3.10/dist-packages/statsmodels/tsa/base/tsa_model.py:473: ValueWarning: An unsupported index was provided. As a result, forecasts cannot be generated. To use the model for forecasting, use one of the supported classes of index.\n",
            "  self._init_dates(dates, freq)\n"
          ]
        },
        {
          "output_type": "stream",
          "name": "stdout",
          "text": [
            "ARIMA(1,0,3) - AIC: 1868829.903791592\n"
          ]
        },
        {
          "output_type": "stream",
          "name": "stderr",
          "text": [
            "/usr/local/lib/python3.10/dist-packages/statsmodels/tsa/base/tsa_model.py:473: ValueWarning: An unsupported index was provided. As a result, forecasts cannot be generated. To use the model for forecasting, use one of the supported classes of index.\n",
            "  self._init_dates(dates, freq)\n",
            "/usr/local/lib/python3.10/dist-packages/statsmodels/tsa/base/tsa_model.py:473: ValueWarning: An unsupported index was provided. As a result, forecasts cannot be generated. To use the model for forecasting, use one of the supported classes of index.\n",
            "  self._init_dates(dates, freq)\n",
            "/usr/local/lib/python3.10/dist-packages/statsmodels/tsa/base/tsa_model.py:473: ValueWarning: An unsupported index was provided. As a result, forecasts cannot be generated. To use the model for forecasting, use one of the supported classes of index.\n",
            "  self._init_dates(dates, freq)\n"
          ]
        },
        {
          "output_type": "stream",
          "name": "stdout",
          "text": [
            "ARIMA(2,0,0) - AIC: 1871362.029812342\n"
          ]
        },
        {
          "output_type": "stream",
          "name": "stderr",
          "text": [
            "/usr/local/lib/python3.10/dist-packages/statsmodels/tsa/base/tsa_model.py:473: ValueWarning: An unsupported index was provided. As a result, forecasts cannot be generated. To use the model for forecasting, use one of the supported classes of index.\n",
            "  self._init_dates(dates, freq)\n",
            "/usr/local/lib/python3.10/dist-packages/statsmodels/tsa/base/tsa_model.py:473: ValueWarning: An unsupported index was provided. As a result, forecasts cannot be generated. To use the model for forecasting, use one of the supported classes of index.\n",
            "  self._init_dates(dates, freq)\n",
            "/usr/local/lib/python3.10/dist-packages/statsmodels/tsa/base/tsa_model.py:473: ValueWarning: An unsupported index was provided. As a result, forecasts cannot be generated. To use the model for forecasting, use one of the supported classes of index.\n",
            "  self._init_dates(dates, freq)\n"
          ]
        },
        {
          "output_type": "stream",
          "name": "stdout",
          "text": [
            "ARIMA(2,0,1) - AIC: 1869787.0985182715\n"
          ]
        },
        {
          "output_type": "stream",
          "name": "stderr",
          "text": [
            "/usr/local/lib/python3.10/dist-packages/statsmodels/tsa/base/tsa_model.py:473: ValueWarning: An unsupported index was provided. As a result, forecasts cannot be generated. To use the model for forecasting, use one of the supported classes of index.\n",
            "  self._init_dates(dates, freq)\n",
            "/usr/local/lib/python3.10/dist-packages/statsmodels/tsa/base/tsa_model.py:473: ValueWarning: An unsupported index was provided. As a result, forecasts cannot be generated. To use the model for forecasting, use one of the supported classes of index.\n",
            "  self._init_dates(dates, freq)\n",
            "/usr/local/lib/python3.10/dist-packages/statsmodels/tsa/base/tsa_model.py:473: ValueWarning: An unsupported index was provided. As a result, forecasts cannot be generated. To use the model for forecasting, use one of the supported classes of index.\n",
            "  self._init_dates(dates, freq)\n"
          ]
        },
        {
          "output_type": "stream",
          "name": "stdout",
          "text": [
            "ARIMA(2,0,2) - AIC: 1866837.3522012392\n"
          ]
        },
        {
          "output_type": "stream",
          "name": "stderr",
          "text": [
            "/usr/local/lib/python3.10/dist-packages/statsmodels/tsa/base/tsa_model.py:473: ValueWarning: An unsupported index was provided. As a result, forecasts cannot be generated. To use the model for forecasting, use one of the supported classes of index.\n",
            "  self._init_dates(dates, freq)\n",
            "/usr/local/lib/python3.10/dist-packages/statsmodels/tsa/base/tsa_model.py:473: ValueWarning: An unsupported index was provided. As a result, forecasts cannot be generated. To use the model for forecasting, use one of the supported classes of index.\n",
            "  self._init_dates(dates, freq)\n",
            "/usr/local/lib/python3.10/dist-packages/statsmodels/tsa/base/tsa_model.py:473: ValueWarning: An unsupported index was provided. As a result, forecasts cannot be generated. To use the model for forecasting, use one of the supported classes of index.\n",
            "  self._init_dates(dates, freq)\n"
          ]
        },
        {
          "output_type": "stream",
          "name": "stdout",
          "text": [
            "ARIMA(2,0,3) - AIC: 1866838.9220104353\n"
          ]
        },
        {
          "output_type": "stream",
          "name": "stderr",
          "text": [
            "/usr/local/lib/python3.10/dist-packages/statsmodels/tsa/base/tsa_model.py:473: ValueWarning: An unsupported index was provided. As a result, forecasts cannot be generated. To use the model for forecasting, use one of the supported classes of index.\n",
            "  self._init_dates(dates, freq)\n",
            "/usr/local/lib/python3.10/dist-packages/statsmodels/tsa/base/tsa_model.py:473: ValueWarning: An unsupported index was provided. As a result, forecasts cannot be generated. To use the model for forecasting, use one of the supported classes of index.\n",
            "  self._init_dates(dates, freq)\n",
            "/usr/local/lib/python3.10/dist-packages/statsmodels/tsa/base/tsa_model.py:473: ValueWarning: An unsupported index was provided. As a result, forecasts cannot be generated. To use the model for forecasting, use one of the supported classes of index.\n",
            "  self._init_dates(dates, freq)\n"
          ]
        },
        {
          "output_type": "stream",
          "name": "stdout",
          "text": [
            "ARIMA(3,0,0) - AIC: 1869794.0060006185\n"
          ]
        },
        {
          "output_type": "stream",
          "name": "stderr",
          "text": [
            "/usr/local/lib/python3.10/dist-packages/statsmodels/tsa/base/tsa_model.py:473: ValueWarning: An unsupported index was provided. As a result, forecasts cannot be generated. To use the model for forecasting, use one of the supported classes of index.\n",
            "  self._init_dates(dates, freq)\n",
            "/usr/local/lib/python3.10/dist-packages/statsmodels/tsa/base/tsa_model.py:473: ValueWarning: An unsupported index was provided. As a result, forecasts cannot be generated. To use the model for forecasting, use one of the supported classes of index.\n",
            "  self._init_dates(dates, freq)\n",
            "/usr/local/lib/python3.10/dist-packages/statsmodels/tsa/base/tsa_model.py:473: ValueWarning: An unsupported index was provided. As a result, forecasts cannot be generated. To use the model for forecasting, use one of the supported classes of index.\n",
            "  self._init_dates(dates, freq)\n"
          ]
        },
        {
          "output_type": "stream",
          "name": "stdout",
          "text": [
            "ARIMA(3,0,1) - AIC: 1866919.9116951004\n"
          ]
        },
        {
          "output_type": "stream",
          "name": "stderr",
          "text": [
            "/usr/local/lib/python3.10/dist-packages/statsmodels/tsa/base/tsa_model.py:473: ValueWarning: An unsupported index was provided. As a result, forecasts cannot be generated. To use the model for forecasting, use one of the supported classes of index.\n",
            "  self._init_dates(dates, freq)\n",
            "/usr/local/lib/python3.10/dist-packages/statsmodels/tsa/base/tsa_model.py:473: ValueWarning: An unsupported index was provided. As a result, forecasts cannot be generated. To use the model for forecasting, use one of the supported classes of index.\n",
            "  self._init_dates(dates, freq)\n",
            "/usr/local/lib/python3.10/dist-packages/statsmodels/tsa/base/tsa_model.py:473: ValueWarning: An unsupported index was provided. As a result, forecasts cannot be generated. To use the model for forecasting, use one of the supported classes of index.\n",
            "  self._init_dates(dates, freq)\n",
            "/usr/local/lib/python3.10/dist-packages/statsmodels/base/model.py:607: ConvergenceWarning: Maximum Likelihood optimization failed to converge. Check mle_retvals\n",
            "  warnings.warn(\"Maximum Likelihood optimization failed to \"\n"
          ]
        },
        {
          "output_type": "stream",
          "name": "stdout",
          "text": [
            "ARIMA(3,0,2) - AIC: 1859136.1512460227\n"
          ]
        },
        {
          "output_type": "stream",
          "name": "stderr",
          "text": [
            "/usr/local/lib/python3.10/dist-packages/statsmodels/tsa/base/tsa_model.py:473: ValueWarning: An unsupported index was provided. As a result, forecasts cannot be generated. To use the model for forecasting, use one of the supported classes of index.\n",
            "  self._init_dates(dates, freq)\n",
            "/usr/local/lib/python3.10/dist-packages/statsmodels/tsa/base/tsa_model.py:473: ValueWarning: An unsupported index was provided. As a result, forecasts cannot be generated. To use the model for forecasting, use one of the supported classes of index.\n",
            "  self._init_dates(dates, freq)\n",
            "/usr/local/lib/python3.10/dist-packages/statsmodels/tsa/base/tsa_model.py:473: ValueWarning: An unsupported index was provided. As a result, forecasts cannot be generated. To use the model for forecasting, use one of the supported classes of index.\n",
            "  self._init_dates(dates, freq)\n",
            "/usr/local/lib/python3.10/dist-packages/statsmodels/base/model.py:607: ConvergenceWarning: Maximum Likelihood optimization failed to converge. Check mle_retvals\n",
            "  warnings.warn(\"Maximum Likelihood optimization failed to \"\n"
          ]
        },
        {
          "output_type": "stream",
          "name": "stdout",
          "text": [
            "ARIMA(3,0,3) - AIC: 1858967.3664131062\n",
            "\n",
            "Melhor modelo: ARIMA(3, 3) com AIC = 1858967.3664131062\n",
            "                                SARIMAX Results                                \n",
            "===============================================================================\n",
            "Dep. Variable:     emissao_normalizada   No. Observations:               136455\n",
            "Model:                  ARIMA(3, 0, 3)   Log Likelihood             -929475.683\n",
            "Date:                 Tue, 29 Oct 2024   AIC                        1858967.366\n",
            "Time:                         00:17:02   BIC                        1859045.956\n",
            "Sample:                              0   HQIC                       1858990.888\n",
            "                              - 136455                                         \n",
            "Covariance Type:                   opg                                         \n",
            "==============================================================================\n",
            "                 coef    std err          z      P>|z|      [0.025      0.975]\n",
            "------------------------------------------------------------------------------\n",
            "const         28.3079     25.841      1.095      0.273     -22.339      78.955\n",
            "ar.L1         -0.6568      0.000  -3113.887      0.000      -0.657      -0.656\n",
            "ar.L2          0.5531      0.000   2723.966      0.000       0.553       0.553\n",
            "ar.L3          0.9103      0.000   7485.845      0.000       0.910       0.911\n",
            "ma.L1          1.5911      0.000   5549.648      0.000       1.591       1.592\n",
            "ma.L2          0.8726      0.000   1828.761      0.000       0.872       0.873\n",
            "ma.L3         -0.0411      0.000   -153.834      0.000      -0.042      -0.041\n",
            "sigma2      5.064e+04      5.746   8811.767      0.000    5.06e+04    5.06e+04\n",
            "===================================================================================\n",
            "Ljung-Box (L1) (Q):                   0.05   Jarque-Bera (JB):      214079616283.57\n",
            "Prob(Q):                              0.82   Prob(JB):                         0.00\n",
            "Heteroskedasticity (H):              25.36   Skew:                            48.50\n",
            "Prob(H) (two-sided):                  0.00   Kurtosis:                      6138.42\n",
            "===================================================================================\n",
            "\n",
            "Warnings:\n",
            "[1] Covariance matrix calculated using the outer product of gradients (complex-step).\n"
          ]
        }
      ]
    },
    {
      "cell_type": "markdown",
      "source": [
        "Os loops aninhados testam todas as combinações de p e q, ajustando um modelo ARIMA para cada par de valores. Durante cada iteração, o modelo é ajustado à série temporal e seu AIC é calculado. O AIC é uma medida que indica a qualidade do modelo, onde valores menores são preferíveis. Se o AIC do modelo atual for menor do que o melhor AIC previamente registrado, as variáveis que armazenam o melhor modelo e seus parâmetros são atualizadas.\n",
        "\n",
        "Ao final da execução, o código imprime a melhor combinação de parâmetros encontrada, bem como o AIC correspondente.\n",
        "Os resultados obtidos ao ajustar o modelo ARIMA indicam que a melhor combinação de parâmetros encontrada foi ARIMA(3, 0, 3), com um AIC de 1858967.37. Este valor de AIC sugere que o modelo se ajusta bem aos dados de emissões normalizadas, minimizando a perda de informação ao mesmo tempo em que penaliza a complexidade do modelo.\n",
        "\n",
        "O resumo do modelo revela informações cruciais sobre os coeficientes do modelo, indicando a relação entre as observações passadas e a série temporal. Os coeficientes dos termos autoregressivos (ar.L1, ar.L2, ar.L3) são todos significativos, com os valores de -0.6568, 0.5531 e 0.9103, respectivamente. Esses coeficientes mostram como as emissões em momentos anteriores influenciam as emissões atuais. Já os coeficientes dos termos de média móvel (ma.L1, ma.L2, ma.L3) também são significativos, sugerindo que os erros de previsão em períodos passados impactam as previsões atuais.\n",
        "\n",
        "A estatística Ljung-Box e o teste de Jarque-Bera fornecem insights adicionais sobre a adequação do modelo. O teste de Ljung-Box indica que não há autocorrelação significativa nos resíduos do modelo, enquanto o teste de Jarque-Bera sugere que os resíduos não seguem uma distribuição normal, o que pode requerer ajustes futuros."
      ],
      "metadata": {
        "id": "PU1n6l0lyB4B"
      }
    },
    {
      "cell_type": "code",
      "source": [
        "# Aplicando o ARIMA\n",
        "\n",
        "# Ajustando o modelo ARIMA\n",
        "modelo_final = ARIMA(df_modelo['emissao_normalizada'], order=(3, 0, 3)) #Parâmetro escolhido acima\n",
        "modelo_ajustado = modelo_final.fit()\n",
        "print(modelo_ajustado.summary())"
      ],
      "metadata": {
        "id": "IfHlwch5a9oW",
        "outputId": "7576d83f-7ed2-47ac-9acc-317c915e9138",
        "colab": {
          "base_uri": "https://localhost:8080/"
        }
      },
      "execution_count": 33,
      "outputs": [
        {
          "output_type": "stream",
          "name": "stderr",
          "text": [
            "/usr/local/lib/python3.10/dist-packages/statsmodels/tsa/base/tsa_model.py:473: ValueWarning: An unsupported index was provided. As a result, forecasts cannot be generated. To use the model for forecasting, use one of the supported classes of index.\n",
            "  self._init_dates(dates, freq)\n",
            "/usr/local/lib/python3.10/dist-packages/statsmodels/tsa/base/tsa_model.py:473: ValueWarning: An unsupported index was provided. As a result, forecasts cannot be generated. To use the model for forecasting, use one of the supported classes of index.\n",
            "  self._init_dates(dates, freq)\n",
            "/usr/local/lib/python3.10/dist-packages/statsmodels/tsa/base/tsa_model.py:473: ValueWarning: An unsupported index was provided. As a result, forecasts cannot be generated. To use the model for forecasting, use one of the supported classes of index.\n",
            "  self._init_dates(dates, freq)\n",
            "/usr/local/lib/python3.10/dist-packages/statsmodels/base/model.py:607: ConvergenceWarning: Maximum Likelihood optimization failed to converge. Check mle_retvals\n",
            "  warnings.warn(\"Maximum Likelihood optimization failed to \"\n"
          ]
        },
        {
          "output_type": "stream",
          "name": "stdout",
          "text": [
            "                                SARIMAX Results                                \n",
            "===============================================================================\n",
            "Dep. Variable:     emissao_normalizada   No. Observations:               136455\n",
            "Model:                  ARIMA(3, 0, 3)   Log Likelihood             -929475.683\n",
            "Date:                 Tue, 29 Oct 2024   AIC                        1858967.366\n",
            "Time:                         00:21:20   BIC                        1859045.956\n",
            "Sample:                              0   HQIC                       1858990.888\n",
            "                              - 136455                                         \n",
            "Covariance Type:                   opg                                         \n",
            "==============================================================================\n",
            "                 coef    std err          z      P>|z|      [0.025      0.975]\n",
            "------------------------------------------------------------------------------\n",
            "const         28.3079     25.841      1.095      0.273     -22.339      78.955\n",
            "ar.L1         -0.6568      0.000  -3113.887      0.000      -0.657      -0.656\n",
            "ar.L2          0.5531      0.000   2723.966      0.000       0.553       0.553\n",
            "ar.L3          0.9103      0.000   7485.845      0.000       0.910       0.911\n",
            "ma.L1          1.5911      0.000   5549.648      0.000       1.591       1.592\n",
            "ma.L2          0.8726      0.000   1828.761      0.000       0.872       0.873\n",
            "ma.L3         -0.0411      0.000   -153.834      0.000      -0.042      -0.041\n",
            "sigma2      5.064e+04      5.746   8811.767      0.000    5.06e+04    5.06e+04\n",
            "===================================================================================\n",
            "Ljung-Box (L1) (Q):                   0.05   Jarque-Bera (JB):      214079616283.57\n",
            "Prob(Q):                              0.82   Prob(JB):                         0.00\n",
            "Heteroskedasticity (H):              25.36   Skew:                            48.50\n",
            "Prob(H) (two-sided):                  0.00   Kurtosis:                      6138.42\n",
            "===================================================================================\n",
            "\n",
            "Warnings:\n",
            "[1] Covariance matrix calculated using the outer product of gradients (complex-step).\n"
          ]
        }
      ]
    },
    {
      "cell_type": "code",
      "source": [
        "# Definindo o tamanho do conjunto de treino\n",
        "train_size = int(len(df_modelo) * 0.8)  # 80% para treino, 20% para teste\n",
        "train, test = df_modelo['emissao_normalizada'][:train_size], df_modelo['emissao_normalizada'][train_size:]\n",
        "\n",
        "# Ajustar o modelo ARIMA (p, d, q)\n",
        "modelo_final = ARIMA(train, order=(3, 0, 3))\n",
        "modelo_ajustado = modelo_final.fit()\n",
        "\n",
        "# Exibir o resumo do modelo\n",
        "print(modelo_ajustado.summary())"
      ],
      "metadata": {
        "id": "dd9-21LKjNZs",
        "colab": {
          "base_uri": "https://localhost:8080/"
        },
        "outputId": "f02cad5d-01c8-4dba-84e6-553be856ccc9"
      },
      "execution_count": 34,
      "outputs": [
        {
          "output_type": "stream",
          "name": "stderr",
          "text": [
            "/usr/local/lib/python3.10/dist-packages/statsmodels/tsa/base/tsa_model.py:473: ValueWarning: An unsupported index was provided. As a result, forecasts cannot be generated. To use the model for forecasting, use one of the supported classes of index.\n",
            "  self._init_dates(dates, freq)\n",
            "/usr/local/lib/python3.10/dist-packages/statsmodels/tsa/base/tsa_model.py:473: ValueWarning: An unsupported index was provided. As a result, forecasts cannot be generated. To use the model for forecasting, use one of the supported classes of index.\n",
            "  self._init_dates(dates, freq)\n",
            "/usr/local/lib/python3.10/dist-packages/statsmodels/tsa/base/tsa_model.py:473: ValueWarning: An unsupported index was provided. As a result, forecasts cannot be generated. To use the model for forecasting, use one of the supported classes of index.\n",
            "  self._init_dates(dates, freq)\n"
          ]
        },
        {
          "output_type": "stream",
          "name": "stdout",
          "text": [
            "                                SARIMAX Results                                \n",
            "===============================================================================\n",
            "Dep. Variable:     emissao_normalizada   No. Observations:               109164\n",
            "Model:                  ARIMA(3, 0, 3)   Log Likelihood             -755231.120\n",
            "Date:                 Tue, 29 Oct 2024   AIC                        1510478.241\n",
            "Time:                         00:24:25   BIC                        1510555.045\n",
            "Sample:                              0   HQIC                       1510501.457\n",
            "                              - 109164                                         \n",
            "Covariance Type:                   opg                                         \n",
            "==============================================================================\n",
            "                 coef    std err          z      P>|z|      [0.025      0.975]\n",
            "------------------------------------------------------------------------------\n",
            "const         52.8115      0.035   1505.716      0.000      52.743      52.880\n",
            "ar.L1          0.8833      0.001    887.978      0.000       0.881       0.885\n",
            "ar.L2          0.6768      0.001    702.933      0.000       0.675       0.679\n",
            "ar.L3         -0.5604      0.001  -1005.293      0.000      -0.561      -0.559\n",
            "ma.L1         -0.0460      0.001    -44.556      0.000      -0.048      -0.044\n",
            "ma.L2         -0.8340      0.000  -2416.514      0.000      -0.835      -0.833\n",
            "ma.L3          0.0378      0.001     57.486      0.000       0.037       0.039\n",
            "sigma2      5.978e+04      5.239   1.14e+04      0.000    5.98e+04    5.98e+04\n",
            "===================================================================================\n",
            "Ljung-Box (L1) (Q):                   0.54   Jarque-Bera (JB):      125673989021.09\n",
            "Prob(Q):                              0.46   Prob(JB):                         0.00\n",
            "Heteroskedasticity (H):              48.78   Skew:                            46.72\n",
            "Prob(H) (two-sided):                  0.00   Kurtosis:                      5258.57\n",
            "===================================================================================\n",
            "\n",
            "Warnings:\n",
            "[1] Covariance matrix calculated using the outer product of gradients (complex-step).\n",
            "[2] Covariance matrix is singular or near-singular, with condition number 9.39e+17. Standard errors may be unstable.\n"
          ]
        }
      ]
    },
    {
      "cell_type": "markdown",
      "source": [
        "Ajustando o modelo para 80% dos dados de treinamento e 20% de teste. Após definir os parâmetros, o modelo ARIMA foi treinado com os dados históricos para cada setor de emissões. Esta etapa foi realizada para ajustar o modelo aos dados, ou seja, aprender os padrões e comportamentos das emissões de GEE em cada setor. Durante o treinamento, o modelo utilizou as observações passadas para calibrar seus coeficientes e gerar previsões que seguem a mesma estrutura temporal observada."
      ],
      "metadata": {
        "id": "p1DCJmlNygKY"
      }
    },
    {
      "cell_type": "code",
      "source": [
        "# Fazer previsões para o conjunto de teste\n",
        "predictions = modelo_ajustado.forecast(steps=len(test))\n",
        "\n",
        "# Calcular RMSE\n",
        "rmse = np.sqrt(mean_squared_error(test, predictions))\n",
        "\n",
        "# Exibir RMSE\n",
        "print(f\"RMSE: {rmse}\")"
      ],
      "metadata": {
        "id": "YU85327MjvXN",
        "colab": {
          "base_uri": "https://localhost:8080/"
        },
        "outputId": "66f0b093-977a-402c-c202-254f87397e27"
      },
      "execution_count": 35,
      "outputs": [
        {
          "output_type": "stream",
          "name": "stderr",
          "text": [
            "/usr/local/lib/python3.10/dist-packages/statsmodels/tsa/base/tsa_model.py:837: ValueWarning: No supported index is available. Prediction results will be given with an integer index beginning at `start`.\n",
            "  return get_prediction_index(\n"
          ]
        },
        {
          "output_type": "stream",
          "name": "stdout",
          "text": [
            "RMSE: 592.3523246329563\n"
          ]
        }
      ]
    },
    {
      "cell_type": "code",
      "source": [
        "# Testando outro parâmetro para p e q\n",
        "\n",
        "from sklearn.metrics import mean_squared_error\n",
        "\n",
        "# Definindo o tamanho do conjunto de treino\n",
        "train_size = int(len(df_modelo) * 0.8)  # 80% para treino, 20% para teste\n",
        "train, test = df_modelo['emissao_normalizada'][:train_size], df_modelo['emissao_normalizada'][train_size:]\n",
        "\n",
        "# Ajustar o modelo ARIMA (p, d, q)\n",
        "modelo_final_3 = ARIMA(train, order=(1, 0, 1))\n",
        "modelo_ajustado_3 = modelo_final_3.fit()\n",
        "\n",
        "# Exibir o resumo do modelo\n",
        "print(modelo_ajustado_3.summary())"
      ],
      "metadata": {
        "id": "QYsvdztr3FJt",
        "colab": {
          "base_uri": "https://localhost:8080/"
        },
        "outputId": "c2a5754d-7857-4d82-bd79-30f60c610205"
      },
      "execution_count": 36,
      "outputs": [
        {
          "output_type": "stream",
          "name": "stderr",
          "text": [
            "/usr/local/lib/python3.10/dist-packages/statsmodels/tsa/base/tsa_model.py:473: ValueWarning: An unsupported index was provided. As a result, forecasts cannot be generated. To use the model for forecasting, use one of the supported classes of index.\n",
            "  self._init_dates(dates, freq)\n",
            "/usr/local/lib/python3.10/dist-packages/statsmodels/tsa/base/tsa_model.py:473: ValueWarning: An unsupported index was provided. As a result, forecasts cannot be generated. To use the model for forecasting, use one of the supported classes of index.\n",
            "  self._init_dates(dates, freq)\n",
            "/usr/local/lib/python3.10/dist-packages/statsmodels/tsa/base/tsa_model.py:473: ValueWarning: An unsupported index was provided. As a result, forecasts cannot be generated. To use the model for forecasting, use one of the supported classes of index.\n",
            "  self._init_dates(dates, freq)\n"
          ]
        },
        {
          "output_type": "stream",
          "name": "stdout",
          "text": [
            "                                SARIMAX Results                                \n",
            "===============================================================================\n",
            "Dep. Variable:     emissao_normalizada   No. Observations:               109164\n",
            "Model:                  ARIMA(1, 0, 1)   Log Likelihood             -759019.402\n",
            "Date:                 Tue, 29 Oct 2024   AIC                        1518046.804\n",
            "Time:                         00:24:48   BIC                        1518085.206\n",
            "Sample:                              0   HQIC                       1518058.412\n",
            "                              - 109164                                         \n",
            "Covariance Type:                   opg                                         \n",
            "==============================================================================\n",
            "                 coef    std err          z      P>|z|      [0.025      0.975]\n",
            "------------------------------------------------------------------------------\n",
            "const         52.8115     30.033      1.758      0.079      -6.052     111.675\n",
            "ar.L1          0.9367      0.000   6467.874      0.000       0.936       0.937\n",
            "ma.L1         -0.0962      0.000   -333.173      0.000      -0.097      -0.096\n",
            "sigma2      6.411e+04      9.522   6732.088      0.000    6.41e+04    6.41e+04\n",
            "===================================================================================\n",
            "Ljung-Box (L1) (Q):                   6.14   Jarque-Bera (JB):      106475960725.16\n",
            "Prob(Q):                              0.01   Prob(JB):                         0.00\n",
            "Heteroskedasticity (H):              60.53   Skew:                            46.71\n",
            "Prob(H) (two-sided):                  0.00   Kurtosis:                      4840.39\n",
            "===================================================================================\n",
            "\n",
            "Warnings:\n",
            "[1] Covariance matrix calculated using the outer product of gradients (complex-step).\n"
          ]
        }
      ]
    },
    {
      "cell_type": "code",
      "source": [
        "# Fazer previsões para o conjunto de teste\n",
        "predictions = modelo_ajustado_3.forecast(steps=len(test))\n",
        "\n",
        "# Calcular RMSE\n",
        "rmse = np.sqrt(mean_squared_error(test, predictions))\n",
        "\n",
        "# Exibir RMSE\n",
        "print(f\"RMSE: {rmse}\")"
      ],
      "metadata": {
        "id": "ItcJ4Lbn3JRd",
        "collapsed": true,
        "colab": {
          "base_uri": "https://localhost:8080/"
        },
        "outputId": "39a2bdc6-bd43-482b-b044-e5148829c639"
      },
      "execution_count": 37,
      "outputs": [
        {
          "output_type": "stream",
          "name": "stderr",
          "text": [
            "/usr/local/lib/python3.10/dist-packages/statsmodels/tsa/base/tsa_model.py:837: ValueWarning: No supported index is available. Prediction results will be given with an integer index beginning at `start`.\n",
            "  return get_prediction_index(\n"
          ]
        },
        {
          "output_type": "stream",
          "name": "stdout",
          "text": [
            "RMSE: 592.936957006698\n"
          ]
        }
      ]
    },
    {
      "cell_type": "markdown",
      "source": [
        "A intenção é testar alguns parametros que melhor se ajustará para eficacia do modelo ARIMA."
      ],
      "metadata": {
        "id": "fV8b94VbzVL8"
      }
    },
    {
      "source": [
        "from sklearn.metrics import mean_squared_error, mean_absolute_error, r2_score\n",
        "# Calcular métricas de erro\n",
        "rmse = np.sqrt(mean_squared_error(test, predictions))\n",
        "mae = mean_absolute_error(test, predictions)\n",
        "\n",
        "# Alinhar as séries antes de calcular o MAPE\n",
        "test_aligned, predictions_aligned = test.align(predictions, join='inner')\n",
        "\n",
        "# Calcular MAPE, evitando divisões por zero\n",
        "non_zero_indices = test_aligned != 0\n",
        "mape = np.mean(np.abs((test_aligned[non_zero_indices] - predictions_aligned[non_zero_indices]) / test_aligned[non_zero_indices])) * 100 if non_zero_indices.any() else np.nan\n",
        "\n",
        "# Calcular R²\n",
        "r2 = r2_score(test, predictions)\n",
        "\n",
        "# Exibir as métricas\n",
        "print(f\"RMSE: {rmse}\")\n",
        "print(f\"MAE: {mae}\")\n",
        "print(f\"MAPE: {mape:.2f}%\" if not np.isnan(mape) else \"MAPE: Não disponível\")\n",
        "print(f\"R²: {r2:.2f}\")"
      ],
      "cell_type": "code",
      "metadata": {
        "id": "sPg6ifdA42ae",
        "colab": {
          "base_uri": "https://localhost:8080/"
        },
        "outputId": "8c8a4fe7-8453-45be-cc7f-4b681f1a3fc6"
      },
      "execution_count": 40,
      "outputs": [
        {
          "output_type": "stream",
          "name": "stdout",
          "text": [
            "RMSE: 592.936957006698\n",
            "MAE: 150.99850000271297\n",
            "MAPE: Não disponível\n",
            "R²: -0.04\n"
          ]
        }
      ]
    },
    {
      "cell_type": "code",
      "source": [
        "# Resíduos\n",
        "\n",
        "residuals = test - predictions\n",
        "plt.figure(figsize=(10, 6))\n",
        "plt.plot(residuals)\n",
        "plt.title('Resíduos do Modelo ARIMA')\n",
        "plt.xlabel('Índice')\n",
        "plt.ylabel('Resíduo')\n",
        "plt.axhline(0, color='red', linestyle='--')\n",
        "plt.show()"
      ],
      "metadata": {
        "id": "XE6BxqHp5Dq1",
        "colab": {
          "base_uri": "https://localhost:8080/",
          "height": 564
        },
        "outputId": "9ea5d61e-b626-4144-8dae-d50a7a49b5a6"
      },
      "execution_count": 41,
      "outputs": [
        {
          "output_type": "display_data",
          "data": {
            "text/plain": [
              "<Figure size 1000x600 with 1 Axes>"
            ],
            "image/png": "[encoded data removed]"
          },
          "metadata": {}
        }
      ]
    },
    {
      "cell_type": "code",
      "source": [
        "# Outliers\n",
        "\n",
        "plt.figure(figsize=(8, 6))\n",
        "plt.boxplot(df_modelo['emissao_normalizada'])\n",
        "plt.title('Boxplot da Emissão Normalizada')\n",
        "plt.ylabel('Emissão Normalizada')\n",
        "plt.show()"
      ],
      "metadata": {
        "id": "lhS2CT8y5pWl",
        "colab": {
          "base_uri": "https://localhost:8080/",
          "height": 545
        },
        "outputId": "c76591cb-d545-416e-9482-35f4c7d88c5b"
      },
      "execution_count": 42,
      "outputs": [
        {
          "output_type": "display_data",
          "data": {
            "text/plain": [
              "<Figure size 800x600 with 1 Axes>"
            ],
            "image/png": "[encoded data removed]"
          },
          "metadata": {}
        }
      ]
    },
    {
      "cell_type": "code",
      "source": [
        "# Cálculo do IQR\n",
        "Q1 = df_modelo['emissao_normalizada'].quantile(0.25)\n",
        "Q3 = df_modelo['emissao_normalizada'].quantile(0.75)\n",
        "IQR = Q3 - Q1\n",
        "\n",
        "# Limites para identificar outliers\n",
        "limite_inferior = Q1 - 1.5 * IQR\n",
        "limite_superior = Q3 + 1.5 * IQR\n",
        "\n",
        "# Identificando outliers\n",
        "outliers = df_modelo[(df_modelo['emissao_normalizada'] < limite_inferior) | (df_modelo['emissao_normalizada'] > limite_superior)]\n",
        "print(\"Outliers identificados:\")\n",
        "print(outliers)\n"
      ],
      "metadata": {
        "id": "mst9xOhX5t1V",
        "colab": {
          "base_uri": "https://localhost:8080/"
        },
        "outputId": "18e0c42b-3dcb-48ae-8271-df0e312da899"
      },
      "execution_count": 43,
      "outputs": [
        {
          "output_type": "stream",
          "name": "stdout",
          "text": [
            "Outliers identificados:\n",
            "         ano  emissao_normalizada      gas\n",
            "35      2005             8.348686  CH4 (t)\n",
            "36      2006             8.290605  CH4 (t)\n",
            "37      2007             7.889169  CH4 (t)\n",
            "38      2008             8.645480  CH4 (t)\n",
            "39      2009             8.525426  CH4 (t)\n",
            "...      ...                  ...      ...\n",
            "453995  2015            54.339409  CO2 (t)\n",
            "453996  2016            46.912337  CO2 (t)\n",
            "453997  2017            45.468757  CO2 (t)\n",
            "453998  2018            44.251609  CO2 (t)\n",
            "453999  2019            44.598886  CO2 (t)\n",
            "\n",
            "[33162 rows x 3 columns]\n"
          ]
        }
      ]
    },
    {
      "cell_type": "markdown",
      "source": [
        "## TESTE COM LOG PARA MELHORAR PERFORMANCE"
      ],
      "metadata": {
        "id": "FUfa7hYn6W4T"
      }
    },
    {
      "cell_type": "code",
      "source": [
        "# Transformação logarítmica\n",
        "df_modelo['emissao_normalizada_log'] = np.log1p(df_modelo['emissao_normalizada'])"
      ],
      "metadata": {
        "id": "Rdt4BGnZ6X4P"
      },
      "execution_count": 44,
      "outputs": []
    },
    {
      "cell_type": "code",
      "source": [
        "train_size = int(len(df_modelo) * 0.8)\n",
        "train, test = df_modelo['emissao_normalizada_log'][:train_size], df_modelo['emissao_normalizada_log'][train_size:]"
      ],
      "metadata": {
        "id": "UZIIwAiF6aBu"
      },
      "execution_count": 45,
      "outputs": []
    },
    {
      "cell_type": "code",
      "source": [
        "# Ajustar o modelo ARIMA com os dados transformados\n",
        "modelo_ajustado_3_log = ARIMA(train, order=(3, 0, 3))\n",
        "modelo_ajustado_3_log = modelo_ajustado_3_log.fit()\n",
        "print(modelo_ajustado_3_log.summary())"
      ],
      "metadata": {
        "id": "cPKSHKGF6dNN",
        "colab": {
          "base_uri": "https://localhost:8080/"
        },
        "outputId": "30139cbe-4e8d-41d1-ba13-df5b7ed95293"
      },
      "execution_count": 46,
      "outputs": [
        {
          "output_type": "stream",
          "name": "stderr",
          "text": [
            "/usr/local/lib/python3.10/dist-packages/statsmodels/tsa/base/tsa_model.py:473: ValueWarning: An unsupported index was provided. As a result, forecasts cannot be generated. To use the model for forecasting, use one of the supported classes of index.\n",
            "  self._init_dates(dates, freq)\n",
            "/usr/local/lib/python3.10/dist-packages/statsmodels/tsa/base/tsa_model.py:473: ValueWarning: An unsupported index was provided. As a result, forecasts cannot be generated. To use the model for forecasting, use one of the supported classes of index.\n",
            "  self._init_dates(dates, freq)\n",
            "/usr/local/lib/python3.10/dist-packages/statsmodels/tsa/base/tsa_model.py:473: ValueWarning: An unsupported index was provided. As a result, forecasts cannot be generated. To use the model for forecasting, use one of the supported classes of index.\n",
            "  self._init_dates(dates, freq)\n",
            "/usr/local/lib/python3.10/dist-packages/statsmodels/base/model.py:607: ConvergenceWarning: Maximum Likelihood optimization failed to converge. Check mle_retvals\n",
            "  warnings.warn(\"Maximum Likelihood optimization failed to \"\n"
          ]
        },
        {
          "output_type": "stream",
          "name": "stdout",
          "text": [
            "                                  SARIMAX Results                                  \n",
            "===================================================================================\n",
            "Dep. Variable:     emissao_normalizada_log   No. Observations:               109164\n",
            "Model:                      ARIMA(3, 0, 3)   Log Likelihood              -36474.798\n",
            "Date:                     Tue, 29 Oct 2024   AIC                          72965.596\n",
            "Time:                             01:10:38   BIC                          73042.401\n",
            "Sample:                                  0   HQIC                         72988.813\n",
            "                                  - 109164                                         \n",
            "Covariance Type:                       opg                                         \n",
            "==============================================================================\n",
            "                 coef    std err          z      P>|z|      [0.025      0.975]\n",
            "------------------------------------------------------------------------------\n",
            "const          1.0068      2.254      0.447      0.655      -3.410       5.424\n",
            "ar.L1         -0.0341      0.001    -43.951      0.000      -0.036      -0.033\n",
            "ar.L2          0.0603      0.001     73.131      0.000       0.059       0.062\n",
            "ar.L3          0.9725      0.001   1164.854      0.000       0.971       0.974\n",
            "ma.L1          0.8300      0.001    648.807      0.000       0.827       0.832\n",
            "ma.L2          0.7148      0.002    465.679      0.000       0.712       0.718\n",
            "ma.L3         -0.2313      0.001   -189.501      0.000      -0.234      -0.229\n",
            "sigma2         0.1145      0.000   1125.325      0.000       0.114       0.115\n",
            "===================================================================================\n",
            "Ljung-Box (L1) (Q):                  11.26   Jarque-Bera (JB):          38040193.52\n",
            "Prob(Q):                              0.00   Prob(JB):                         0.00\n",
            "Heteroskedasticity (H):               1.83   Skew:                            -0.53\n",
            "Prob(H) (two-sided):                  0.00   Kurtosis:                        94.44\n",
            "===================================================================================\n",
            "\n",
            "Warnings:\n",
            "[1] Covariance matrix calculated using the outer product of gradients (complex-step).\n"
          ]
        }
      ]
    },
    {
      "cell_type": "code",
      "source": [
        "# Fazer previsões para o conjunto de teste\n",
        "predictions_log = modelo_ajustado_3_log.forecast(steps=len(test))"
      ],
      "metadata": {
        "id": "Cn7tof3f6eeX",
        "colab": {
          "base_uri": "https://localhost:8080/"
        },
        "outputId": "9f7ee7a4-a8e3-46fd-a1bc-d6aee797fe47"
      },
      "execution_count": 55,
      "outputs": [
        {
          "output_type": "stream",
          "name": "stderr",
          "text": [
            "/usr/local/lib/python3.10/dist-packages/statsmodels/tsa/base/tsa_model.py:837: ValueWarning: No supported index is available. Prediction results will be given with an integer index beginning at `start`.\n",
            "  return get_prediction_index(\n"
          ]
        }
      ]
    },
    {
      "cell_type": "code",
      "source": [
        "# Reverter a transformação logarítmica\n",
        "predictions_4 = np.expm1(predictions_log)"
      ],
      "metadata": {
        "id": "E7wU_7sK6i9D"
      },
      "execution_count": 56,
      "outputs": []
    },
    {
      "cell_type": "code",
      "source": [
        "# Verificar NaNs nas previsões\n",
        "print(\"NaNs em previsões:\", np.isnan(predictions).sum())\n",
        "\n",
        "# Verificar NaNs no conjunto de teste\n",
        "print(\"NaNs em conjunto de teste:\", np.isnan(test).sum())"
      ],
      "metadata": {
        "id": "TBKIDF_a7znm",
        "colab": {
          "base_uri": "https://localhost:8080/"
        },
        "outputId": "b2a4a3b4-5945-4cd2-9c5c-7ffe722d88f5"
      },
      "execution_count": 57,
      "outputs": [
        {
          "output_type": "stream",
          "name": "stdout",
          "text": [
            "NaNs em previsões: 0\n",
            "NaNs em conjunto de teste: 7490\n"
          ]
        }
      ]
    },
    {
      "cell_type": "code",
      "source": [
        "# Remover NaNs\n",
        "# valid_indices = ~np.isnan(predictions) & ~np.isnan(np.expm1(test))  # Use np.expm1 para reverter a transformação\n",
        "# rmse = np.sqrt(mean_squared_error(np.expm1(test)[valid_indices], predictions[valid_indices]))"
      ],
      "metadata": {
        "id": "MwHKVQo872oE"
      },
      "execution_count": 58,
      "outputs": []
    },
    {
      "cell_type": "code",
      "source": [
        "# Verificar NaNs e zeros na série original\n",
        "print(\"NaNs em emissao_normalizada:\", df_modelo['emissao_normalizada'].isna().sum())\n",
        "print(\"Zerosem emissao_normalizada:\", (df_modelo['emissao_normalizada'] == 0).sum())"
      ],
      "metadata": {
        "id": "v8pTBx_Z78pg",
        "colab": {
          "base_uri": "https://localhost:8080/"
        },
        "outputId": "3b497767-3a78-4053-a2b2-70dd843cdc27"
      },
      "execution_count": 59,
      "outputs": [
        {
          "output_type": "stream",
          "name": "stdout",
          "text": [
            "NaNs em emissao_normalizada: 0\n",
            "Zerosem emissao_normalizada: 1\n"
          ]
        }
      ]
    },
    {
      "cell_type": "markdown",
      "source": [
        "<!DOCTYPE html>\n",
        "<html lang=\"pt-BR\">\n",
        "<head>\n",
        "    <meta charset=\"UTF-8\">\n",
        "    <meta name=\"viewport\" content=\"width=device-width, initial-scale=1.0\">\n",
        "      <style>\n",
        "        body {\n",
        "            font-family: Arial, sans-serif;\n",
        "        }\n",
        "        table {\n",
        "            width: 100%;\n",
        "            border-collapse: collapse;\n",
        "            margin: 20px 0;\n",
        "        }\n",
        "        th, td {\n",
        "            padding: 12px;\n",
        "            border: 1px solid #ddd;\n",
        "            text-align: left;\n",
        "        }\n",
        "        th {\n",
        "            background-color: #f2f2f2;\n",
        "            font-weight: bold;\n",
        "        }\n",
        "        tr:nth-child(even) {\n",
        "            background-color: #f9f9f9;\n",
        "        }\n",
        "        h2 {\n",
        "            text-align: center;\n",
        "            color: #333;\n",
        "        }\n",
        "    </style>\n",
        "</head>\n",
        "<body>\n",
        "    <h2>Cronograma do Projeto</h2>\n",
        "    <table>\n",
        "        <thead>\n",
        "            <tr>\n",
        "                <th>Fase e Descrição</th>\n",
        "                <th>Data</th>\n",
        "            </tr>\n",
        "        </thead>\n",
        "        <tbody>\n",
        "            <tr>\n",
        "                <td><strong>Referencial Teórico e Cronograma</strong><br>Desenvolvimento do referencial teórico e cronograma de atividades.</td>\n",
        "                <td>Até 30 de setembro de 2024</td>\n",
        "            </tr>\n",
        "            <tr>\n",
        "                <td><strong>Coleta e Pré-processamento de Dados</strong><br>Início da coleta e pré-processamento dos dados.</td>\n",
        "                <td>1º de outubro a 15 de outubro de 2024</td>\n",
        "            </tr>\n",
        "            <tr>\n",
        "                <td><strong>Limpeza de Dados</strong><br>Limpeza dos dados coletados.</td>\n",
        "                <td>16 a 21 de outubro de 2024</td>\n",
        "            </tr>\n",
        "            <tr>\n",
        "                <td><strong>Análise Exploratória de Dados</strong><br>Início da análise exploratória dos dados para identificação de padrões.</td>\n",
        "                <td>A partir de 22 de outubro de 2024</td>\n",
        "            </tr>\n",
        "            <tr>\n",
        "                <td><strong>Implementação Parcial</strong><br>Primeira entrega formal do projeto com implementação parcial.</td>\n",
        "                <td>Até 28 de outubro de 2024</td>\n",
        "            </tr>\n",
        "            <tr>\n",
        "                <td><strong>Modelagem e Comparação de Modelos</strong><br>Implementação e comparação de modelos com métricas como RMSE, MAE e MAPE.</td>\n",
        "                <td>29 de outubro a 10 de novembro de 2024</td>\n",
        "            </tr>\n",
        "            <tr>\n",
        "                <td><strong>Conclusões e Ajustes Finais</strong><br>Preparação para entrega final, revisão e conclusão do projeto.</td>\n",
        "                <td>11 a 16 de novembro de 2024</td>\n",
        "            </tr>\n",
        "            <tr>\n",
        "                <td><strong>Entrega Final</strong><br>Entrega final do projeto com discussão dos resultados e sugestões futuras.</td>\n",
        "                <td>18 de novembro de 2024</td>\n",
        "            </tr>\n",
        "        </tbody>\n",
        "    </table>\n",
        "</body>\n",
        "</html>\n",
        "\n"
      ],
      "metadata": {
        "id": "P_HStQXL9qdY"
      }
    },
    {
      "cell_type": "markdown",
      "metadata": {
        "id": "kZ9OW5ExtM8G"
      },
      "source": [
        "# **Referências**\n",
        "\n",
        "AGÊNCIA BRASIL. Mudanças climáticas propiciam a expansão de doenças como dengue, diz WWF. Disponível em: https://agenciabrasil.ebc.com.br/geral/noticia/2018-05/mudancas-climaticas-propiciam-expansao-de-doencas-como-dengue-diz-wwf. Acesso em: 3 set. 2024.\n",
        "\n",
        "\n",
        "AGÊNCIA BRASIL. Brasil registra alta na emissão de gases de efeito estufa. Disponível em: https://agenciabrasil.ebc.com.br/geral/noticia/2023-03/brasil-registra-alta-na-emissao-de-gases-de-efeito-estufa. Acesso em: 3 set. 2024.\n",
        "\n",
        "\n",
        "BISOGNIN, Cleber; WERNER, Liane. Emissão de dióxido de carbono: um estudo em três países utilizando combinação de previsões. In: POISSON, E. Gestão da produção em foco: volume 9. 2018. Disponível em: https://doi.org/10.5935/978-85-93729-51-5.2018B001. Acesso em: 20 set. 2024. Capítulo 2, p. 16.\n",
        "\n",
        "\n",
        "ENERGIA E AMBIENTE. COP 28: Brasil emitiu 2,3 bilhões de toneladas brutas de gases de efeito estufa em 2022. Disponível em: https://energiaeambiente.org.br/cop-28-brasil-emitiu-23-bilhoes-de-toneladas-brutas-de-gases-de-efeito-estufa-em-2022-20231209. Acesso em: 3 set. 2024.\n",
        "\n",
        "\n",
        "ESTIMATIVAS ANUAIS DE EMISSÕES DE GASES DE EFEITO ESTUFA. [s.l: s.n.]. Disponível em: https://www.gov.br/mcti/pt-br/acompanhe-o-mcti/sirene/publicacoes/estimativas-anuais-de-emissoes-gee/arquivos/6a-ed-estimativas-anuais.pdf. Acesso em: 4 set. 2024.\n",
        "\n",
        "\n",
        "IPCC. INTERGOVERNMENTAL PANEL ON CLIMATE CHANGE. Climate Change 2021: The Physical Science Basis. Cambridge University Press, 2021. Disponível em: https://www.ipcc.ch/report/ar6/wg1/. Acesso em: 4 set. 2024.\n",
        "\n",
        "\n",
        "LUO, Y. CO2 Emission Prediction Based on Prophet, ARIMA and LSTM. Highlights in Science, Engineering and Technology, v. 76, p. 385-390, 2023. DOI: <10.54097/4k6yfr37>. Disponível em: https://www.researchgate.net/publication/377743350_CO2_Emission_Prediction_Based_on_Prophet_ARIMA_and_LSTM. Acesso em: 20 set. 2024.\n",
        "\n",
        "\n",
        "MATTEI, Taise Fátima; CUNHA, Marina Silva da. Emissão de gases do efeito estufa no Brasil: análise de curto e longo prazo. Revista Agronegócio e Meio Ambiente, Maringá, PR, 2021.\n",
        "\n",
        "\n",
        "MORETTIN, P. A.; TOLOI, C. M. C. Análise de séries temporais: modelos lineares univariados. 2018. 1. ed. São Paulo: Blucher, 2018. ISBN 9788521213529. Disponível em: https://books.google.com.br/books?id=UwC5DwAAQBAJ. Acesso em: 25 out.2024.\n",
        "\n",
        "\n",
        "POTENZA, R. F. et al. Análise das emissões brasileiras de gases de efeito estufa e suas implicações para as metas climáticas do Brasil 1970-2020. Brasília, DF: SEEG, 2021. Disponível em: https://energiaeambiente.org.br/wp-content/uploads/2023/04/SEEG-10-anos-v5.pdf. Acesso em: 3 set. 2024.\n",
        "\n",
        "\n",
        "POTENZA, Renata Fragoso; QUINTANA, Gabriel de Oliveira; CARDOSO, Anderson Matheus et al. Análise das emissões brasileiras e suas implicações para as metas climáticas do Brasil: 1970 – 2020. 2021. Disponível em: https://www.oc.eco.br/wp-content/uploads/2021/10/OC_03_relatorio_2021_FINAL.pdf#:~:text=efeito%20estufa%20no%20Brasil%20em%202020.%20No,grande%20emissor%20do%20planeta%20a%20verificar%20alta. Acesso em: 26 out.2024.\n",
        "\n",
        "\n",
        "SEEG. SEEG: 10 anos de monitoramento das emissões de gases de efeito estufa. 2023. Disponível em: https://www.oc.eco.br/wp-content/uploads/2023/03/SEEG-10-anos-v4.pdf. Acesso em: 2 set. 2024.\n",
        "\n",
        "\n",
        "UNEP. Você sabe como os gases de efeito estufa aquecem o planeta? 2023. Disponível em: https://www.unep.org/pt-br/noticias-e-reportagens/reportagem/voce-sabe-como-os-gases-de-efeito-estufa-aquecem-o-planeta. Acesso em: 3 set. 2024.\n",
        "\n",
        "\n",
        "UNITED NATIONS ENVIRONMENT PROGRAMME. Emissions Gap Report 2023: Broken Record – Temperatures hit new highs, yet world fails to cut emissions (again). [s.l.] United Nations Environment Programme, 2023.\n",
        "\n",
        "\n",
        "INSTITUTO DE PESQUISA AMBIENTAL (IPAM). Quais serão os impactos prováveis destas mudanças no nível global? Disponível em: https://ipam.org.br/entenda/quais-serao-os-impactos-provaveis-destas-mudancas-no-nivel-global/. Acesso em: 4 set. 2024.\n",
        "\n",
        "\n"
      ]
    },
    {
      "cell_type": "code",
      "metadata": {
        "id": "BluFtfHuCGzm",
        "cellView": "form"
      },
      "source": [
        "#@title **Avaliação**\n",
        "EDA_e_preprocessamento = 10 #@param {type:\"slider\", min:0, max:10, step:1}\n",
        "\n",
        "Modelo_base = 10 #@param {type:\"slider\", min:0, max:10, step:1}\n",
        "\n",
        "Revisao = 10 #@param {type:\"slider\", min:0, max:10, step:1}\n",
        "\n",
        "Apresentacao_geral = 10 #@param {type:\"slider\", min:0, max:10, step:1}"
      ],
      "execution_count": null,
      "outputs": []
    },
    {
      "cell_type": "code",
      "metadata": {
        "id": "2Gqw7hUZHyle",
        "cellView": "form"
      },
      "source": [
        "#@title **Nota Final**\n",
        "nota = 0.4*EDA_e_preprocessamento + 0.2*Modelo_base + 0.2*Revisao + 0.2*Apresentacao_geral\n",
        "\n",
        "print(f'Nota final do trabalho {nota :.1f}')\n",
        "\n",
        "import numpy as np\n",
        "import pandas as pd\n",
        "\n",
        "alunos = pd.DataFrame()\n",
        "\n",
        "lista_nome = []\n",
        "\n",
        "for i in range(1,6):\n",
        "  exec(\"if Aluno\" + str(i) + \" !='None':  lista = Aluno\" + str(i) + \".split(','); lista_nome.append(lista[0]);\")\n",
        "\n",
        "alunos['nome'] = lista_nome\n",
        "alunos['nota'] = np.round(nota,1)\n",
        "print()\n",
        "display(alunos)"
      ],
      "execution_count": null,
      "outputs": []
    }
  ]
}